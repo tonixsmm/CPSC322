{
 "cells": [
  {
   "cell_type": "markdown",
   "metadata": {},
   "source": [
    "# Project Part 3\n",
    "\n",
    "Name: **Tony Nguyen**\n",
    "\n",
    "Class: CPSC 322 01\n",
    "\n",
    "Term: Fall 2023"
   ]
  },
  {
   "cell_type": "code",
   "execution_count": 1,
   "metadata": {},
   "outputs": [],
   "source": [
    "from data_table import *\n",
    "from data_util import *\n",
    "from data_learn import *\n",
    "from data_eval import *"
   ]
  },
  {
   "cell_type": "markdown",
   "metadata": {},
   "source": [
    "## 1. Data Loading and Cleaning"
   ]
  },
  {
   "cell_type": "markdown",
   "metadata": {},
   "source": [
    "### 1.1 Data Loading\n",
    "**Credit Risk Analysis**\n",
    "\n",
    "Recall from the last project check in, the attributes of the dataset are as follows:\n",
    "* **id**: A unique identifier for the loan listing.\n",
    "* **loan_amnt**: The amount of the loan applied for by the borrower.\n",
    "* **term**: The number of payments on the loan. Values are in months and can be either 36 or 60.\n",
    "* **int_rate**: Interest Rate on the loan.\n",
    "* **installment**: The monthly payment owed by the borrower if the loan originates. Either 36 or 60 months.\n",
    "* **grade**: Loan grade assigned by the loaner. Possible values are from A-G.\n",
    "* **emp_length**: Employment length in years. \n",
    "* **home_ownership**: The home ownership status provided by the borrower during registration. Possible values are: RENT, OWN, MORTGAGE, OTHER.\n",
    "* **annual_inc**: The self-reported annual income provided by the borrower.\n",
    "* **verification_status**: Indicates if the borrower's income was verified by the loaner. Possible values are: Verified, Source Verified, Not Verified.\n",
    "* **issue_d**: The month-year which the loan was funded. Possible values lay between Jan 2008 - Dec 2015.\n",
    "* **loan_status**: Current status of the loan.\n",
    "* **pymnt_plan**: Indicates if a payment plan has been put in place for the loan. Possible values are: y = yes, n = no.\n",
    "* **zip_code**: The first 3 numbers of the zip code provided by the borrower in the loan application.\n",
    "* **addr_state**: The state provided by the borrower in the loan application.\n",
    "* **dti**: The debt-to-income ratio of the borrower (amount of debt divided by annual income).\n",
    "* **delinq_2yrs**: The number of 30+ days past-due incidences of delinquency in the borrower's credit file for the past 2 years.\n",
    "* **earliest_cr_line**: The month-year the borrower's earliest reported credit line was opened.\n",
    "* **inq_last_6mths**: The number of inquiries in past 6 months (excluding auto and mortgage inquiries).\n",
    "* **open_acc**: The number of open credit lines in the borrower's credit file.\n",
    "* **revol_bal**: Total credit revolving balance.\n",
    "* **revol_util**:  Revolving line utilization rate, or the amount of credit the borrower is using relative to all available revolving credit.\n",
    "* **total_acc**: The total number of credit lines currently in the borrower's credit file.\n",
    "* **out_prncp**: Remaining outstanding principal for total amount funded.\n",
    "* **total_pymnt**: Payments received to date for total amount funded.\n",
    "* **total_rec_prncp**: Principal received to date.\n",
    "* **total_rec_int**: Interest received to date.\n",
    "* **total_rec_late_fee**: Late fees received to date.\n",
    "* **recoveries**: Post charge off gross recovery.\n",
    "* **collection_recovery_fee**: Post charge off collection fee.\n",
    "* **last_pymnt_d**: Last month payment was received.\n",
    "* **last_pymnt_amnt**: Last total payment amount received.\n",
    "* **next_pymnt_d**: Next scheduled payment date.\n",
    "* **last_credit_pull_d**: The most recent month the loan company pulled credit for this loan."
   ]
  },
  {
   "cell_type": "code",
   "execution_count": 2,
   "metadata": {},
   "outputs": [
    {
     "data": {
      "text/plain": [
       "     id    loan_amnt  term         int_rate    installment  grade    emp_length    home_ownership      annual_inc  verification_status    issue_d    loan_status    pymnt_plan    zip_code    addr_state      dti    delinq_2yrs  earliest_cr_line      inq_last_6mths    open_acc    revol_bal    revol_util    total_acc    out_prncp    total_pymnt    total_rec_prncp    total_rec_int    total_rec_late_fee    recoveries    collection_recovery_fee  last_pymnt_d      last_pymnt_amnt  next_pymnt_d    last_credit_pull_d\n",
       "-------  -----------  ---------  ----------  -------------  -------  ------------  ----------------  ------------  ---------------------  ---------  -------------  ------------  ----------  ------------  -----  -------------  ------------------  ----------------  ----------  -----------  ------------  -----------  -----------  -------------  -----------------  ---------------  --------------------  ------------  -------------------------  --------------  -----------------  --------------  --------------------\n",
       "1077501         5000  36 months       10.65         162.87  B        10+ years     RENT                     24000  Verified               11-Dec     Fully Paid     n             860xx       AZ            27.65              0  Jan-85                             1           3        13648          83.7            9         0           5861.07            5000              861.07                  0             0                          0     15-Jan                     171.62                  16-Jan\n",
       "1077430         2500  60 months       15.27          59.83  C        < 1 year      RENT                     30000  Source Verified        11-Dec     Charged Off    n             309xx       GA             1                 0  Apr-99                             5           3         1687           9.4            4         0           1008.71             456.46           435.17                  0           117.08                       1.11  13-Apr                     119.66                  13-Sep\n",
       "1077175         2400  36 months       15.96          84.33  C        10+ years     RENT                     12252  Not Verified           11-Dec     Fully Paid     n             606xx       IL             8.72              0  1-Nov                              2           2         2956          98.5           10         0           3003.65            2400              603.65                  0             0                          0     14-Jun                     649.91                  16-Jan\n",
       "1076863        10000  36 months       13.49         339.31  C        10+ years     RENT                     49200  Source Verified        11-Dec     Fully Paid     n             917xx       CA            20                 0  Feb-96                             1          10         5598          21             37         0          12226.3            10000             2209.33                 16.97          0                          0     15-Jan                     357.48                  15-Jan\n",
       "1075358         3000  60 months       12.69          67.79  B        1 year        RENT                     80000  Source Verified        11-Dec     Current        n             972xx       OR            17.94              0  Jan-96                             0          15        27783          53.9           38       766.9         3242.17            2233.1           1009.07                  0             0                          0     16-Jan                      67.79  16-Feb          16-Jan\n",
       "1075269         5000  36 months        7.9          156.46  A        3 years       RENT                     36000  Source Verified        11-Dec     Fully Paid     n             852xx       AZ            11.2               0  4-Nov                              3           9         7963          28.3           12         0           5631.38            5000              631.38                  0             0                          0     15-Jan                     161.03                  15-Sep\n",
       "1069639         7000  60 months       15.96         170.08  C        8 years       RENT                     47004  Not Verified           11-Dec     Current        n             280xx       NC            23.51              0  5-Jul                              1           7        17726          85.6           11      1889.15        8136.84            5110.85          3025.99                  0             0                          0     16-Jan                     170.08  16-Feb          16-Jan\n",
       "1072053         3000  36 months       18.64         109.43  E        9 years       RENT                     48000  Source Verified        11-Dec     Fully Paid     n             900xx       CA             5.35              0  7-Jan                              2           4         8221          87.5            4         0           3938.14            3000              938.14                  0             0                          0     15-Jan                     111.34                  14-Dec\n",
       "1071795         5600  60 months       21.28         152.39  F        4 years       OWN                      40000  Source Verified        11-Dec     Charged Off    n             958xx       CA             5.55              0  4-Apr                              2          11         5210          32.6           13         0            646.02             162.02           294.94                  0           189.06                       2.09  12-Apr                     152.39                  12-Aug\n",
       "1071570         5375  60 months       12.69         121.45  B        < 1 year      RENT                     15000  Verified               11-Dec     Charged Off    n             774xx       TX            18.08              0  4-Sep                              0           2         9279          36.5            3         0           1476.19             673.48           533.42                  0           269.29                       2.52  12-Nov                     121.45                  13-Mar"
      ]
     },
     "execution_count": 2,
     "metadata": {},
     "output_type": "execute_result"
    }
   ],
   "source": [
    "credit_original = DataTable(['id', 'loan_amnt', 'term', 'int_rate', 'installment', 'grade', 'emp_length', 'home_ownership', 'annual_inc', 'verification_status', 'issue_d', 'loan_status', 'pymnt_plan', 'zip_code', 'addr_state', 'dti', 'delinq_2yrs', 'earliest_cr_line', 'inq_last_6mths', 'open_acc', 'revol_bal', 'revol_util', 'total_acc', 'out_prncp', 'total_pymnt', 'total_rec_prncp', 'total_rec_int', 'total_rec_late_fee', 'recoveries', 'collection_recovery_fee', 'last_pymnt_d', 'last_pymnt_amnt', 'next_pymnt_d', 'last_credit_pull_d'])\n",
    "credit_original.load('dataset/loan_trimmed.csv')\n",
    "credit_original.rows(range(10))"
   ]
  },
  {
   "cell_type": "markdown",
   "metadata": {},
   "source": [
    "**Zillow Home Value Index**\n",
    "\n",
    "The Zillow Home Value Index (ZHVI) is a time series tracking the monthly median home value in a particular zip code area. The attributes of the dataset are as follows:\n",
    "* **RegionID**: Unique identifier for the region.\n",
    "* **SizeRank**: Rank of the region based on median home value index.\n",
    "* **RegionName**: Zip code.\n",
    "* **City**: City name.\n",
    "* **StateName**: State name.\n",
    "* **Metro**: Metro area name.\n",
    "* **CountyName**: County name."
   ]
  },
  {
   "cell_type": "code",
   "execution_count": 3,
   "metadata": {},
   "outputs": [
    {
     "data": {
      "text/plain": [
       "  RegionID    SizeRank    RegionName  StateName    City          Metro                                    07-Jun    07-Jul    07-Aug    07-Sep    07-Oct    07-Nov    07-Dec    08-Jan    08-Feb    08-Mar    08-Apr    08-May    08-Jun    08-Jul    08-Aug    08-Sep    08-Oct    08-Nov    08-Dec    09-Jan    09-Feb    09-Mar    09-Apr    09-May    09-Jun    09-Jul    09-Aug    09-Sep    09-Oct    09-Nov    09-Dec    10-Jan    10-Feb    10-Mar    10-Apr    10-May    10-Jun    10-Jul    10-Aug    10-Sep    10-Oct    10-Nov    10-Dec    11-Jan    11-Feb    11-Mar    11-Apr    11-May    11-Jun    11-Jul    11-Aug    11-Sep    11-Oct    11-Nov    11-Dec    12-Jan    12-Feb    12-Mar    12-Apr    12-May    12-Jun    12-Jul    12-Aug    12-Sep    12-Oct    12-Nov    12-Dec    13-Jan    13-Feb    13-Mar    13-Apr    13-May    13-Jun    13-Jul    13-Aug    13-Sep    13-Oct    13-Nov    13-Dec    14-Jan    14-Feb    14-Mar    14-Apr    14-May    14-Jun    14-Jul    14-Aug    14-Sep    14-Oct    14-Nov    14-Dec    15-Jan    15-Feb    15-Mar    15-Apr    15-May    15-Jun    15-Jul    15-Aug    15-Sep    15-Oct    15-Nov    15-Dec    16-Jan\n",
       "----------  ----------  ------------  -----------  ------------  -------------------------------------  --------  --------  --------  --------  --------  --------  --------  --------  --------  --------  --------  --------  --------  --------  --------  --------  --------  --------  --------  --------  --------  --------  --------  --------  --------  --------  --------  --------  --------  --------  --------  --------  --------  --------  --------  --------  --------  --------  --------  --------  --------  --------  --------  --------  --------  --------  --------  --------  --------  --------  --------  --------  --------  --------  --------  --------  --------  --------  --------  --------  --------  --------  --------  --------  --------  --------  --------  --------  --------  --------  --------  --------  --------  --------  --------  --------  --------  --------  --------  --------  --------  --------  --------  --------  --------  --------  --------  --------  --------  --------  --------  --------  --------  --------  --------  --------  --------  --------  --------  --------  --------  --------  --------  --------\n",
       "     91982           1         77494  TX           Katy          Houston-The Woodlands-Sugar Land, TX     240953    241514    242530    243767    244946    245661    246586    246935    247089    246541    246048    245839    246097    246678    246919    246611    245480    244157    243116    242620    243074    243920    245076    245518    245862    246345    246686    246610    246825    247551    248547    249455    250603    252425    254010    255280    255842    255479    254527    252293    250157    248187    247254    247138    247191    246968    246442    245819    245674    245478    244882    244337    243859    243997    243864    244530    245574    247057    248107    248872    249751    250603    251719    252764    253810    254845    255692    256864    258141    259886    261771    263997    266739    269836    273288    276947    280563    283942    286577    288665    290359    292183    293996    295704    297048    298604    300834    304345    307879    311276    313579    315980    318136    320440    322252    324003    325201    326152    326649    327384    328089    328644    328522    328197\n",
       "     61148           2          8701  NJ           Lakewood      New York-Newark-Jersey City, NY-NJ-PA    316111    314519    312605    310730    308534    305345    302392    300847    300225    299053    295182    290555    286689    284365    282234    279752    276882    273981    271706    269160    266376    262862    260284    257971    256066    254059    252610    251451    250984    250756    250839    250356    250069    249837    249929    247547    243954    239648    237478    235863    234324    232873    231942    231406    230622    229740    228105    226074    223590    220945    218789    217047    216221    215114    213798    212772    212661    213536    214513    216056    217818    219687    220853    221576    221831    222310    223028    224200    225120    225666    226524    228168    230868    233817    236690    239067    240721    242201    243475    244936    246110    247875    250438    253716    256155    257693    258806    260342    262176    263758    265012    266543    268306    270409    272532    275454    278725    282180    285627    289481    293263    297200    300693    304227\n",
       "     91940           3         77449  TX           Katy          Houston-The Woodlands-Sugar Land, TX     125121    125626    126163    126671    127069    127258    127269    126779    126042    125278    124846    124424    123978    123563    122893    121936    120915    119950    118896    117828    117241    117003    116989    117020    117184    117538    117774    117928    117821    117857    118054    118163    118236    118409    118827    119187    119211    118626    117524    116445    115573    115019    114557    114063    113394    112407    111379    110586    110046    109814    109685    109447    109007    108052    107080    106486    106411    106500    106591    106833    107309    107790    108303    108714    109117    109495    109729    110096    110539    111501    112615    114000    115503    117232    119104    120862    122632    124244    125701    127017    128430    129886    131218    132304    133321    134467    135750    137090    138330    139836    141402    143200    144808    146478    147947    149285    150553    151767    153129    154436    155729    156939    158119    159306\n",
       "     62080           4         11368  NY           New York      New York-Newark-Jersey City, NY-NJ-PA    358294    357181    356192    356450    358886    360134    361468    360387    358277    354061    350859    348755    348028    347147    345704    342351    339349    335899    328549    317648    306117    299385    296243    294085    292431    289852    287332    285161    283325    282635    282143    282002    280919    279242    277999    277588    278635    279271    280099    281315    283388    284364    284098    284037    284666    285193    284788    284254    284272    284688    285358    284978    283940    282554    282075    281374    280775    280197    280634    281417    283179    286440    289165    290209    289061    288374    288368    288824    288947    288420    287440    287013    289347    293858    297456    300318    302743    306611    309172    311714    314120    316745    318443    321273    325379    330517    333744    336592    339843    344537    347743    350183    351581    353889    355948    358031    359646    362483    366637    372201    376986    381050    386243    391821\n",
       "     91733           5         77084  TX           Houston       Houston-The Woodlands-Sugar Land, TX     123815    124264    124779    125141    125532    125799    126048    125725    125156    124473    124178    123884    123574    123229    122757    122088    121461    120808    120144    119378    119051    118950    119090    119286    119616    120098    120429    120563    120324    120241    120352    120483    120552    120712    121027    121309    121268    120663    119524    118362    117428    116802    116298    115839    115307    114473    113717    113136    112753    112521    112424    112358    112141    111384    110649    110303    110425    110517    110421    110295    110399    110639    111037    111489    111867    112150    112217    112386    112709    113488    114422    115664    117026    118573    120115    121441    122761    124048    125417    126763    128149    129620    130974    132271    133397    134622    135827    136980    138064    139433    140967    142705    144331    146001    147519    148889    150216    151425    152631    153588    154430    155319    156335    157557\n",
       "     93144           6         79936  TX           El Paso       El Paso, TX                              129881    131429    132410    132950    133341    134004    134521    133976    132838    131533    130903    130292    129573    128554    127527    126797    126587    126523    126116    125572    125195    124877    124325    123695    123223    123065    122906    122765    122628    122677    122924    123626    124083    124468    124257    124289    124023    123690    123223    122999    122680    122360    121930    121561    121220    121096    121254    121219    120838    120435    120223    119963    119572    119214    119146    119337    119191    118729    118038    117764    117664    117706    117702    117669    117452    117050    116770    116810    117165    117645    117936    118152    118281    118415    118428    118114    117607    117146    116954    117213    117457    117884    118154    118502    118679    118852    118990    118992    118679    118366    118190    118262    118389    118763    119283    119780    120118    120426    120995    121451    121734    121629    121547    121519\n",
       "     62093           7         11385  NY           New York      New York-Newark-Jersey City, NY-NJ-PA    520708    518576    515338    513155    513574    514167    515898    517459    517676    515657    512199    507757    504251    501147    498047    493140    488390    483933    479005    473866    468799    464703    461205    457435    453530    448195    443820    441588    439505    439110    438452    438536    437906    436934    437119    437497    438891    439802    440367    441149    442371    442866    441900    441633    441406    441718    440337    438420    435774    433917    432688    432052    431489    430947    430433    429343    428356    427406    427794    429636    432655    436189    439165    441438    442501    443138    443334    443256    443877    444560    446382    448485    452881    457730    462347    466629    471124    475728    478914    480712    483097    486454    492265    497944    503342    506743    509314    512598    516669    522295    527252    530964    533610    535089    537473    540442    545057    550169    555633    562023    567802    572965    578219    584421\n",
       "     92593           8         78660  TX           Pflugerville  Austin-Round Rock-Georgetown, TX         169842    170468    171069    171823    172670    173600    174686    175431    175583    175602    175657    175821    175493    175142    174622    174073    173326    171854    170393    169229    168748    168321    167679    167266    167020    166920    166809    166623    166318    166399    166569    166488    166244    166033    166224    166444    166586    166318    165793    165168    164426    163412    162379    161670    161185    160933    160993    161003    160744    160133    160003    160015    159972    159512    158821    158488    158538    159189    160207    161034    161849    162372    163019    163858    165099    166442    167515    168391    169414    170717    172092    173263    174525    175722    177008    178215    179587    181114    182512    183879    185104    186363    187634    189068    190664    192269    193876    195517    197121    198870    200441    202330    204123    206102    207710    209103    210605    212251    214195    216002    217767    219484    221297    223455\n",
       "     62019           9         11208  NY           New York      New York-Newark-Jersey City, NY-NJ-PA    424716    425847    428800    427610    426518    426676    429068    432756    435719    439245    438636    435621    433598    433177    434144    431902    425343    416121    408034    401738    394797    386643    377297    366505    357449    350841    346450    341521    337050    336625    338105    340582    342526    340289    336826    332381    332447    332787    331399    329136    327563    324893    321417    317915    316287    316185    316692    317547    318601    317432    316506    314064    313063    311317    310139    308317    306599    305657    307194    309649    310774    310876    310031    311726    312112    311470    309817    309240    310091    310476    311720    314377    317345    319799    320708    323905    326725    330352    333010    335712    338877    341451    344687    348385    350732    351948    351529    353746    355779    359075    362107    364910    368158    371071    376746    382707    386830    390484    393713    399261    403719    407426    411360    414448\n",
       "     95992          10         90011  CA           Los Angeles   Los Angeles-Long Beach-Anaheim, CA       353108    352731    351379    349382    346445    343471    340088    337790    334439    329298    321674    312387    303338    294092    284876    275974    264216    250830    235479    225435    217817    213071    206065    199135    190126    181703    174773    170692    167969    166460    164898    164000    162671    162493    162861    164412    165460    166411    166217    166220    166091    166813    167983    168220    168268    166167    164521    161955    161536    161429    161558    161038    160646    160369    160375    159495    158547    156527    154994    153968    153579    154000    155314    157673    160712    163861    167611    169795    170914    170285    170884    173160    177605    183291    189645    196774    203901    209461    214509    216914    218775    218984    220327    222371    224498    226810    230243    235210    241141    247117    252615    255395    256270    255620    256195    257417    259029    260110    259990    258979    257824    256388    255476    257912"
      ]
     },
     "execution_count": 3,
     "metadata": {},
     "output_type": "execute_result"
    }
   ],
   "source": [
    "zillow_original = DataTable([\"RegionID\", \"SizeRank\", \"RegionName\", \"StateName\", \"City\", \"Metro\", \"07-Jun\", \"07-Jul\", \"07-Aug\", \"07-Sep\", \"07-Oct\", \"07-Nov\", \"07-Dec\", \"08-Jan\", \"08-Feb\", \"08-Mar\", \"08-Apr\", \"08-May\", \"08-Jun\", \"08-Jul\", \"08-Aug\", \"08-Sep\", \"08-Oct\", \"08-Nov\", \"08-Dec\", \"09-Jan\", \"09-Feb\", \"09-Mar\", \"09-Apr\", \"09-May\", \"09-Jun\", \"09-Jul\", \"09-Aug\", \"09-Sep\", \"09-Oct\", \"09-Nov\", \"09-Dec\", \"10-Jan\", \"10-Feb\", \"10-Mar\", \"10-Apr\", \"10-May\", \"10-Jun\", \"10-Jul\", \"10-Aug\", \"10-Sep\", \"10-Oct\", \"10-Nov\", \"10-Dec\", \"11-Jan\", \"11-Feb\", \"11-Mar\", \"11-Apr\", \"11-May\", \"11-Jun\", \"11-Jul\", \"11-Aug\", \"11-Sep\", \"11-Oct\", \"11-Nov\", \"11-Dec\", \"12-Jan\", \"12-Feb\", \"12-Mar\", \"12-Apr\", \"12-May\", \"12-Jun\", \"12-Jul\", \"12-Aug\", \"12-Sep\", \"12-Oct\", \"12-Nov\", \"12-Dec\", \"13-Jan\", \"13-Feb\", \"13-Mar\", \"13-Apr\", \"13-May\", \"13-Jun\", \"13-Jul\", \"13-Aug\", \"13-Sep\", \"13-Oct\", \"13-Nov\", \"13-Dec\", \"14-Jan\", \"14-Feb\", \"14-Mar\", \"14-Apr\", \"14-May\", \"14-Jun\", \"14-Jul\", \"14-Aug\", \"14-Sep\", \"14-Oct\", \"14-Nov\", \"14-Dec\", \"15-Jan\", \"15-Feb\", \"15-Mar\", \"15-Apr\", \"15-May\", \"15-Jun\", \"15-Jul\", \"15-Aug\", \"15-Sep\", \"15-Oct\", \"15-Nov\", \"15-Dec\", \"16-Jan\"])\n",
    "zillow_original.load('dataset/zhvi.csv')\n",
    "zillow_original.rows(range(10))"
   ]
  },
  {
   "cell_type": "markdown",
   "metadata": {},
   "source": [
    "### 1.2 Discretization"
   ]
  },
  {
   "cell_type": "markdown",
   "metadata": {},
   "source": [
    "Since this project wants to predict the `loan_status`, we encode Credit Risk Analysis's `loan_status` as follows:\n",
    "* **High risk, *Denote as 3***: Charged Off, Default, Late (16-30 days), Late (31-120 days).\n",
    "* **Medium risk, *Denote as 2***: Issued, In Grace Period\n",
    "* **Low risk, *Denote as 1***: Current, Fully Paid."
   ]
  },
  {
   "cell_type": "code",
   "execution_count": 4,
   "metadata": {},
   "outputs": [],
   "source": [
    "while credit_original.get_column_data('loan_status').count('Does not meet the credit policy. Status:Fully Paid') > 0 or credit_original.get_column_data('loan_status').count('Does not meet the credit policy. Status:Charged Off') > 0:\n",
    "    for i in range(credit_original.row_count()):\n",
    "        try:\n",
    "            if (credit_original[i]['loan_status'] == 'Does not meet the credit policy. Status:Fully Paid'\n",
    "                or credit_original[i]['loan_status'] == 'Does not meet the credit policy. Status:Charged Off'):\n",
    "                del credit_original[i]\n",
    "        except IndexError:\n",
    "            break"
   ]
  },
  {
   "cell_type": "code",
   "execution_count": 5,
   "metadata": {},
   "outputs": [],
   "source": [
    "high = 0\n",
    "medium = 0\n",
    "low = 0\n",
    "\n",
    "for i in range(credit_original.row_count()):\n",
    "    if credit_original[i]['loan_status'] == 'Fully Paid' or credit_original[i]['loan_status'] == 'Current':\n",
    "        credit_original[i]['loan_status'] = 1\n",
    "        low += 1\n",
    "    elif credit_original[i]['loan_status'] == 'Issued' or credit_original[i]['loan_status'] == 'In Grace Period':\n",
    "        credit_original[i]['loan_status'] = 2\n",
    "        medium += 1\n",
    "    elif (credit_original[i]['loan_status'] == 'Late (16-30 days)' or credit_original[i]['loan_status'] == 'Late (31-120 days)'\n",
    "            or credit_original[i]['loan_status'] == 'Default' or credit_original[i]['loan_status'] == 'Charged Off'):\n",
    "        credit_original[i]['loan_status'] = 3\n",
    "        high += 1"
   ]
  },
  {
   "cell_type": "code",
   "execution_count": 6,
   "metadata": {},
   "outputs": [
    {
     "name": "stdout",
     "output_type": "stream",
     "text": [
      "     id    loan_amnt  term         int_rate    installment  grade    emp_length    home_ownership      annual_inc  verification_status    issue_d      loan_status  pymnt_plan    zip_code    addr_state      dti    delinq_2yrs  earliest_cr_line      inq_last_6mths    open_acc    revol_bal    revol_util    total_acc    out_prncp    total_pymnt    total_rec_prncp    total_rec_int    total_rec_late_fee    recoveries    collection_recovery_fee  last_pymnt_d      last_pymnt_amnt  next_pymnt_d    last_credit_pull_d\n",
      "-------  -----------  ---------  ----------  -------------  -------  ------------  ----------------  ------------  ---------------------  ---------  -------------  ------------  ----------  ------------  -----  -------------  ------------------  ----------------  ----------  -----------  ------------  -----------  -----------  -------------  -----------------  ---------------  --------------------  ------------  -------------------------  --------------  -----------------  --------------  --------------------\n",
      "1077501         5000  36 months       10.65         162.87  B        10+ years     RENT                     24000  Verified               11-Dec                 1  n             860xx       AZ            27.65              0  Jan-85                             1           3        13648          83.7            9         0           5861.07            5000              861.07                  0             0                          0     15-Jan                     171.62                  16-Jan\n",
      "1077430         2500  60 months       15.27          59.83  C        < 1 year      RENT                     30000  Source Verified        11-Dec                 3  n             309xx       GA             1                 0  Apr-99                             5           3         1687           9.4            4         0           1008.71             456.46           435.17                  0           117.08                       1.11  13-Apr                     119.66                  13-Sep\n",
      "1077175         2400  36 months       15.96          84.33  C        10+ years     RENT                     12252  Not Verified           11-Dec                 1  n             606xx       IL             8.72              0  1-Nov                              2           2         2956          98.5           10         0           3003.65            2400              603.65                  0             0                          0     14-Jun                     649.91                  16-Jan\n",
      "1076863        10000  36 months       13.49         339.31  C        10+ years     RENT                     49200  Source Verified        11-Dec                 1  n             917xx       CA            20                 0  Feb-96                             1          10         5598          21             37         0          12226.3            10000             2209.33                 16.97          0                          0     15-Jan                     357.48                  15-Jan\n",
      "1075358         3000  60 months       12.69          67.79  B        1 year        RENT                     80000  Source Verified        11-Dec                 1  n             972xx       OR            17.94              0  Jan-96                             0          15        27783          53.9           38       766.9         3242.17            2233.1           1009.07                  0             0                          0     16-Jan                      67.79  16-Feb          16-Jan\n",
      "1075269         5000  36 months        7.9          156.46  A        3 years       RENT                     36000  Source Verified        11-Dec                 1  n             852xx       AZ            11.2               0  4-Nov                              3           9         7963          28.3           12         0           5631.38            5000              631.38                  0             0                          0     15-Jan                     161.03                  15-Sep\n",
      "1069639         7000  60 months       15.96         170.08  C        8 years       RENT                     47004  Not Verified           11-Dec                 1  n             280xx       NC            23.51              0  5-Jul                              1           7        17726          85.6           11      1889.15        8136.84            5110.85          3025.99                  0             0                          0     16-Jan                     170.08  16-Feb          16-Jan\n",
      "1072053         3000  36 months       18.64         109.43  E        9 years       RENT                     48000  Source Verified        11-Dec                 1  n             900xx       CA             5.35              0  7-Jan                              2           4         8221          87.5            4         0           3938.14            3000              938.14                  0             0                          0     15-Jan                     111.34                  14-Dec\n",
      "1071795         5600  60 months       21.28         152.39  F        4 years       OWN                      40000  Source Verified        11-Dec                 3  n             958xx       CA             5.55              0  4-Apr                              2          11         5210          32.6           13         0            646.02             162.02           294.94                  0           189.06                       2.09  12-Apr                     152.39                  12-Aug\n",
      "1071570         5375  60 months       12.69         121.45  B        < 1 year      RENT                     15000  Verified               11-Dec                 3  n             774xx       TX            18.08              0  4-Sep                              0           2         9279          36.5            3         0           1476.19             673.48           533.42                  0           269.29                       2.52  12-Nov                     121.45                  13-Mar\n"
     ]
    }
   ],
   "source": [
    "print(credit_original.rows(range(10)))"
   ]
  },
  {
   "cell_type": "markdown",
   "metadata": {},
   "source": [
    "### 1.3 Data Cleaning\n",
    "\n",
    "#### 1.3.1 `term` attribute"
   ]
  },
  {
   "cell_type": "markdown",
   "metadata": {},
   "source": [
    "`term` attribute is shown in months, so we need to remove the \"months\" string and convert the attribute to an integer. This is performed so that the attribute name is consistent across all datasets."
   ]
  },
  {
   "cell_type": "code",
   "execution_count": 7,
   "metadata": {},
   "outputs": [],
   "source": [
    "term_attr = credit_original.get_column_data('term')"
   ]
  },
  {
   "cell_type": "code",
   "execution_count": 8,
   "metadata": {},
   "outputs": [],
   "source": [
    "for i in range(credit_original.row_count()):\n",
    "    credit_original[i]['term'] = int(credit_original[i]['term'][:2])"
   ]
  },
  {
   "cell_type": "code",
   "execution_count": 9,
   "metadata": {},
   "outputs": [
    {
     "name": "stdout",
     "output_type": "stream",
     "text": [
      "Unique values in term:  {36, 60}\n"
     ]
    }
   ],
   "source": [
    "print('Unique values in term: ', set(credit_original.get_column_data('term')))"
   ]
  },
  {
   "cell_type": "code",
   "execution_count": 10,
   "metadata": {},
   "outputs": [
    {
     "name": "stdout",
     "output_type": "stream",
     "text": [
      "     id    loan_amnt    term    int_rate    installment  grade    emp_length    home_ownership      annual_inc  verification_status    issue_d      loan_status  pymnt_plan    zip_code    addr_state      dti    delinq_2yrs  earliest_cr_line      inq_last_6mths    open_acc    revol_bal    revol_util    total_acc    out_prncp    total_pymnt    total_rec_prncp    total_rec_int    total_rec_late_fee    recoveries    collection_recovery_fee  last_pymnt_d      last_pymnt_amnt  next_pymnt_d    last_credit_pull_d\n",
      "-------  -----------  ------  ----------  -------------  -------  ------------  ----------------  ------------  ---------------------  ---------  -------------  ------------  ----------  ------------  -----  -------------  ------------------  ----------------  ----------  -----------  ------------  -----------  -----------  -------------  -----------------  ---------------  --------------------  ------------  -------------------------  --------------  -----------------  --------------  --------------------\n",
      "1077501         5000      36       10.65         162.87  B        10+ years     RENT                     24000  Verified               11-Dec                 1  n             860xx       AZ            27.65              0  Jan-85                             1           3        13648          83.7            9         0           5861.07            5000              861.07                  0             0                          0     15-Jan                     171.62                  16-Jan\n",
      "1077430         2500      60       15.27          59.83  C        < 1 year      RENT                     30000  Source Verified        11-Dec                 3  n             309xx       GA             1                 0  Apr-99                             5           3         1687           9.4            4         0           1008.71             456.46           435.17                  0           117.08                       1.11  13-Apr                     119.66                  13-Sep\n",
      "1077175         2400      36       15.96          84.33  C        10+ years     RENT                     12252  Not Verified           11-Dec                 1  n             606xx       IL             8.72              0  1-Nov                              2           2         2956          98.5           10         0           3003.65            2400              603.65                  0             0                          0     14-Jun                     649.91                  16-Jan\n",
      "1076863        10000      36       13.49         339.31  C        10+ years     RENT                     49200  Source Verified        11-Dec                 1  n             917xx       CA            20                 0  Feb-96                             1          10         5598          21             37         0          12226.3            10000             2209.33                 16.97          0                          0     15-Jan                     357.48                  15-Jan\n",
      "1075358         3000      60       12.69          67.79  B        1 year        RENT                     80000  Source Verified        11-Dec                 1  n             972xx       OR            17.94              0  Jan-96                             0          15        27783          53.9           38       766.9         3242.17            2233.1           1009.07                  0             0                          0     16-Jan                      67.79  16-Feb          16-Jan\n",
      "1075269         5000      36        7.9          156.46  A        3 years       RENT                     36000  Source Verified        11-Dec                 1  n             852xx       AZ            11.2               0  4-Nov                              3           9         7963          28.3           12         0           5631.38            5000              631.38                  0             0                          0     15-Jan                     161.03                  15-Sep\n",
      "1069639         7000      60       15.96         170.08  C        8 years       RENT                     47004  Not Verified           11-Dec                 1  n             280xx       NC            23.51              0  5-Jul                              1           7        17726          85.6           11      1889.15        8136.84            5110.85          3025.99                  0             0                          0     16-Jan                     170.08  16-Feb          16-Jan\n",
      "1072053         3000      36       18.64         109.43  E        9 years       RENT                     48000  Source Verified        11-Dec                 1  n             900xx       CA             5.35              0  7-Jan                              2           4         8221          87.5            4         0           3938.14            3000              938.14                  0             0                          0     15-Jan                     111.34                  14-Dec\n",
      "1071795         5600      60       21.28         152.39  F        4 years       OWN                      40000  Source Verified        11-Dec                 3  n             958xx       CA             5.55              0  4-Apr                              2          11         5210          32.6           13         0            646.02             162.02           294.94                  0           189.06                       2.09  12-Apr                     152.39                  12-Aug\n",
      "1071570         5375      60       12.69         121.45  B        < 1 year      RENT                     15000  Verified               11-Dec                 3  n             774xx       TX            18.08              0  4-Sep                              0           2         9279          36.5            3         0           1476.19             673.48           533.42                  0           269.29                       2.52  12-Nov                     121.45                  13-Mar\n"
     ]
    }
   ],
   "source": [
    "print(credit_original.rows(range(10)))"
   ]
  },
  {
   "cell_type": "markdown",
   "metadata": {},
   "source": [
    "#### 1.3.2 `grade` attribute\n",
    "\n",
    "Encoding `grade` attribute A - G to 1 - 7."
   ]
  },
  {
   "cell_type": "code",
   "execution_count": 11,
   "metadata": {},
   "outputs": [],
   "source": [
    "for i in range(credit_original.row_count()):\n",
    "    if credit_original[i]['grade'] == 'A':\n",
    "        credit_original[i]['grade'] = 1\n",
    "    elif credit_original[i]['grade'] == 'B':\n",
    "        credit_original[i]['grade'] = 2\n",
    "    elif credit_original[i]['grade'] == 'C':\n",
    "        credit_original[i]['grade'] = 3\n",
    "    elif credit_original[i]['grade'] == 'D':\n",
    "        credit_original[i]['grade'] = 4\n",
    "    elif credit_original[i]['grade'] == 'E':\n",
    "        credit_original[i]['grade'] = 5\n",
    "    elif credit_original[i]['grade'] == 'F':\n",
    "        credit_original[i]['grade'] = 6\n",
    "    elif credit_original[i]['grade'] == 'G':\n",
    "        credit_original[i]['grade'] = 7"
   ]
  },
  {
   "cell_type": "code",
   "execution_count": 12,
   "metadata": {},
   "outputs": [
    {
     "name": "stdout",
     "output_type": "stream",
     "text": [
      "Unique values in grade:  {1, 2, 3, 4, 5, 6, 7}\n"
     ]
    }
   ],
   "source": [
    "print('Unique values in grade: ', set(credit_original.get_column_data('grade')))"
   ]
  },
  {
   "cell_type": "code",
   "execution_count": 13,
   "metadata": {},
   "outputs": [
    {
     "name": "stdout",
     "output_type": "stream",
     "text": [
      "     id    loan_amnt    term    int_rate    installment    grade  emp_length    home_ownership      annual_inc  verification_status    issue_d      loan_status  pymnt_plan    zip_code    addr_state      dti    delinq_2yrs  earliest_cr_line      inq_last_6mths    open_acc    revol_bal    revol_util    total_acc    out_prncp    total_pymnt    total_rec_prncp    total_rec_int    total_rec_late_fee    recoveries    collection_recovery_fee  last_pymnt_d      last_pymnt_amnt  next_pymnt_d    last_credit_pull_d\n",
      "-------  -----------  ------  ----------  -------------  -------  ------------  ----------------  ------------  ---------------------  ---------  -------------  ------------  ----------  ------------  -----  -------------  ------------------  ----------------  ----------  -----------  ------------  -----------  -----------  -------------  -----------------  ---------------  --------------------  ------------  -------------------------  --------------  -----------------  --------------  --------------------\n",
      "1077501         5000      36       10.65         162.87        2  10+ years     RENT                     24000  Verified               11-Dec                 1  n             860xx       AZ            27.65              0  Jan-85                             1           3        13648          83.7            9         0           5861.07            5000              861.07                  0             0                          0     15-Jan                     171.62                  16-Jan\n",
      "1077430         2500      60       15.27          59.83        3  < 1 year      RENT                     30000  Source Verified        11-Dec                 3  n             309xx       GA             1                 0  Apr-99                             5           3         1687           9.4            4         0           1008.71             456.46           435.17                  0           117.08                       1.11  13-Apr                     119.66                  13-Sep\n",
      "1077175         2400      36       15.96          84.33        3  10+ years     RENT                     12252  Not Verified           11-Dec                 1  n             606xx       IL             8.72              0  1-Nov                              2           2         2956          98.5           10         0           3003.65            2400              603.65                  0             0                          0     14-Jun                     649.91                  16-Jan\n",
      "1076863        10000      36       13.49         339.31        3  10+ years     RENT                     49200  Source Verified        11-Dec                 1  n             917xx       CA            20                 0  Feb-96                             1          10         5598          21             37         0          12226.3            10000             2209.33                 16.97          0                          0     15-Jan                     357.48                  15-Jan\n",
      "1075358         3000      60       12.69          67.79        2  1 year        RENT                     80000  Source Verified        11-Dec                 1  n             972xx       OR            17.94              0  Jan-96                             0          15        27783          53.9           38       766.9         3242.17            2233.1           1009.07                  0             0                          0     16-Jan                      67.79  16-Feb          16-Jan\n",
      "1075269         5000      36        7.9          156.46        1  3 years       RENT                     36000  Source Verified        11-Dec                 1  n             852xx       AZ            11.2               0  4-Nov                              3           9         7963          28.3           12         0           5631.38            5000              631.38                  0             0                          0     15-Jan                     161.03                  15-Sep\n",
      "1069639         7000      60       15.96         170.08        3  8 years       RENT                     47004  Not Verified           11-Dec                 1  n             280xx       NC            23.51              0  5-Jul                              1           7        17726          85.6           11      1889.15        8136.84            5110.85          3025.99                  0             0                          0     16-Jan                     170.08  16-Feb          16-Jan\n",
      "1072053         3000      36       18.64         109.43        5  9 years       RENT                     48000  Source Verified        11-Dec                 1  n             900xx       CA             5.35              0  7-Jan                              2           4         8221          87.5            4         0           3938.14            3000              938.14                  0             0                          0     15-Jan                     111.34                  14-Dec\n",
      "1071795         5600      60       21.28         152.39        6  4 years       OWN                      40000  Source Verified        11-Dec                 3  n             958xx       CA             5.55              0  4-Apr                              2          11         5210          32.6           13         0            646.02             162.02           294.94                  0           189.06                       2.09  12-Apr                     152.39                  12-Aug\n",
      "1071570         5375      60       12.69         121.45        2  < 1 year      RENT                     15000  Verified               11-Dec                 3  n             774xx       TX            18.08              0  4-Sep                              0           2         9279          36.5            3         0           1476.19             673.48           533.42                  0           269.29                       2.52  12-Nov                     121.45                  13-Mar\n"
     ]
    }
   ],
   "source": [
    "print(credit_original.rows(range(10)))"
   ]
  },
  {
   "cell_type": "markdown",
   "metadata": {},
   "source": [
    "#### 1.3.3 `emp_length` attribute"
   ]
  },
  {
   "cell_type": "markdown",
   "metadata": {},
   "source": [
    "Given the attribute above, encoding `emp_length` attribute to -1 - 10. Among them:\n",
    "* -1: Not available\n",
    "* 0: Less than 1 year\n",
    "* 1: 1 year\n",
    "* ...\n",
    "* 10: 10+ years"
   ]
  },
  {
   "cell_type": "code",
   "execution_count": 14,
   "metadata": {},
   "outputs": [],
   "source": [
    "emp_length_attr = credit_original.get_column_data('emp_length')"
   ]
  },
  {
   "cell_type": "code",
   "execution_count": 15,
   "metadata": {},
   "outputs": [
    {
     "name": "stdout",
     "output_type": "stream",
     "text": [
      "Unique values in emp_length:  {'7 years', '5 years', '4 years', '6 years', '8 years', '3 years', '1 year', '10+ years', '2 years', '9 years', 'n/a', '< 1 year'}\n"
     ]
    }
   ],
   "source": [
    "print('Unique values in emp_length: ', set(emp_length_attr))"
   ]
  },
  {
   "cell_type": "code",
   "execution_count": 16,
   "metadata": {},
   "outputs": [],
   "source": [
    "for i in range(credit_original.row_count()):\n",
    "    if credit_original[i]['emp_length'] == 'n/a':\n",
    "        credit_original[i]['emp_length'] = -1\n",
    "    elif credit_original[i]['emp_length'] == '< 1 year':\n",
    "        credit_original[i]['emp_length'] = 0\n",
    "    elif credit_original[i]['emp_length'] == '10+ years':\n",
    "        credit_original[i]['emp_length'] = 10\n",
    "    else:\n",
    "        credit_original[i]['emp_length'] = int(credit_original[i]['emp_length'][:2])"
   ]
  },
  {
   "cell_type": "code",
   "execution_count": 17,
   "metadata": {},
   "outputs": [
    {
     "name": "stdout",
     "output_type": "stream",
     "text": [
      "Unique values in emp_length after cleaning:  {0, 1, 2, 3, 4, 5, 6, 7, 8, 9, 10, -1}\n"
     ]
    }
   ],
   "source": [
    "print('Unique values in emp_length after cleaning: ', set(credit_original.get_column_data('emp_length')))"
   ]
  },
  {
   "cell_type": "code",
   "execution_count": 18,
   "metadata": {},
   "outputs": [
    {
     "name": "stdout",
     "output_type": "stream",
     "text": [
      "     id    loan_amnt    term    int_rate    installment    grade    emp_length  home_ownership      annual_inc  verification_status    issue_d      loan_status  pymnt_plan    zip_code    addr_state      dti    delinq_2yrs  earliest_cr_line      inq_last_6mths    open_acc    revol_bal    revol_util    total_acc    out_prncp    total_pymnt    total_rec_prncp    total_rec_int    total_rec_late_fee    recoveries    collection_recovery_fee  last_pymnt_d      last_pymnt_amnt  next_pymnt_d    last_credit_pull_d\n",
      "-------  -----------  ------  ----------  -------------  -------  ------------  ----------------  ------------  ---------------------  ---------  -------------  ------------  ----------  ------------  -----  -------------  ------------------  ----------------  ----------  -----------  ------------  -----------  -----------  -------------  -----------------  ---------------  --------------------  ------------  -------------------------  --------------  -----------------  --------------  --------------------\n",
      "1077501         5000      36       10.65         162.87        2            10  RENT                     24000  Verified               11-Dec                 1  n             860xx       AZ            27.65              0  Jan-85                             1           3        13648          83.7            9         0           5861.07            5000              861.07                  0             0                          0     15-Jan                     171.62                  16-Jan\n",
      "1077430         2500      60       15.27          59.83        3             0  RENT                     30000  Source Verified        11-Dec                 3  n             309xx       GA             1                 0  Apr-99                             5           3         1687           9.4            4         0           1008.71             456.46           435.17                  0           117.08                       1.11  13-Apr                     119.66                  13-Sep\n",
      "1077175         2400      36       15.96          84.33        3            10  RENT                     12252  Not Verified           11-Dec                 1  n             606xx       IL             8.72              0  1-Nov                              2           2         2956          98.5           10         0           3003.65            2400              603.65                  0             0                          0     14-Jun                     649.91                  16-Jan\n",
      "1076863        10000      36       13.49         339.31        3            10  RENT                     49200  Source Verified        11-Dec                 1  n             917xx       CA            20                 0  Feb-96                             1          10         5598          21             37         0          12226.3            10000             2209.33                 16.97          0                          0     15-Jan                     357.48                  15-Jan\n",
      "1075358         3000      60       12.69          67.79        2             1  RENT                     80000  Source Verified        11-Dec                 1  n             972xx       OR            17.94              0  Jan-96                             0          15        27783          53.9           38       766.9         3242.17            2233.1           1009.07                  0             0                          0     16-Jan                      67.79  16-Feb          16-Jan\n",
      "1075269         5000      36        7.9          156.46        1             3  RENT                     36000  Source Verified        11-Dec                 1  n             852xx       AZ            11.2               0  4-Nov                              3           9         7963          28.3           12         0           5631.38            5000              631.38                  0             0                          0     15-Jan                     161.03                  15-Sep\n",
      "1069639         7000      60       15.96         170.08        3             8  RENT                     47004  Not Verified           11-Dec                 1  n             280xx       NC            23.51              0  5-Jul                              1           7        17726          85.6           11      1889.15        8136.84            5110.85          3025.99                  0             0                          0     16-Jan                     170.08  16-Feb          16-Jan\n",
      "1072053         3000      36       18.64         109.43        5             9  RENT                     48000  Source Verified        11-Dec                 1  n             900xx       CA             5.35              0  7-Jan                              2           4         8221          87.5            4         0           3938.14            3000              938.14                  0             0                          0     15-Jan                     111.34                  14-Dec\n",
      "1071795         5600      60       21.28         152.39        6             4  OWN                      40000  Source Verified        11-Dec                 3  n             958xx       CA             5.55              0  4-Apr                              2          11         5210          32.6           13         0            646.02             162.02           294.94                  0           189.06                       2.09  12-Apr                     152.39                  12-Aug\n",
      "1071570         5375      60       12.69         121.45        2             0  RENT                     15000  Verified               11-Dec                 3  n             774xx       TX            18.08              0  4-Sep                              0           2         9279          36.5            3         0           1476.19             673.48           533.42                  0           269.29                       2.52  12-Nov                     121.45                  13-Mar\n"
     ]
    }
   ],
   "source": [
    "print(credit_original.rows(range(10)))"
   ]
  },
  {
   "cell_type": "markdown",
   "metadata": {},
   "source": [
    "#### 1.3.4 `home_ownership` attribute"
   ]
  },
  {
   "cell_type": "markdown",
   "metadata": {},
   "source": [
    "Encoding `home_ownership` attribute to 1 - 6. Among them:\n",
    "* 0: None\n",
    "* 1: Mortgage\n",
    "* 2: Rent\n",
    "* 3: Own\n",
    "* 4: Other\n",
    "* 5: Any\n"
   ]
  },
  {
   "cell_type": "code",
   "execution_count": 19,
   "metadata": {},
   "outputs": [],
   "source": [
    "home_ownership_attr = credit_original.get_column_data('home_ownership')"
   ]
  },
  {
   "cell_type": "code",
   "execution_count": 20,
   "metadata": {},
   "outputs": [
    {
     "name": "stdout",
     "output_type": "stream",
     "text": [
      "Unique values in home_ownership:  {'NONE', 'ANY', 'RENT', 'OWN', 'MORTGAGE', 'OTHER'}\n"
     ]
    }
   ],
   "source": [
    "print('Unique values in home_ownership: ', set(home_ownership_attr))"
   ]
  },
  {
   "cell_type": "code",
   "execution_count": 21,
   "metadata": {},
   "outputs": [],
   "source": [
    "for i in range(credit_original.row_count()):\n",
    "    if credit_original[i]['home_ownership'] == 'NONE':\n",
    "        credit_original[i]['home_ownership'] = 0\n",
    "    elif credit_original[i]['home_ownership'] == 'MORTGAGE':\n",
    "        credit_original[i]['home_ownership'] = 1\n",
    "    elif credit_original[i]['home_ownership'] == 'RENT':\n",
    "        credit_original[i]['home_ownership'] = 2\n",
    "    elif credit_original[i]['home_ownership'] == 'OWN':\n",
    "        credit_original[i]['home_ownership'] = 3\n",
    "    elif credit_original[i]['home_ownership'] == 'OTHER':\n",
    "        credit_original[i]['home_ownership'] = 4\n",
    "    elif credit_original[i]['home_ownership'] == 'ANY':\n",
    "        credit_original[i]['home_ownership'] = 5"
   ]
  },
  {
   "cell_type": "code",
   "execution_count": 22,
   "metadata": {},
   "outputs": [
    {
     "name": "stdout",
     "output_type": "stream",
     "text": [
      "Unique values in home_ownership after cleaning:  {0, 1, 2, 3, 4, 5}\n"
     ]
    }
   ],
   "source": [
    "print('Unique values in home_ownership after cleaning: ', set(credit_original.get_column_data('home_ownership')))"
   ]
  },
  {
   "cell_type": "code",
   "execution_count": 23,
   "metadata": {},
   "outputs": [
    {
     "name": "stdout",
     "output_type": "stream",
     "text": [
      "     id    loan_amnt    term    int_rate    installment    grade    emp_length    home_ownership    annual_inc  verification_status    issue_d      loan_status  pymnt_plan    zip_code    addr_state      dti    delinq_2yrs  earliest_cr_line      inq_last_6mths    open_acc    revol_bal    revol_util    total_acc    out_prncp    total_pymnt    total_rec_prncp    total_rec_int    total_rec_late_fee    recoveries    collection_recovery_fee  last_pymnt_d      last_pymnt_amnt  next_pymnt_d    last_credit_pull_d\n",
      "-------  -----------  ------  ----------  -------------  -------  ------------  ----------------  ------------  ---------------------  ---------  -------------  ------------  ----------  ------------  -----  -------------  ------------------  ----------------  ----------  -----------  ------------  -----------  -----------  -------------  -----------------  ---------------  --------------------  ------------  -------------------------  --------------  -----------------  --------------  --------------------\n",
      "1077501         5000      36       10.65         162.87        2            10                 2         24000  Verified               11-Dec                 1  n             860xx       AZ            27.65              0  Jan-85                             1           3        13648          83.7            9         0           5861.07            5000              861.07                  0             0                          0     15-Jan                     171.62                  16-Jan\n",
      "1077430         2500      60       15.27          59.83        3             0                 2         30000  Source Verified        11-Dec                 3  n             309xx       GA             1                 0  Apr-99                             5           3         1687           9.4            4         0           1008.71             456.46           435.17                  0           117.08                       1.11  13-Apr                     119.66                  13-Sep\n",
      "1077175         2400      36       15.96          84.33        3            10                 2         12252  Not Verified           11-Dec                 1  n             606xx       IL             8.72              0  1-Nov                              2           2         2956          98.5           10         0           3003.65            2400              603.65                  0             0                          0     14-Jun                     649.91                  16-Jan\n",
      "1076863        10000      36       13.49         339.31        3            10                 2         49200  Source Verified        11-Dec                 1  n             917xx       CA            20                 0  Feb-96                             1          10         5598          21             37         0          12226.3            10000             2209.33                 16.97          0                          0     15-Jan                     357.48                  15-Jan\n",
      "1075358         3000      60       12.69          67.79        2             1                 2         80000  Source Verified        11-Dec                 1  n             972xx       OR            17.94              0  Jan-96                             0          15        27783          53.9           38       766.9         3242.17            2233.1           1009.07                  0             0                          0     16-Jan                      67.79  16-Feb          16-Jan\n",
      "1075269         5000      36        7.9          156.46        1             3                 2         36000  Source Verified        11-Dec                 1  n             852xx       AZ            11.2               0  4-Nov                              3           9         7963          28.3           12         0           5631.38            5000              631.38                  0             0                          0     15-Jan                     161.03                  15-Sep\n",
      "1069639         7000      60       15.96         170.08        3             8                 2         47004  Not Verified           11-Dec                 1  n             280xx       NC            23.51              0  5-Jul                              1           7        17726          85.6           11      1889.15        8136.84            5110.85          3025.99                  0             0                          0     16-Jan                     170.08  16-Feb          16-Jan\n",
      "1072053         3000      36       18.64         109.43        5             9                 2         48000  Source Verified        11-Dec                 1  n             900xx       CA             5.35              0  7-Jan                              2           4         8221          87.5            4         0           3938.14            3000              938.14                  0             0                          0     15-Jan                     111.34                  14-Dec\n",
      "1071795         5600      60       21.28         152.39        6             4                 3         40000  Source Verified        11-Dec                 3  n             958xx       CA             5.55              0  4-Apr                              2          11         5210          32.6           13         0            646.02             162.02           294.94                  0           189.06                       2.09  12-Apr                     152.39                  12-Aug\n",
      "1071570         5375      60       12.69         121.45        2             0                 2         15000  Verified               11-Dec                 3  n             774xx       TX            18.08              0  4-Sep                              0           2         9279          36.5            3         0           1476.19             673.48           533.42                  0           269.29                       2.52  12-Nov                     121.45                  13-Mar\n"
     ]
    }
   ],
   "source": [
    "print(credit_original.rows(range(10)))"
   ]
  },
  {
   "cell_type": "markdown",
   "metadata": {},
   "source": [
    "#### 1.3.5 `verification_status` attribute"
   ]
  },
  {
   "cell_type": "markdown",
   "metadata": {},
   "source": [
    "Encoding `verification_status` attribute to 1 - 3. Among them:\n",
    "* 0: Not Verified\n",
    "* 1: Verified\n",
    "* 2: Source Verified"
   ]
  },
  {
   "cell_type": "code",
   "execution_count": 24,
   "metadata": {},
   "outputs": [
    {
     "name": "stdout",
     "output_type": "stream",
     "text": [
      "Unique values in verification_status:  {'Not Verified', 'Source Verified', 'Verified'}\n"
     ]
    }
   ],
   "source": [
    "print('Unique values in verification_status: ', set(credit_original.get_column_data('verification_status')))"
   ]
  },
  {
   "cell_type": "code",
   "execution_count": 25,
   "metadata": {},
   "outputs": [],
   "source": [
    "for i in range(credit_original.row_count()):\n",
    "    if credit_original[i]['verification_status'] == 'Not Verified':\n",
    "        credit_original[i]['verification_status'] = 0\n",
    "    elif credit_original[i]['verification_status'] == 'Source Verified':\n",
    "        credit_original[i]['verification_status'] = 1\n",
    "    elif credit_original[i]['verification_status'] == 'Verified':\n",
    "        credit_original[i]['verification_status'] = 2"
   ]
  },
  {
   "cell_type": "code",
   "execution_count": 26,
   "metadata": {},
   "outputs": [
    {
     "name": "stdout",
     "output_type": "stream",
     "text": [
      "Unique values in verification_status after cleaning:  {0, 1, 2}\n"
     ]
    }
   ],
   "source": [
    "print('Unique values in verification_status after cleaning: ', set(credit_original.get_column_data('verification_status')))"
   ]
  },
  {
   "cell_type": "code",
   "execution_count": 27,
   "metadata": {},
   "outputs": [
    {
     "name": "stdout",
     "output_type": "stream",
     "text": [
      "     id    loan_amnt    term    int_rate    installment    grade    emp_length    home_ownership    annual_inc    verification_status  issue_d      loan_status  pymnt_plan    zip_code    addr_state      dti    delinq_2yrs  earliest_cr_line      inq_last_6mths    open_acc    revol_bal    revol_util    total_acc    out_prncp    total_pymnt    total_rec_prncp    total_rec_int    total_rec_late_fee    recoveries    collection_recovery_fee  last_pymnt_d      last_pymnt_amnt  next_pymnt_d    last_credit_pull_d\n",
      "-------  -----------  ------  ----------  -------------  -------  ------------  ----------------  ------------  ---------------------  ---------  -------------  ------------  ----------  ------------  -----  -------------  ------------------  ----------------  ----------  -----------  ------------  -----------  -----------  -------------  -----------------  ---------------  --------------------  ------------  -------------------------  --------------  -----------------  --------------  --------------------\n",
      "1077501         5000      36       10.65         162.87        2            10                 2         24000                      2  11-Dec                 1  n             860xx       AZ            27.65              0  Jan-85                             1           3        13648          83.7            9         0           5861.07            5000              861.07                  0             0                          0     15-Jan                     171.62                  16-Jan\n",
      "1077430         2500      60       15.27          59.83        3             0                 2         30000                      1  11-Dec                 3  n             309xx       GA             1                 0  Apr-99                             5           3         1687           9.4            4         0           1008.71             456.46           435.17                  0           117.08                       1.11  13-Apr                     119.66                  13-Sep\n",
      "1077175         2400      36       15.96          84.33        3            10                 2         12252                      0  11-Dec                 1  n             606xx       IL             8.72              0  1-Nov                              2           2         2956          98.5           10         0           3003.65            2400              603.65                  0             0                          0     14-Jun                     649.91                  16-Jan\n",
      "1076863        10000      36       13.49         339.31        3            10                 2         49200                      1  11-Dec                 1  n             917xx       CA            20                 0  Feb-96                             1          10         5598          21             37         0          12226.3            10000             2209.33                 16.97          0                          0     15-Jan                     357.48                  15-Jan\n",
      "1075358         3000      60       12.69          67.79        2             1                 2         80000                      1  11-Dec                 1  n             972xx       OR            17.94              0  Jan-96                             0          15        27783          53.9           38       766.9         3242.17            2233.1           1009.07                  0             0                          0     16-Jan                      67.79  16-Feb          16-Jan\n",
      "1075269         5000      36        7.9          156.46        1             3                 2         36000                      1  11-Dec                 1  n             852xx       AZ            11.2               0  4-Nov                              3           9         7963          28.3           12         0           5631.38            5000              631.38                  0             0                          0     15-Jan                     161.03                  15-Sep\n",
      "1069639         7000      60       15.96         170.08        3             8                 2         47004                      0  11-Dec                 1  n             280xx       NC            23.51              0  5-Jul                              1           7        17726          85.6           11      1889.15        8136.84            5110.85          3025.99                  0             0                          0     16-Jan                     170.08  16-Feb          16-Jan\n",
      "1072053         3000      36       18.64         109.43        5             9                 2         48000                      1  11-Dec                 1  n             900xx       CA             5.35              0  7-Jan                              2           4         8221          87.5            4         0           3938.14            3000              938.14                  0             0                          0     15-Jan                     111.34                  14-Dec\n",
      "1071795         5600      60       21.28         152.39        6             4                 3         40000                      1  11-Dec                 3  n             958xx       CA             5.55              0  4-Apr                              2          11         5210          32.6           13         0            646.02             162.02           294.94                  0           189.06                       2.09  12-Apr                     152.39                  12-Aug\n",
      "1071570         5375      60       12.69         121.45        2             0                 2         15000                      2  11-Dec                 3  n             774xx       TX            18.08              0  4-Sep                              0           2         9279          36.5            3         0           1476.19             673.48           533.42                  0           269.29                       2.52  12-Nov                     121.45                  13-Mar\n"
     ]
    }
   ],
   "source": [
    "print(credit_original.rows(range(10)))"
   ]
  },
  {
   "cell_type": "markdown",
   "metadata": {},
   "source": [
    "#### 1.3.6 `issue_d` attribute"
   ]
  },
  {
   "cell_type": "markdown",
   "metadata": {},
   "source": [
    "Make sure the data are comformed in YY-MMM format"
   ]
  },
  {
   "cell_type": "code",
   "execution_count": 28,
   "metadata": {},
   "outputs": [],
   "source": [
    "issue_d_attr = credit_original.get_column_data('issue_d')\n",
    "for i in range(len(issue_d_attr)):\n",
    "    try:\n",
    "        period = issue_d_attr[i].split('-')\n",
    "    except:\n",
    "        print(f'Error in row {i}: ', credit_original[i])\n",
    "\n",
    "    if len(period[0]) == 1:\n",
    "        credit_original[i]['last_pymnt_d'] = '0' + issue_d_attr[i]\n",
    "    \n",
    "    if len(period[1]) != 3:\n",
    "        print(f'Error in row {i}: ', credit_original[i])"
   ]
  },
  {
   "cell_type": "markdown",
   "metadata": {},
   "source": [
    "#### 1.3.7 `pymnt_plan` attribute"
   ]
  },
  {
   "cell_type": "markdown",
   "metadata": {},
   "source": [
    "Encoding `pymnt_plan` attribute to 0 - 1. Among them:\n",
    "* 0: No\n",
    "* 1: Yes"
   ]
  },
  {
   "cell_type": "code",
   "execution_count": 29,
   "metadata": {},
   "outputs": [
    {
     "name": "stdout",
     "output_type": "stream",
     "text": [
      "Unique values in `pymnt_plan` attribute:  {'n', 'y'}\n"
     ]
    }
   ],
   "source": [
    "print('Unique values in `pymnt_plan` attribute: ', set(credit_original.get_column_data('pymnt_plan')))"
   ]
  },
  {
   "cell_type": "code",
   "execution_count": 30,
   "metadata": {},
   "outputs": [],
   "source": [
    "for i in range(credit_original.row_count()):\n",
    "    if credit_original[i]['pymnt_plan'] == 'n':\n",
    "        credit_original[i]['pymnt_plan'] = 0\n",
    "    elif credit_original[i]['pymnt_plan'] == 'y':\n",
    "        credit_original[i]['pymnt_plan'] = 1"
   ]
  },
  {
   "cell_type": "code",
   "execution_count": 31,
   "metadata": {},
   "outputs": [
    {
     "name": "stdout",
     "output_type": "stream",
     "text": [
      "Unique values in `pymnt_plan` attribute after cleaning:  {0, 1}\n"
     ]
    }
   ],
   "source": [
    "print('Unique values in `pymnt_plan` attribute after cleaning: ', set(credit_original.get_column_data('pymnt_plan')))"
   ]
  },
  {
   "cell_type": "code",
   "execution_count": 32,
   "metadata": {},
   "outputs": [
    {
     "name": "stdout",
     "output_type": "stream",
     "text": [
      "     id    loan_amnt    term    int_rate    installment    grade    emp_length    home_ownership    annual_inc    verification_status  issue_d      loan_status    pymnt_plan  zip_code    addr_state      dti    delinq_2yrs  earliest_cr_line      inq_last_6mths    open_acc    revol_bal    revol_util    total_acc    out_prncp    total_pymnt    total_rec_prncp    total_rec_int    total_rec_late_fee    recoveries    collection_recovery_fee  last_pymnt_d      last_pymnt_amnt  next_pymnt_d    last_credit_pull_d\n",
      "-------  -----------  ------  ----------  -------------  -------  ------------  ----------------  ------------  ---------------------  ---------  -------------  ------------  ----------  ------------  -----  -------------  ------------------  ----------------  ----------  -----------  ------------  -----------  -----------  -------------  -----------------  ---------------  --------------------  ------------  -------------------------  --------------  -----------------  --------------  --------------------\n",
      "1077501         5000      36       10.65         162.87        2            10                 2         24000                      2  11-Dec                 1             0  860xx       AZ            27.65              0  Jan-85                             1           3        13648          83.7            9         0           5861.07            5000              861.07                  0             0                          0     15-Jan                     171.62                  16-Jan\n",
      "1077430         2500      60       15.27          59.83        3             0                 2         30000                      1  11-Dec                 3             0  309xx       GA             1                 0  Apr-99                             5           3         1687           9.4            4         0           1008.71             456.46           435.17                  0           117.08                       1.11  13-Apr                     119.66                  13-Sep\n",
      "1077175         2400      36       15.96          84.33        3            10                 2         12252                      0  11-Dec                 1             0  606xx       IL             8.72              0  1-Nov                              2           2         2956          98.5           10         0           3003.65            2400              603.65                  0             0                          0     14-Jun                     649.91                  16-Jan\n",
      "1076863        10000      36       13.49         339.31        3            10                 2         49200                      1  11-Dec                 1             0  917xx       CA            20                 0  Feb-96                             1          10         5598          21             37         0          12226.3            10000             2209.33                 16.97          0                          0     15-Jan                     357.48                  15-Jan\n",
      "1075358         3000      60       12.69          67.79        2             1                 2         80000                      1  11-Dec                 1             0  972xx       OR            17.94              0  Jan-96                             0          15        27783          53.9           38       766.9         3242.17            2233.1           1009.07                  0             0                          0     16-Jan                      67.79  16-Feb          16-Jan\n",
      "1075269         5000      36        7.9          156.46        1             3                 2         36000                      1  11-Dec                 1             0  852xx       AZ            11.2               0  4-Nov                              3           9         7963          28.3           12         0           5631.38            5000              631.38                  0             0                          0     15-Jan                     161.03                  15-Sep\n",
      "1069639         7000      60       15.96         170.08        3             8                 2         47004                      0  11-Dec                 1             0  280xx       NC            23.51              0  5-Jul                              1           7        17726          85.6           11      1889.15        8136.84            5110.85          3025.99                  0             0                          0     16-Jan                     170.08  16-Feb          16-Jan\n",
      "1072053         3000      36       18.64         109.43        5             9                 2         48000                      1  11-Dec                 1             0  900xx       CA             5.35              0  7-Jan                              2           4         8221          87.5            4         0           3938.14            3000              938.14                  0             0                          0     15-Jan                     111.34                  14-Dec\n",
      "1071795         5600      60       21.28         152.39        6             4                 3         40000                      1  11-Dec                 3             0  958xx       CA             5.55              0  4-Apr                              2          11         5210          32.6           13         0            646.02             162.02           294.94                  0           189.06                       2.09  12-Apr                     152.39                  12-Aug\n",
      "1071570         5375      60       12.69         121.45        2             0                 2         15000                      2  11-Dec                 3             0  774xx       TX            18.08              0  4-Sep                              0           2         9279          36.5            3         0           1476.19             673.48           533.42                  0           269.29                       2.52  12-Nov                     121.45                  13-Mar\n"
     ]
    }
   ],
   "source": [
    "print(credit_original.rows(range(10)))"
   ]
  },
  {
   "cell_type": "markdown",
   "metadata": {},
   "source": [
    "#### 1.3.8 `delinq_2yrs` attribute"
   ]
  },
  {
   "cell_type": "code",
   "execution_count": 33,
   "metadata": {},
   "outputs": [
    {
     "name": "stdout",
     "output_type": "stream",
     "text": [
      "Unique values in deling_2yrs:  {0, 1, 2, 3, 4, 5, 6, 7, 8, 9, 10, 11, 12, 13, 14, 15, 16, 17, 18, 19, 20, 21, 22, 24, 26, 27, 29, 30, 39}\n"
     ]
    }
   ],
   "source": [
    "print('Unique values in deling_2yrs: ', set(credit_original.get_column_data('delinq_2yrs')))"
   ]
  },
  {
   "cell_type": "markdown",
   "metadata": {},
   "source": [
    "#### 1.3.9 `last_pymnt_d` attribute\n",
    "\n",
    "Convert the attribute to YY-MMM format."
   ]
  },
  {
   "cell_type": "code",
   "execution_count": 34,
   "metadata": {},
   "outputs": [],
   "source": [
    "last_pymnt_attr = credit_original.get_column_data('last_pymnt_d')\n",
    "for i in range(len(last_pymnt_attr)):\n",
    "    try:\n",
    "        period = last_pymnt_attr[i].split('-')\n",
    "    except:\n",
    "        print(f'Error in row {i}: ', credit_original[i])\n",
    "\n",
    "    if len(period[0]) == 1:\n",
    "        credit_original[i]['last_pymnt_d'] = '0' + last_pymnt_attr[i]\n",
    "    \n",
    "    if len(period[1]) != 3:\n",
    "        print(f'Error in row {i}: ', credit_original[i])"
   ]
  },
  {
   "cell_type": "code",
   "execution_count": 35,
   "metadata": {},
   "outputs": [
    {
     "name": "stdout",
     "output_type": "stream",
     "text": [
      "{'14-Oct', '10-Apr', '10-Dec', '11-Oct', '13-Nov', '08-Feb', '15-Feb', '13-Jul', '08-Oct', '11-Sep', '11-Aug', '07-Nov', '14-Mar', '07-Jun', '12-Aug', '07-Oct', '13-Apr', '12-Jan', '07-Dec', '11-May', '11-Jan', '15-Jul', '10-Jun', '11-Mar', '10-Feb', '08-Jul', '09-Apr', '15-Mar', '10-Sep', '13-Dec', '12-Nov', '15-Jan', '11-Jul', '07-Jul', '14-Feb', '14-Dec', '12-May', '07-Sep', '15-Aug', '09-May', '13-May', '10-Oct', '13-Jan', '15-Oct', '09-Jan', '08-Dec', '14-Sep', '09-Dec', '08-Apr', '12-Jun', '13-Feb', '11-Dec', '15-Dec', '12-Dec', '15-May', '09-Nov', '12-Sep', '07-Aug', '10-May', '11-Jun', '13-Mar', '15-Jun', '08-Mar', '11-Feb', '16-Jan', '10-Mar', '12-Apr', '12-Jul', '14-Aug', '08-Jun', '10-Aug', '13-Jun', '10-Jul', '15-Sep', '09-Jun', '09-Aug', '14-May', '12-Oct', '08-Nov', '09-Jul', '12-Feb', '09-Feb', '08-Jan', '11-Nov', '09-Oct', '14-Nov', '08-May', '10-Nov', '14-Apr', '11-Apr', '14-Jun', '08-Sep', '08-Aug', '15-Apr', '15-Nov', '13-Oct', '14-Jul', '09-Mar', '13-Sep', '13-Aug', '12-Mar', '09-Sep', '14-Jan'}\n"
     ]
    }
   ],
   "source": [
    "print(set(credit_original.get_column_data('last_pymnt_d')))"
   ]
  },
  {
   "cell_type": "markdown",
   "metadata": {},
   "source": [
    "## 2. Data Merging"
   ]
  },
  {
   "cell_type": "markdown",
   "metadata": {},
   "source": [
    "### 2.1 Merging `Credit Risk Analysis` and `Zillow Home Value Index`\n",
    "\n",
    "* I plan to merge both datasets based on the `zip_code` attribute. However, the `zip_code` attribute in `Credit Risk Analysis` dataset only contains the first 3 numbers of the zip code. Therefore, I need to extract the first 3 numbers of the `RegionName` attribute in `Zillow Home Value Index` dataset.\n",
    "* At the same time, I will caculate the average median house value for a given zip code in `Zillow Home Value Index` dataset from the point when a loan was issued to the last payment month. This will be used to concatenate with the `Credit Risk Analysis` dataset.\n",
    "* Another note that the algorithm below takes a really long time to run, at approximately 1 hour. Therefore, I will save the merged dataset to a csv file and load it in the next section."
   ]
  },
  {
   "cell_type": "code",
   "execution_count": 37,
   "metadata": {},
   "outputs": [
    {
     "name": "stdout",
     "output_type": "stream",
     "text": [
      "110\n"
     ]
    }
   ],
   "source": [
    "print(zillow_original.column_count())"
   ]
  },
  {
   "cell_type": "code",
   "execution_count": 38,
   "metadata": {},
   "outputs": [],
   "source": [
    "\"\"\"\n",
    "home_value = []\n",
    "zillow_col = zillow_original.columns()\n",
    "\n",
    "for i in range(credit_original.row_count()):\n",
    "    found = False\n",
    "    start_d = credit_original[i]['issue_d']\n",
    "    end_d = credit_original[i]['last_pymnt_d']\n",
    "    print(\"Starting row \", i)\n",
    "\n",
    "    for j in range(zillow_original.row_count()):\n",
    "        if str(credit_original[i]['zip_code'])[:3] == str(zillow_original[j]['RegionName'])[:3]:\n",
    "            found = True\n",
    "            total_median = 0\n",
    "            total_months = 0\n",
    "\n",
    "            try:\n",
    "                start_index = zillow_col.index(start_d)\n",
    "                end_index = zillow_col.index(end_d)\n",
    "            except:\n",
    "                print(f'Date range not found for row {i}')\n",
    "                home_value.append(0)\n",
    "                break\n",
    "\n",
    "            while start_index <= end_index:\n",
    "                if zillow_original[j][zillow_col[start_index]] != '':\n",
    "                    total_median += int(zillow_original[j][zillow_col[start_index]])\n",
    "                    total_months += 1\n",
    "                    start_index += 1\n",
    "                start_index += 1\n",
    "\n",
    "            if total_months != 0:\n",
    "                home_value.append(total_median / total_months)\n",
    "            else:\n",
    "                home_value.append(0)\n",
    "            break\n",
    "\n",
    "    if not found:\n",
    "        print(f'Row {i}: No matching zip code or state found')\n",
    "        home_value.append(0)\n",
    "\"\"\""
   ]
  },
  {
   "cell_type": "code",
   "execution_count": 36,
   "metadata": {},
   "outputs": [],
   "source": [
    "home_value = DataTable(['home_value'])\n",
    "home_value.load('dataset/home_value.csv')"
   ]
  },
  {
   "cell_type": "code",
   "execution_count": 37,
   "metadata": {},
   "outputs": [
    {
     "name": "stdout",
     "output_type": "stream",
     "text": [
      "884630\n"
     ]
    }
   ],
   "source": [
    "print(home_value.row_count())"
   ]
  },
  {
   "cell_type": "markdown",
   "metadata": {},
   "source": [
    "Join two datasets here:"
   ]
  },
  {
   "cell_type": "code",
   "execution_count": 38,
   "metadata": {},
   "outputs": [],
   "source": [
    "combined = DataTable.concat(credit_original, home_value, axis=1)"
   ]
  },
  {
   "cell_type": "code",
   "execution_count": 39,
   "metadata": {},
   "outputs": [
    {
     "name": "stdout",
     "output_type": "stream",
     "text": [
      "884630\n"
     ]
    }
   ],
   "source": [
    "print(combined.row_count())"
   ]
  },
  {
   "cell_type": "code",
   "execution_count": 43,
   "metadata": {},
   "outputs": [
    {
     "name": "stdout",
     "output_type": "stream",
     "text": [
      "     id    loan_amnt    term    int_rate    installment    grade    emp_length    home_ownership    annual_inc    verification_status  issue_d      loan_status    pymnt_plan  zip_code    addr_state      dti    delinq_2yrs  earliest_cr_line      inq_last_6mths    open_acc    revol_bal    revol_util    total_acc    out_prncp    total_pymnt    total_rec_prncp    total_rec_int    total_rec_late_fee    recoveries    collection_recovery_fee  last_pymnt_d      last_pymnt_amnt  next_pymnt_d    last_credit_pull_d      home_value\n",
      "-------  -----------  ------  ----------  -------------  -------  ------------  ----------------  ------------  ---------------------  ---------  -------------  ------------  ----------  ------------  -----  -------------  ------------------  ----------------  ----------  -----------  ------------  -----------  -----------  -------------  -----------------  ---------------  --------------------  ------------  -------------------------  --------------  -----------------  --------------  --------------------  ------------\n",
      "1077501         5000      36       10.65         162.87        2            10                 2         24000                      2  11-Dec                 1             0  860xx       AZ            27.65              0  Jan-85                             1           3        13648          83.7            9         0           5861.07            5000              861.07                  0             0                          0     15-Jan                     171.62                  16-Jan                    263720\n",
      "1077430         2500      60       15.27          59.83        3             0                 2         30000                      1  11-Dec                 3             0  309xx       GA             1                 0  Apr-99                             5           3         1687           9.4            4         0           1008.71             456.46           435.17                  0           117.08                       1.11  13-Apr                     119.66                  13-Sep                         0\n",
      "1077175         2400      36       15.96          84.33        3            10                 2         12252                      0  11-Dec                 1             0  606xx       IL             8.72              0  1-Nov                              2           2         2956          98.5           10         0           3003.65            2400              603.65                  0             0                          0     14-Jun                     649.91                  16-Jan                     97321.2\n",
      "1076863        10000      36       13.49         339.31        3            10                 2         49200                      1  11-Dec                 1             0  917xx       CA            20                 0  Feb-96                             1          10         5598          21             37         0          12226.3            10000             2209.33                 16.97          0                          0     15-Jan                     357.48                  15-Jan                    328105\n",
      "1075358         3000      60       12.69          67.79        2             1                 2         80000                      1  11-Dec                 1             0  972xx       OR            17.94              0  Jan-96                             0          15        27783          53.9           38       766.9         3242.17            2233.1           1009.07                  0             0                          0     16-Jan                      67.79  16-Feb          16-Jan                    402784\n",
      "1075269         5000      36        7.9          156.46        1             3                 2         36000                      1  11-Dec                 1             0  852xx       AZ            11.2               0  4-Nov                              3           9         7963          28.3           12         0           5631.38            5000              631.38                  0             0                          0     15-Jan                     161.03                  15-Sep                    163562\n",
      "1069639         7000      60       15.96         170.08        3             8                 2         47004                      0  11-Dec                 1             0  280xx       NC            23.51              0  5-Jul                              1           7        17726          85.6           11      1889.15        8136.84            5110.85          3025.99                  0             0                          0     16-Jan                     170.08  16-Feb          16-Jan                    173733\n",
      "1072053         3000      36       18.64         109.43        5             9                 2         48000                      1  11-Dec                 1             0  900xx       CA             5.35              0  7-Jan                              2           4         8221          87.5            4         0           3938.14            3000              938.14                  0             0                          0     15-Jan                     111.34                  14-Dec                    190852\n",
      "1071795         5600      60       21.28         152.39        6             4                 3         40000                      1  11-Dec                 3             0  958xx       CA             5.55              0  4-Apr                              2          11         5210          32.6           13         0            646.02             162.02           294.94                  0           189.06                       2.09  12-Apr                     152.39                  12-Aug                    105468\n",
      "1071570         5375      60       12.69         121.45        2             0                 2         15000                      2  11-Dec                 3             0  774xx       TX            18.08              0  4-Sep                              0           2         9279          36.5            3         0           1476.19             673.48           533.42                  0           269.29                       2.52  12-Nov                     121.45                  13-Mar                    248804\n"
     ]
    }
   ],
   "source": [
    "print(combined.rows(range(10)))"
   ]
  },
  {
   "cell_type": "markdown",
   "metadata": {},
   "source": [
    "### 2.2 Cleaning after Merging"
   ]
  },
  {
   "cell_type": "markdown",
   "metadata": {},
   "source": [
    "Since we have already joined the home values, I will drop the `zip_code`, `addr_state`, `issue_d` and `last_pymnt_d` attributes. I also drop `id`, `earliest_cr_line`, `next_pymnt_d` and `last_credit_pull_d` since it is not useful for our analysis."
   ]
  },
  {
   "cell_type": "code",
   "execution_count": 40,
   "metadata": {},
   "outputs": [],
   "source": [
    "combined.drop(['issue_d', 'last_pymnt_d', 'zip_code', 'addr_state', 'id', 'earliest_cr_line', 'next_pymnt_d', 'last_credit_pull_d'])"
   ]
  },
  {
   "cell_type": "code",
   "execution_count": 42,
   "metadata": {},
   "outputs": [
    {
     "name": "stdout",
     "output_type": "stream",
     "text": [
      "  loan_amnt    term    int_rate    installment    grade    emp_length    home_ownership    annual_inc    verification_status    loan_status    pymnt_plan    dti    delinq_2yrs    inq_last_6mths    open_acc    revol_bal    revol_util    total_acc    out_prncp    total_pymnt    total_rec_prncp    total_rec_int    total_rec_late_fee    recoveries    collection_recovery_fee    last_pymnt_amnt    home_value\n",
      "-----------  ------  ----------  -------------  -------  ------------  ----------------  ------------  ---------------------  -------------  ------------  -----  -------------  ----------------  ----------  -----------  ------------  -----------  -----------  -------------  -----------------  ---------------  --------------------  ------------  -------------------------  -----------------  ------------\n",
      "       5000      36       10.65         162.87        2            10                 2         24000                      2              1             0  27.65              0                 1           3        13648          83.7            9         0           5861.07            5000              861.07                  0             0                          0                171.62      263720\n",
      "       2500      60       15.27          59.83        3             0                 2         30000                      1              3             0   1                 0                 5           3         1687           9.4            4         0           1008.71             456.46           435.17                  0           117.08                       1.11             119.66           0\n",
      "       2400      36       15.96          84.33        3            10                 2         12252                      0              1             0   8.72              0                 2           2         2956          98.5           10         0           3003.65            2400              603.65                  0             0                          0                649.91       97321.2\n",
      "      10000      36       13.49         339.31        3            10                 2         49200                      1              1             0  20                 0                 1          10         5598          21             37         0          12226.3            10000             2209.33                 16.97          0                          0                357.48      328105\n",
      "       3000      60       12.69          67.79        2             1                 2         80000                      1              1             0  17.94              0                 0          15        27783          53.9           38       766.9         3242.17            2233.1           1009.07                  0             0                          0                 67.79      402784\n",
      "       5000      36        7.9          156.46        1             3                 2         36000                      1              1             0  11.2               0                 3           9         7963          28.3           12         0           5631.38            5000              631.38                  0             0                          0                161.03      163562\n",
      "       7000      60       15.96         170.08        3             8                 2         47004                      0              1             0  23.51              0                 1           7        17726          85.6           11      1889.15        8136.84            5110.85          3025.99                  0             0                          0                170.08      173733\n",
      "       3000      36       18.64         109.43        5             9                 2         48000                      1              1             0   5.35              0                 2           4         8221          87.5            4         0           3938.14            3000              938.14                  0             0                          0                111.34      190852\n",
      "       5600      60       21.28         152.39        6             4                 3         40000                      1              3             0   5.55              0                 2          11         5210          32.6           13         0            646.02             162.02           294.94                  0           189.06                       2.09             152.39      105468\n",
      "       5375      60       12.69         121.45        2             0                 2         15000                      2              3             0  18.08              0                 0           2         9279          36.5            3         0           1476.19             673.48           533.42                  0           269.29                       2.52             121.45      248804\n"
     ]
    }
   ],
   "source": [
    "print(combined.rows(range(10)))"
   ]
  },
  {
   "cell_type": "markdown",
   "metadata": {},
   "source": [
    "The table now only consists of continuous attribute. I will drop the rows that have missing values. I also drop rows that have value 0 in `home_value` attribute and rows that have missing values in all attributes."
   ]
  },
  {
   "cell_type": "code",
   "execution_count": 43,
   "metadata": {},
   "outputs": [],
   "source": [
    "combine_cleaned = DataTable(combined.columns())\n",
    "\n",
    "for row in range(combined.row_count()):\n",
    "    try:\n",
    "        if combined[row]['home_value'] != 0:\n",
    "            valid_row = True\n",
    "            for col in combined.columns():\n",
    "                if combined[row][col] == '':\n",
    "                    valid_row = False\n",
    "                    break\n",
    "            if valid_row:\n",
    "                combine_cleaned.append(combined[row].values())\n",
    "    except IndexError:\n",
    "        break"
   ]
  },
  {
   "cell_type": "code",
   "execution_count": 44,
   "metadata": {},
   "outputs": [
    {
     "name": "stdout",
     "output_type": "stream",
     "text": [
      "Number of rows after cleaning: 780087\n"
     ]
    }
   ],
   "source": [
    "print('Number of rows after cleaning:', combine_cleaned.row_count())"
   ]
  },
  {
   "cell_type": "code",
   "execution_count": 45,
   "metadata": {},
   "outputs": [
    {
     "name": "stdout",
     "output_type": "stream",
     "text": [
      "Number of columns after cleaning: 27\n"
     ]
    }
   ],
   "source": [
    "print('Number of columns after cleaning:', combine_cleaned.column_count())"
   ]
  },
  {
   "cell_type": "markdown",
   "metadata": {},
   "source": [
    "## 3. Normalization"
   ]
  },
  {
   "cell_type": "markdown",
   "metadata": {},
   "source": [
    "For all continuous attribute in the table, I will normalize them to be in the range of 0 - 1 using Min-Max scaling."
   ]
  },
  {
   "cell_type": "code",
   "execution_count": 46,
   "metadata": {},
   "outputs": [],
   "source": [
    "normalize(combine_cleaned, ['loan_amnt', 'int_rate', 'installment', 'annual_inc', 'dti', 'open_acc', 'revol_bal', 'revol_bal', 'total_acc', 'out_prncp', 'total_pymnt', 'total_rec_prncp', 'total_rec_int', 'total_rec_late_fee', 'recoveries', 'collection_recovery_fee', 'last_pymnt_amnt', 'home_value'])"
   ]
  },
  {
   "cell_type": "code",
   "execution_count": 47,
   "metadata": {},
   "outputs": [
    {
     "name": "stdout",
     "output_type": "stream",
     "text": [
      "  loan_amnt    term    int_rate    installment    grade    emp_length    home_ownership    annual_inc    verification_status    loan_status    pymnt_plan          dti    delinq_2yrs    inq_last_6mths    open_acc    revol_bal    revol_util    total_acc    out_prncp    total_pymnt    total_rec_prncp    total_rec_int    total_rec_late_fee    recoveries    collection_recovery_fee    last_pymnt_amnt    home_value\n",
      "-----------  ------  ----------  -------------  -------  ------------  ----------------  ------------  ---------------------  -------------  ------------  -----------  -------------  ----------------  ----------  -----------  ------------  -----------  -----------  -------------  -----------------  ---------------  --------------------  ------------  -------------------------  -----------------  ------------\n",
      "  0.117647       36    0.22518       0.100309         2            10                 2    0.00252632                      2              1             0  0.00276528               0                 1   0.0224719   0.00469837          83.7   0.0419162     0              0.101442          0.142857          0.0355731             0            0                         0                   0.00470506     0.150089\n",
      "  0.0411765      36    0.449514      0.0452164        3            10                 2    0.00128968                      0              1             0  0.000872087              0                 2   0.011236    0.00101761          98.5   0.0479042     0              0.0519865         0.0685714         0.0249384             0            0                         0                   0.0178177      0.0508095\n",
      "  0.264706       36    0.345163      0.224076         3            10                 2    0.00517895                      1              1             0  0.0020002                0                 1   0.101124    0.00192713          21     0.209581      0              0.21161           0.285714          0.0912734             0.0473124    0                         0                   0.00980053     0.188503\n",
      "  0.0588235      60    0.311365      0.0336142        2             1                 2    0.00842105                      1              1             0  0.00179418               0                 0   0.157303    0.0095644           53.9   0.215569      0.0155328      0.0561147         0.0638028         0.0416874             0            0                         0                   0.0018585      0.233059\n",
      "  0.117647       36    0.108999      0.095813         1             3                 2    0.00378947                      1              1             0  0.00112011               0                 3   0.0898876   0.00274129          28.3   0.0598802     0              0.0974665         0.142857          0.026084              0            0                         0                   0.00441473     0.0903313\n",
      "  0.176471       60    0.449514      0.105367         3             8                 2    0.00494779                      0              1             0  0.00235124               0                 1   0.0674157   0.00610224          85.6   0.0538922     0.0382629      0.14083           0.146024          0.125012              0            0                         0                   0.00466284     0.0963994\n",
      "  0.0588235      36    0.562738      0.0628231        5             9                 2    0.00505263                      1              1             0  0.000535054              0                 2   0.0337079   0.00283011          87.5   0.011976      0              0.0681604         0.0857142         0.0387571             0            0                         0                   0.00305245     0.106613\n",
      "  0.135294       60    0.674271      0.092958         6             4                 3    0.00421053                      1              3             0  0.000555056              0                 2   0.11236     0.00179356          32.6   0.0658683     0              0.0111812         0.00462914        0.0121848             0            0.00592655                0.000298478         0.00417786     0.0556704\n",
      "  0.128676       60    0.311365      0.0712547        2             0                 2    0.00157895                      2              3             0  0.00180818               0                 0   0.011236    0.00319433          36.5   0.00598802    0              0.0255495         0.0192423         0.022037              0            0.00844156                0.000359887         0.00332962     0.141189\n",
      "  0.161765       60    0.39417       0.0937016        3             5                 3    0.00757895                      0              1             0  0.00161216               0                 2   0.146067    0.00138803          20.6   0.125749      0              0.132881          0.185714          0.0486466             0            0                         0                   0.0453876      0.0542671\n"
     ]
    }
   ],
   "source": [
    "print(combine_cleaned.rows(range(10)))"
   ]
  },
  {
   "cell_type": "markdown",
   "metadata": {},
   "source": [
    "As this dataset is too large and takes a significant amount of time to run, I decide to run a holdout sampling on the dataset to reduce the size of the dataset first, then run the machine learning algorithm. I set the sample size to be 500."
   ]
  },
  {
   "cell_type": "code",
   "execution_count": 84,
   "metadata": {},
   "outputs": [],
   "source": [
    "test = holdout(combine_cleaned, 500)\n",
    "test = test[1]"
   ]
  },
  {
   "cell_type": "code",
   "execution_count": 81,
   "metadata": {},
   "outputs": [
    {
     "name": "stdout",
     "output_type": "stream",
     "text": [
      "  loan_amnt    term    int_rate    installment    grade    home_ownership    annual_inc    loan_status          dti    open_acc    revol_bal    revol_util    total_acc    out_prncp    total_pymnt    total_rec_prncp    total_rec_int    recoveries    last_pymnt_amnt    home_value\n",
      "-----------  ------  ----------  -------------  -------  ----------------  ------------  -------------  -----------  ----------  -----------  ------------  -----------  -----------  -------------  -----------------  ---------------  ------------  -----------------  ------------\n",
      "  0.676471       60   0.434728       0.391985         4                 2    0.00505263              1  0.00245225    0.0224719  0.00818084           81.9    0.0718563   0.434915       0.0897807          0.0721994       0.109905        0                0.0158649      0.130138\n",
      "  0.441176       36   0.162653       0.343858         2                 2    0.00810526              1  0.00178518    0.0786517  0.00593493           72.1    0.0658683   0.164105       0.167735           0.225647        0.0741018       0                0.0139839      0.0989922\n",
      "  0.723529       60   0.262357       0.381267         2                 2    0.00785263              1  0.00253125    0.224719   0.0139581            32.5    0.251497    0.47899        0.0582233          0.05574         0.058379        0                0.0154459      0.0619047\n",
      "  0.436765       60   0.640896       0.283672         5                 2    0.00578947              1  0.00283928    0.0561798  0.00479442           81      0.0479042   0.294594       0.0581206          0.0372874       0.0848154       0                0.0116316      0.253229\n",
      "  0.567647       36   0.499366       0.494743         4                 1    0.00826158              1  0.000492049   0.123596   0.00223971           44.9    0.215569    0              0.366827           0.58            0.0369501       0                0.54209        0.054397\n",
      "  0.695588       60   0.258555       0.36582          2                 2    0.00889863              1  0.00112711    0.191011   0.00114946            7.1    0.437126    0.420765       0.11217            0.110733        0.10763         0                0.0148423      0.139323\n",
      "  0.629412       60   0.546261       0.387208         5                 1    0.00736842              1  0.00211721    0.11236    0.0113311            87.1    0.0838323   0.398078       0.108483           0.0784494       0.145509        0                0.0156782      0.0879372\n",
      "  0.558824       36   0.352345       0.46324          3                 2    0.00631579              1  0.00157116    0.0786517  0.00162591           65.6    0.0538922   0.298306       0.129249           0.150622        0.0907182       0                0.0186497      0.427804\n",
      "  0.158824       36   0.0675961      0.124517         1                 3    0.00526316              1  0.0010011     0.0561798  0.00194607           29.6    0.11976     0              0.12211            0.182857        0.0270697       0                0.0529135      0.141824\n",
      "  0.558824       36   0.493029       0.486178         4                 1    0.0110526               1  0.00115512    0.101124   0.00362051           38.5    0.0958084   0.387548       0.0243527          0.0247334       0.0223655       0                0.0195462      0.231713\n",
      "  0.676471       60   0.365864       0.377612         3                 1    0.0128421               1  0.00117212    0.134831   0.0241601            73.7    0.143713    0.400831       0.134932           0.120281        0.148156        0                0.0153031      0.138452\n",
      "  0.5            60   0.284326       0.267251         3                 1    0.00526316              1  0.00228023    0.247191   0.00852062           42      0.197605    0.355612       0.0136674          0.0126408       0.0143454       0                0.0109898      0.156047\n",
      "  0.111765       36   0.332066       0.0998043        3                 2    0.00525684              1  0.00259626    0.146067   0.00508049           73.8    0.155689    0.095003       0.0027457          0.00312657      0.002033        0                0.00444544     0.085197\n",
      "  0.558824       36   0.339248       0.461135         3                 1    0.00894737              1  0.00263026    0.101124   0.00603511           80.8    0.125749    0              0.369216           0.571428        0.0550459       0                0.49241        0.0985525\n",
      "  0.705882       60   0.619772       0.450578         5                 1    0.00705263              1  0.0020492     0.191011   0.008522             42.1    0.371257    0.375387       0.25215            0.184744        0.334739        0                0.0181549      0.0628259\n",
      "  1              60   0.588086       0.626183         5                 1    0.0105263               1  0.00271027    0.146067   0.00371863           92.3    0.191617    0.61554        0.188235           0.131687        0.258896        0                0.0250181      0.1305\n",
      "  0.558824       36   0.504858       0.488135         3                 2    0.00736842              3  0.00140914    0.157303   0.00187928           50.5    0.287425    0              0.139138           0.10273         0.0876681       0.0727725        0.0196227      0.167669\n",
      "  0.411765       36   0              0.302934         1                 2    0.00494737              1  0.00188019    0.280899   0.00722313           18.9    0.287425    0.259099       0.0424471          0.0630731       0.0101187       0                0.0123844      0.235601\n",
      "  0.182353       36   0.422053       0.161912         3                 2    0.00504211              1  0.00213221    0.134831   0.00483504           56.6    0.11976     0.00502037     0.151846           0.198632        0.0752379       0                0.00687282     0.164136\n",
      "  0.453676       36   0.442755       0.389993         3                 1    0.00851947              1  0.00239724    0.134831   0.0036484            73.6    0.101796    0              0.314917           0.469285        0.0731297       0                0.372587       0.0547101\n",
      "  0.370588       36   0.587241       0.336822         4                 2    0.00421053              1  0.00120912    0.0898876  0.00174743           43.4    0.143713    0              0.253441           0.388571        0.0430974       0                0.346616       0.128134\n",
      "  0.911765       60   0.239544       0.474            2                 1    0.008                   1  0.00262426    0.191011   0.00702587           43.4    0.191617    0.572007       0.108015           0.107383        0.102558        0                0.0190703      0.114287\n",
      "  0.264706       60   0.408534       0.152905         3                 1    0.00547368              1  0.00143514    0.0561798  0.00688094           58.4    0.0778443   0.170471       0.0533723          0.0452391       0.0619835       0                0.0065208      0.0993235\n",
      "  0.794118       36   0.197296       0.619729         2                 1    0.0236842               1  0.00118512    0.179775   0.00606506           36      0.215569    0.553538       0.0161729          0.01915         0.010914        0                0.026044       0.0847484\n",
      "  0.264706       60   0.39417        0.151657         3                 1    0.00610526              1  0.00249525    0.101124   0.00207826           21.2    0.137725    0.183262       0.032405           0.0271948       0.0380267       0                0.006472       0.158022\n",
      "  0.117647       36   0.224757       0.100295         2                 2    0.00526316              1  0.00176218    0.0561798  0.00258328           46.3    0.0299401   0.0253585      0.0789199          0.107085        0.0335385       0                0.00446463     0.0773522\n",
      "  0.367647       36   0.339248       0.306736         3                 1    0.00315789              3  0.00318832    0.123596   0.00693327           32.7    0.227545    0.165207       0.126596           0.152664        0.0814332       0                0.012533       0.105648\n",
      "  0.0529412      36   0.294466       0.0515716        3                 2    0.00294737              1  0.00341634    0.0898876  0.00199151           32.9    0.0658683   0.0513873      0.00643243         0.00751028      0.00449441      0                0.00256034     0.0903792\n",
      "  0.375735       60   0.262357       0.198718         2                 2    0.00631579              3  0.00292429    0.123596   0.00379402           51.7    0.269461    0              0.00539967         0.00488         0.00583253      0                0.009037       0.106771\n",
      "  0.794118       60   0.434728       0.459634         3                 1    0.0115789               1  0.00156916    0.168539   0.00897882           62.2    0.167665    0              0.509408           0.8             0.0591751       0                0.75139        0.100303\n",
      "  0.322059       60   0.588086       0.204617         5                 3    0.00350316              1  0.00258926    0.0674157  0.00123759           85.6    0.173653    0.204234       0.075275           0.0533251       0.102572        0                0.00854188     0.0379453\n",
      "  0.9375         36   0.692015       0.863186         5                 2    0.0115789               3  0.00327733    0.179775   0.00465913           33.3    0.203593    0              0.260966           0.181397        0.202634        0.11988          0.034281       0.148975\n",
      "  0.426471       60   0.287283       0.228579         2                 1    0.00789474              3  0.00161816    0.101124   0.00785621           43.5    0.143713    0              0.125552           0.0931865       0.093361        0.0543157        0.00947839     0.239248\n",
      "  0.261765       36   0.239544       0.213385         2                 3    0.00473684              1  0.00170917    0.191011   0.00261633           13      0.203593    0.0915991      0.117787           0.153642        0.0589937       0                0.00888457     0.141664\n",
      "  0.205882       36   0.120828       0.162382         2                 3    0.00631579              1  0.00230423    0.11236    0.00258672           64.8    0.143713    0.137702       0.0260399          0.034322        0.0125281       0                0.00689118     0.12269\n",
      "  0.505882       60   0.21842        0.260404         2                 1    0.00631579              1  0.000620062   0.11236    0.00421263           82.7    0.101796    0.314615       0.0740926          0.0761868       0.0666932       0                0.0107222      0.132438\n",
      "  0.588235       36   0.162653       0.455664         2                 1    0.0210526               1  0.00241824    0.191011   0.0212256            68      0.275449    0              0.369143           0.6             0.0135576       0                0.568717       0.0842904\n",
      "  1              36   0.141529       0.763024         2                 1    0.0126316               1  0.00234323    0.0674157  0.0222501            73.3    0.0838323   0.511426       0.210293           0.278555        0.0991828       0                0.0303663      0.0429138\n",
      "  0.147059       36   0.284326       0.125955         3                 1    0.00526316              1  0.00350735    0.168539   0.00860393           52.6    0.251497    0.118705       0.00338211         0.00397657      0.00232301      0                0.00546749     0.103317\n",
      "  0.176471       36   0.381496       0.154722         3                 2    0.00202105              1  0.00130013    0.0449438  0.0023213            60.2    0.0778443   0              0.148317           0.2             0.064837        0                0.0512502      0.29198\n",
      "  0.0323529      36   0.151246       0.0328425        1                 1    0.00778947              1  0.00225423    0.134831   0.00778323           69.8    0.161677    0              0.0385279          0.06            0.00520747      0                0.0464768      0.0650172\n",
      "  0.117647       36   0.0388678      0.0931474        1                 3    0.00315789              1  0.000615062   0.0337079  0.00160353           13.9    0.0778443   0.0856764      0.0159282          0.0219974       0.00621261      0                0.00418526     0.0401404\n",
      "  0.205882       36   0.324039       0.17512          3                 3    0.00484211              1  0.00220722    0.0898876  0.00113776           54.2    0.0958084   0.114829       0.0557277          0.0665874       0.0367373       0                0.00738905     0.0313106\n",
      "  0.455882       36   0.338403       0.377886         3                 2    0.0145789               1  0.00112611    0.101124   0.00392759           76.6    0.131737    0.311134       0.0275228          0.0325266       0.0186638       0                0.0153138      0.48858\n",
      "  0.323529       36   0.162653       0.254407         2                 1    0.00947368              1  0.00238824    0.179775   0.00869894           53.2    0.269461    0.127811       0.12091            0.16256         0.0535529       0                0.0132294      0.114803\n",
      "  0.485294       36   0.162653       0.377402         2                 3    0.0157895               1  0.00030403    0.0449438  0.00544988           69.4    0.0359281   0.310829       0.0481247          0.0615277       0.0259056       0                0.0152949      0.120719\n",
      "  0.323529       36   0.249261       0.262523         2                 1    0.00912632              1  0.00139514    0.191011   0.00162729           28.6    0.269461    0              0.207775           0.342857        0.000196235     0                0.329322       0.389856\n",
      "  0.117647       36   0.39417        0.10705          3                 2    0.00691158              1  0.00162116    0.0898876  0.000939124          61      0.0598802   0.0748699      0.0327672          0.0372417       0.0243642       0                0.00472864     0.205142\n",
      "  0.694118       60   0.544149       0.426132         5                 3    0.00736842              1  0.00352035    0.123596   0.00461334           43.4    0.0898204   0.487872       0.0210706          0.0146394       0.0291267       0                0.0171994      0.106914\n",
      "  0.558824       36   0.0819603      0.42092          1                 1    0.0184211               1  0.000569057   0.0674157  0.00767272           65.9    0.155689    0.343524       0.0642379          0.0868348       0.0277741       0                0.0169957      0.0386151\n",
      "  0.323529       36   0.338403       0.271025         3                 1    0.00473684              1  0.000821082   0.0786517  0.00209891           50      0.0419162   0.226279       0.0209394          0.0236557       0.0157765       0                0.0111373      0.0784744\n",
      "  0.182353       36   0.311365       0.155487         3                 1    0.0101053               1  0.00228823    0.0898876  0.00294612           72.5    0.143713    0.110691       0.0417155          0.0495677       0.0279005       0                0.00662169     0.128654\n",
      "  0.808824       36   0.517533       0.704508         4                 2    0.00652632              1  0.00169417    0.123596   0.00717803           49.3    0.227545    0.552475       0.0344905          0.0349351       0.0318129       0                0.0280793      0.14189\n",
      "  0.880882       60   0.746515       0.597963         6                 1    0.007                   1  0.00146715    0.191011   0.00504159           86.7    0.215569    0.584904       0.104317           0.0591897       0.163414        0                0.0239152      0.303751\n",
      "  0.235294       36   0.197719       0.189774         2                 1    0.00652632              1  0.00140314    0.0449438  0.00524849           67.2    0.0718563   0              0.166967           0.257143        0.0267273       0                0.186199       0.092911\n",
      "  0.117647       36   0.329109       0.104427         2                 2    0.00421053              1  0.00165017    0.0449438  0.00215055           85.6    0.0718563   0              0.105134           0.142857        0.0443868       0                0.0046198      0.153534\n",
      "  0.394118       60   0.588086       0.249427         5                 1    0.0123158               1  0.00166617    0.157303   0.00932273           92.4    0.11976     0.256738       0.0712138          0.0492597       0.0987568       0                0.0102932      0.225484\n",
      "  0.447059       60   0.386565       0.253257         3                 1    0.00526316              1  0.0019682     0.101124   0.0047087            54.7    0.101796    0.229178       0.15163            0.139567        0.160126        0                0.0104429      0.0777085\n",
      "  0.505882       60   0.120828       0.246031         2                 2    0.00652632              1  0.00216422    0.123596   0.00625543           45.8    0.0898204   0.348444       0.0255146          0.0284663       0.0197413       0                0.0101605      0.0632735\n",
      "  0.279412       60   0.434728       0.163652         4                 1    0.00712796              1  0.00333533    0.235955   0.00910378           48.9    0.179641    0              0.184095           0.3             0.0056429       0                0.291608       0.0606646\n",
      "  0.411765       60   0.433883       0.239655         4                 1    0.00631579              1  0.00178118    0.123596   0.00227035           55      0.245509    0.260285       0.0737409          0.0614          0.0872347       0                0.00867238     0.123664\n",
      "  0.117647       36   0.408534       0.107633         3                 2    0.00526316              1  0.0020042     0.0449438  0.00247863           65.5    0.0658683   0.0617771      0.0479937          0.0557111       0.0340033       0                0.0047514      0.361002\n",
      "  0.695588       60   0.670046       0.455601         5                 2    0.00684211              3  0.00260326    0.157303   0.0131343            68.7    0.161677    0              0.162194           0.105268        0.234937        0                0.0183512      0.194907\n",
      "  0.2            36   0.0549218      0.154056         1                 1    0.00526316              1  0.000446045   0.0449438  0.0062902            69.7    0.0538922   0              0.149191           0.222857        0.0338723       0                0.00691723     0.0483335\n",
      "  0.323529       60   0.262357       0.171319         2                 3    0.00336842              1  0.00339834    0.0786517  0.00448493           62.9    0.0538922   0.230819       0.0181508          0.0172523       0.0183792       0                0.00724046     0.0341225\n",
      "  0.198529       36   0.461343       0.177835         3                 1    0.00589474              1  0.00309531    0.101124   0.0013147            43.9    0.161677    0              0.135953           0.221428        0.00433825      0                0.215366       0.0237926\n",
      "  0.558824       36   0.108576       0.424982         1                 2    0.0105263               1  0.00181618    0.0786517  0.00561443           66.3    0.107784    0.354369       0.0539972          0.0715374       0.0254495       0                0.0171545      0.15097\n",
      "  0.382353       36   0.434728       0.329436         4                 3    0.00968421              1  0.000340034   0.0674157  0.00253336           42.5    0.113772    0.263989       0.0255414          0.0276031       0.0210534       0                0.0137078      0.18285\n",
      "  0.3            36   0.197296       0.239529         2                 2    0.00685263              1  0.00115012    0.0449438  0.004014             99.7    0.131737    0              0.196086           0.32            0.0053438       0                0.310942       0.180217\n",
      "  0.411765       60   0.434728       0.23976          4                 2    0.00515789              1  0.00267727    0.191011   0.00459096           70      0.251497    0.275564       0.0498524          0.0398465       0.0613791       0                0.0099154      0.0967912\n",
      "  0.352941       36   0.287283       0.289473         2                 2    0.00999674              1  0.00275028    0.168539   0.0125346            89      0.215569    0              0.2695             0.371428        0.106218        0                0.0118482      0.27911\n",
      "  0.588235       36   0.262357       0.472036         2                 3    0.0157895               1  0.00109511    0.101124   0.0043789            59.7    0.0658683   0.374644       0.0597213          0.0715074       0.0391558       0                0.0189935      0.183795\n",
      "  0.176471       36   0.120828       0.140342         2                 2    0.00547368              1  0.00149115    0.123596   0.00229514           60.1    0.0718563   0.116856       0.0265916          0.0351571       0.0126376       0                0.00602979     0.170946\n",
      "  0.617647       60   0.281791       0.329267         2                 1    0.00852632              1  0.00306231    0.179775   0.00915508           34.5    0.299401    0.370228       0.109579           0.106308        0.107844        0                0.0134136      0.0983144\n",
      "  0.117647       36   0              0.0916884        1                 1    0.00421053              1  0.000561056   0.146067   0.00184348            9.3    0.245509    0.0907973      0.0103992          0.0147737       0.00346035      0                0.00412824     0.0983447\n",
      "  0.471324       60   0.38741        0.266991         3                 1    0.00631579              1  0.00260826    0.0898876  0.00405496           35.8    0.0898204   0              0.335371           0.486428        0.0971646       0                0.410454       0.115016\n",
      "  0.676471       36   0.39417        0.566783         3                 2    0.00789474              1  0.00232523    0.191011   0.00496276           68      0.161677    0.441964       0.0569763          0.0622565       0.0459798       0                0.0226965      0.091903\n",
      "  0.242647       36   0.181665       0.194277         2                 1    0.00468421              1  0.0019692     0.0674157  0.00465086           80.9    0.0598802   0              0.183099           0.264286        0.0549046       0                0.078983       0.107719\n",
      "  0.794118       60   0.434728       0.459634         4                 1    0.0126316               1  0.00125913    0.11236    0.00515967           71.4    0.0718563   0.514385       0.0930582          0.0743805       0.114575        0                0.0185088      0.234796\n",
      "  0.441176       36   0.281791       0.358792         2                 2    0.00652632              1  0.00209521    0.0786517  0.00123621           21.8    0.161677    0.228643       0.109899           0.134607        0.067688        0                0.0145676      0.260829\n",
      "  0.838235       36   0.297          0.676843         2                 1    0.00751579              1  0.00262226    0.191011   0.00967249           43.8    0.227545    0.104576       0.517787           0.695337        0.230512        0                0.0301572      0.0547788\n",
      "  0.663971       60   0.493029       0.396965         4                 1    0.00627916              1  0.00214421    0.134831   0.00910172           65.9    0.167665    0              0.430764           0.673571        0.0542655       0                0.634155       0.12347\n",
      "  0.3625         60   0.544149       0.224433         5                 1    0.00631579              1  0.00336634    0.0674157  0.0137457            88.3    0.101796    0.267096       0.00541508         0.00393485      0.00723592      0                0.00931637     0.0359657\n",
      "  0.558824       36   0.324039       0.458701         3                 1    0.00631579              1  0.00173517    0.134831   0.00666337           43.6    0.197605    0.21086        0.221574           0.273978        0.132728        0                0.0184724      0.187727\n",
      "  0.176471       36   0.365864       0.153838         3                 2    0.00789474              3  0.00168817    0.11236    0.00388456           55      0.131737    0              0.00827934         0.00905999      0.00666209      0                0.00655726     0.105847\n",
      "  0.347059       60   0.640896       0.226405         5                 2    0.00738947              1  0.00148515    0.0561798  0.00939915           96.1    0.125749    0              0.267549           0.365714        0.109823        0                0.311386       0.137419\n",
      "  0.135294       36   0.245881       0.114928         2                 1    0.00378947              3  0.00229723    0.11236    0.000849962          16.9    0.221557    0              0.0757673          0.0913411       0.0348824       0.010544         0.00503652     0.0603948\n",
      "  0.534559       60   0.434728       0.310377         4                 1    0.00526316              1  0.00244824    0.0561798  0.00150542           97.2    0.149701    0.366242       0.0394347          0.0312166       0.0489911       0                0.0126753      0.0712159\n",
      "  0.158824       36   0.365864       0.139458         3                 2    0.00452632              1  0.00105211    0.0449438  0.00080452           37.1    0.0538922   0              0.118243           0.182857        0.0178384       0                0.157458       0.0685684\n",
      "  0.147059       36   0.193916       0.12169          2                 1    0.00947368              1  0.00216422    0.146067   0.00953926           57.1    0.137725    0              0.120171           0.171428        0.0389666       0                0.026291       0.0943572\n",
      "  0.558824       60   0.365864       0.312355         3                 1    0.00736842              1  0.00251025    0.11236    0.00325216           59.4    0.239521    0.275742       0.193208           0.182452        0.197362        0                0.0127526      0.082573\n",
      "  0.419118       36   0.670046       0.390077         5                 2    0.00473684              3  0.00154915    0.134831   0.00438269           72.7    0.0838323   0              0.0398743          0.0360017       0.0431214       0                0.0157903      0.276866\n",
      "  0.323529       36   0.197296       0.257634         2                 1    0.00442105              1  0.00186319    0.202247   0.00597383           39.3    0.161677    0.18264        0.0668917          0.0852154       0.0364502       0                0.0106139      0.103594\n",
      "  0.645588       60   0.493029       0.386072         4                 2    0.0115789               1  0.00105611    0.0674157  0.00286694           91.5    0.0658683   0.411856       0.0983226          0.0747288       0.126637        0                0.0156337      0.180098\n",
      "  0.558824       60   0.599916       0.354022         5                 1    0.00789474              1  0.00281028    0.0898876  0.00150232           62.3    0.257485    0.321479       0.163421           0.117934        0.219552        0                0.0143811      0.289878\n",
      "  0.205882       36   0.339248       0.176096         3                 2    0.0142105               1  0.00238424    0.0898876  0.00316162           98.8    0.143713    0.106549       0.0655412          0.0782671       0.0432734       0                0.00742716     0.0894944\n",
      "  0.264706       60   0.546261       0.165146         5                 1    0.00947368              1  3.50035e-05   0.101124   1.20489e-05           0.2    0.149701    0.193986       0.0173237          0.012068        0.0239011       0                0.0069992      0.257281\n",
      "  0.411765       60   0.517533       0.250801         4                 1    0.00631579              1  0.0020382     0.0786517  0.00885695           86.9    0.0598802   0.273305       0.0594713          0.0430325       0.0797323       0                0.0103469      0.116331\n",
      "  0.794118       36   0.121251       0.603266         1                 1    0.0156842               1  0.00160216    0.168539   0.0162808            67.2    0.209581    0.408311       0.167075           0.224014        0.0748876       0                0.0241224      0.171137\n",
      "  0.294118       36   0.434728       0.255859         3                 3    0.00526316              1  0.0019762     0.101124   0.0023151            83      0.137725    0.0793616      0.166417           0.202334        0.104666        0                0.0105446      0.295672\n",
      "  0.5            60   0.463456       0.295064         3                 1    0.00957895              1  0.000575058   0.0674157  0.0067126            78.3    0.137725    0              0.398914           0.514285        0.208557        0                0.354244       0.244697\n",
      "  0.4375         36   0.422053       0.373782         3                 1    0.00421053              3  0.00248425    0.101124   0.00388043           48.6    0.131737    0              0.133862           0.117331        0.0814732       0.0518966        0.0151534      0.051771\n",
      "  0.583088       36   0.393747       0.489881         3                 2    0.00549926              1  0.000857086   0.11236    0.00251064           56.1    0.125749    0              0.385676           0.595           0.0602525       0                0.046394       0.159533\n",
      "  1              36   0.653992       0.908515         5                 3    0.0106211               1  0.00336734    0.0786517  0.010278             81.5    0.101796    0              0.791024           0.999999        0.442189        0                0.00437169     0.293021\n",
      "  0.230147       36   0.262357       0.190286         2                 1    0.0126316               1  0.00156716    0.134831   0.0123108            79.5    0.11976     0.15744        0.0249991          0.03005         0.016221        0                0.00798178     0.309858\n",
      "  0.349265       36   0.599916       0.319496         5                 2    0.00452632              1  0.0029783     0.0561798  0.00246038           98.5    0.0598802   0.176856       0.114937           0.118374        0.103187        0                0.0130317      0.257766\n",
      "  0.676471       36   0.38741        0.565464         3                 1    0.0121053               1  0.00152015    0.146067   0.00935061           76.1    0.227545    0              0.420402           0.685714        0.0119724       0                0.665919       0.167618\n",
      "  0.394118       36   0.108999       0.302128         1                 1    0.00789474              1  0.00274127    0.101124   0.00409455           62.9    0.161677    0              0.269697           0.411428        0.0488502       0                0.254261       0.0503897\n",
      "  0.470588       36   0.268272       0.380264         2                 1    0.00684211              1  0.0019892     0.0561798  0.00546193           75.2    0.0838323   0.221567       0.138362           0.17316         0.0798835       0                0.0154067      0.0785351\n",
      "  0.132353       36   0.162653       0.109057         2                 2    0.00394105              1  0.00125813    0.0786517  0.0011295            29.6    0.137725    0.103235       0.0090073          0.0115143       0.00485094      0                0.00480705     0.11815\n",
      "  0.411765       36   0.0760456      0.311527         1                 2    0.0101053               1  0.00167317    0.146067   0.00651775           58.8    0.149701    0.193283       0.112324           0.155916        0.0426645       0                0.0127203      0.436962\n",
      "  0.558824       36   0.434728       0.476596         4                 1    0.00547368              1  0.00232623    0.179775   0.00738734           86.2    0.113772    0.237072       0.205756           0.237002        0.148438        0                0.0191717      0.142547\n",
      "  0.147059       36   0.299958       0.126705         2                 1    0.0189474               1  0.00120212    0.202247   0.0104237            83.7    0.281437    0              0.124528           0.171428        0.0493666       0                0.0271782      0.19466\n",
      "  0.147059       36   0.21842        0.12284          2                 2    0.00421053              1  0.000819082   0.0561798  0.00207964           39.2    0.0538922   0.0787273      0.0471268          0.0603717       0.025195        0                0.00534577     0.0866151\n",
      "  0.0235294      36   0.0971694      0.025414         1                 2    0.00189474              1  0.00227323    0.101124   0.000716047          27      0.107784    0              0.0348458          0.0514285       0.00881242      0                0.00771064     0.335387\n",
      "  0.558824       36   0.162653       0.433301         2                 2    0.0147368               1  0.00148215    0.146067   0.0127921            94.8    0.155689    0.249665       0.16535            0.219238        0.0776753       0                0.0174796      0.137067\n",
      "  0.0294118      36   0.662019       0.0389102        5                 2    0.00469674              1  0.00260426    0.0674157  0.00452418           69.5    0.0419162   0              0.0363148          0.0571428       0.00405608      0                0.014334       0.0737828\n",
      "  0.261765       36   0.1297         0.204933         1                 1    0.00968421              1  0.000150015   0.0561798  0.00111538           66.3    0.0898204   0              0.180192           0.282857        0.0211137       0                0.225546       0.274091\n",
      "  0.0294118      36   0.370511       0.0340771        2                 2    0.00423242              1  0.00272427    0.191011   0.00536037           67.7    0.233533    0              0.0425134          0.0571428       0.0188518       0                0.00926592     0.12581\n",
      "  0.160294       36   0.185467       0.13144          2                 1    0.00579021              1  0.00277128    0.0898876  0.010067             92.9    0.215569    0              0.118959           0.184286        0.0174811       0                0.14304        0.0743456\n",
      "  0.647059       36   0.262357       0.518319         2                 1    0.00884211              1  0.00113911    0.0786517  0.00353858           57.1    0.0538922   0.421641       0.0522762          0.0623531       0.0346213       0                0.0208024      0.179347\n",
      "  0.264706       36   0.258555       0.21718          2                 3    0.00526316              1  0.00273827    0.134831   0.0113053            56.4    0.179641    0.137236       0.0739133          0.0921214       0.0432247       0                0.00903289     0.057999\n",
      "  0.466176       60   0.434728       0.271053         3                 1    0.00669075              1  0.00146915    0.0898876  0.00120282           62.4    0.173653    0.219638       0.190963           0.171595        0.207702        0                0.0111384      0.0816748\n",
      "  0.558824       60   0.529785       0.341248         4                 1    0.00631579              1  0.00262126    0.168539   0.00594732           64.9    0.113772    0.392211       0.025948           0.0181546       0.0356859       0                0.0138819      0.0576083\n",
      "  0.852941       36   0.499366       0.737807         4                 1    0.01                    1  0.00172817    0.157303   0.00343806           56.1    0.11976     0.407305       0.259183           0.282577        0.210064        0                0.0293807      0.111355\n",
      "  0.441176       36   0.379383       0.371292         3                 2    0.0147368               3  0.00143114    0.0561798  0.00363497           30.9    0.0419162   0              0.0474582          0.0102311       0.00786759      0.0687603        0.0150561      0.370384\n",
      "  0.605882       36   0.222645       0.456344         2                 1    0.0113684               1  0.000940094   0.168539   0.0149275            42.3    0.185629    0              0.417054           0.588571        0.144444        0                0.0730686      0.195163\n",
      "  1              60   0.433883       0.577768         4                 1    0.0157895               3  0.00148715    0.123596   0.0122472            86.8    0.161677    0.660079       0.101616           0.068858        0.141244        0                0.0242823      0.165701\n",
      "  0.396324       60   0.529785       0.243127         4                 2    0.00421053              1  0.00333933    0.0786517  0.000418612          60.8    0.0958084   0.26327        0.0571682          0.0421894       0.075454        0                0.0109662      0.0761857\n",
      "  0.369853       36   0.504858       0.326847         3                 1    0.00547368              1  0.00214621    0.157303   0.00430696           86.3    0.125749    0              0.238335           0.387857        0.00807333      0                0.377559       0.0549113\n",
      "  0.586765       60   0.608365       0.373123         4                 1    0.005                   1  0.00316032    0.134831   0.00618555           86      0.0958084   0              0.523328           0.598571        0.383656        0                0.34512        0.0850028\n",
      "  0.111765       36   0.0916772      0.0907835        1                 2    0.00789474              1  0.00184018    0.0674157  0.0134472            97.2    0.0598802   0.0671997      0.0309374          0.0423474       0.012614        0                0.00409287     0.178177\n",
      "  0.727206       60   0.517533       0.440084         4                 2    0.00589474              3  0.00188619    0.191011   0.0103111            36      0.173653    0              0.190442           0.148013        0.240556        0                0.0177447      0.218211\n",
      "  0.323529       60   0.597803       0.206602         4                 2    0.00378947              1  0.00343734    0.11236    0.00277813           51.1    0.0838323   0.182993       0.114273           0.0847174       0.150266        0                0.00861946     0.146476\n",
      "  0.427941       60   0.366286       0.239816         3                 2    0.00505263              1  0.00235224    0.123596   0.00852888           55.5    0.161677    0.0423642      0.337873           0.384524        0.250484        0                0.00991759     0.0630087\n",
      "  0.264706       36   0.434728       0.231329         4                 1    0.00631579              1  0.0010361     0.0898876  0.00301394           73      0.0538922   0.112996       0.10893            0.126316        0.0773643       0                0.00958586     0.094924\n",
      "  0.852941       36   0.162653       0.656921         2                 2    0.01041                 1  0.00162816    0.157303   0.00701967           60.2    0.185629    0.502138       0.117323           0.1488          0.064887        0                0.0262195      0.223936\n",
      "  0.411765       36   0.38741        0.348193         3                 1    0.0157895               1  0.00164416    0.123596   0.0186269            73      0.149701    0.192923       0.134961           0.156424        0.0959645       0                0.0141533      0.134756\n",
      "  1              36   0.365864       0.824929         3                 1    0.00873684              1  0.00114311    0.134831   0.0123277            64.4    0.167665    0.42991        0.331168           0.393546        0.221435        0                0.0327858      0.0631442\n",
      "  1              60   0.493029       0.596097         4                 1    0.0136842               1  0.00336934    0.191011   0.00433381           59.4    0.185629    0.573888       0.24083            0.190443        0.299478        0                0.0238422      0.157574\n",
      "  0.452206       60   0.619772       0.290322         5                 2    0.00589474              3  0.000870087   0.0898876  0.00250307           63.2    0.0898204   0.300284       0.0669357          0.0442603       0.095774        0                0.0118915      0.0757648\n",
      "  0.15           36   0.0925222      0.119179         1                 3    0.00126316              1  0             0.0449438  0                     0      0.125749    0              0.110376           0.174286        0.0114548       0                0.138648       0.0758975\n",
      "  0.147059       36   0.0663287      0.115812         1                 1    0.00442105              1  0.0019962     0.101124   0.00225348           39.4    0.137725    0.118476       0.00316161         0.00430057      0.0013282       0                0.00507106     0.0841935\n",
      "  0.429412       36   0.0819603      0.325248         1                 2    0.00736842              1  0.00120712    0.0337079  0.00199357           55.2    0.0778443   0.300151       0.0166291          0.0223048       0.00744125      0                0.0132565      0.0630631\n",
      "  0.441176       36   0.183777       0.346474         2                 2    0.0105263               1  0.00179418    0.0898876  0.00284388           60.7    0.161677    0.118576       0.213425           0.289874        0.0902939       0                0.0140861      0.120688\n",
      "  0.0441176      36   0.1297         0.0413373        1                 1    0.00378947              1  0.00116412    0.146067   0.00497584           16.7    0.0958084   0              0.0461729          0.0714285       0.00693062      0                0.0536951      0.0810418\n",
      "  1              60   0.792564       0.693495         6                 2    0.00957895              1  0.00337634    0.224719   0.00681037           53.8    0.215569    0.490455       0.471277           0.308138        0.679362        0                0.0276489      0.341589\n",
      "  0.264706       36   0.239544       0.215679         2                 2    0.00281916              1  0.0020422     0.179775   0.00280635           26.6    0.167665    0.168183       0.0393945          0.0484668       0.0239523       0                0.00897422     0.357422\n",
      "  0.264706       36   0.0299958      0.199559         1                 1    0.0056542               1  0.000545055   0.11236    0.00248276           13.7    0.149701    0              0.189637           0.285714        0.0395272       0                0.008339       0.098784\n",
      "  0.617647       36   0.332066       0.507376         3                 3    0.00526316              1  0.00286829    0.213483   0.0067126            34.8    0.323353    0.425161       0.0254467          0.0288171       0.019072        0                0.0203747      0.0765998\n",
      "  0.705882       60   0.422053       0.40612          3                 1    0.0105263               3  0.00166717    0.0674157  0.00612737           95.7    0.161677    0              0.199754           0.102984        0.170228        0.117758         0.0164173      0.0831405\n",
      "  0.441176       36   0.373469       0.370527         3                 1    0.00778947              1  0.00231423    0.101124   0.00512353           91.9    0.137725    0.151791       0.19921            0.243018        0.124114        0                0.0150262      0.12041\n",
      "  0.240441       36   0.379806       0.207002         3                 1    0.00242105              1  0.00273027    0.11236    0.00087406           16.2    0.155689    0.122803       0.0761937          0.0889108       0.0533103       0                0.00863509     0.0575319\n",
      "  0.323529       36   0.517533       0.288568         4                 2    0.00631579              1  0.00336634    0.157303   0.00416409           65      0.107784    0.123784       0.149279           0.168241        0.113054        0                0.011823       0.125814\n",
      "  0.5            60   0.260668       0.263687         2                 1    0.0126316               1  0.000944094   0.123596   0.00570394           89.1    0.0958084   0.355479       0.0124185          0.0128283       0.0110933       0                0.00945043     0.179441\n",
      "  0.117647       36   0.29869        0.103213         3                 2    0.00547368              1  0.00214421    0.0898876  0.000802799          93.3    0.125749    0.0689338      0.0375178          0.0456154       0.0235958       0                0.00457868     0.253105\n",
      "  0.411765       36   0.162653       0.321495         2                 2    0.00778947              1  0.00127113    0.0449438  0.00611222           68.6    0.0598802   0              0.273355           0.428571        0.0327945       0                0.354338       0.108944\n",
      "  0.5            60   0.338403       0.275493         3                 1    0.0136842               1  0.00173917    0.123596   0.0069849            61.5    0.161677    0.32404        0.0656564          0.0571777       0.0740427       0                0.0113119      0.206273\n",
      "  0.558824       36   0.108154       0.424919         1                 1    0.0315789               1  0.000563056   0.202247   0.033457             30.5    0.341317    0              0.384576           0.571428        0.0917097       0                0.121811       0.0881213\n",
      "  0.441176       36   0.0574567      0.330972         1                 3    0.00526316              1  0.00142514    0.101124   0.00397406           35.3    0.125749    0.249015       0.0764892          0.10587         0.029494        0                0.0134802      0.0677272\n",
      "  0.0941176      36   0.338403       0.0858031        3                 2    0.00421053              1  0.00325833    0.101124   0.00355889           98.5    0.0958084   0.0689719      0.0196341          0.0227046       0.014036        0                0.00389822     0.169397\n",
      "  0.582353       60   0.704267       0.388955         5                 1    0.00736842              1  0.00153715    0.101124   0.00522542           94.3    0.0898204   0.31642        0.218699           0.147927        0.30813         0                0.0157464      0.0768109\n",
      "  0.382353       36   0.0697085      0.289157         1                 2    0.00484211              1  0.000540054   0.101124   0.000666475           8.2    0.11976     0              0.243729           0.4             0.00339177      0                0.386105       0.100405\n",
      "  0.323529       36   0.35319        0.272449         3                 2    0.0136842               1  0.000308031   0.0224719  0.00587296           94.8    0.0778443   0              0.24492            0.342857        0.0888599       0                0.175289       0.155918\n",
      "  0.411765       36   0.262357       0.333188         2                 2    0.00473684              1  0.00242324    0.0898876  0.00290275           60.2    0.0718563   0              0.270794           0.428571        0.0266818       0                0.38745        0.128041\n",
      "  0.386765       60   0.558513       0.241037         5                 2    0.00621053              1  0.00130613    0.0674157  0.00238637           78.8    0.0479042   0.248232       0.0748636          0.0541165       0.100446        0                0.00996529     0.120358\n",
      "  0.264706       36   0.556401       0.241388         4                 1    0.00526316              1  0.00253725    0.157303   0.00503195           77.3    0.161677    0              0.211706           0.285714        0.0922034       0                0.165984       0.0629639\n",
      "  0.359559       36   0.704267       0.340308         5                 1    0.00378947              1  0.00227323    0.0674157  0.000989729          54.2    0.0538922   0.203672       0.0955873          0.0905459       0.0972373       0                0.0138451      0.164562\n",
      "  0.676471       36   0.197296       0.529205         2                 1    0.0109474               1  0.00150615    0.157303   0.00222216           27.1    0.173653    0.438969       0.053375           0.0664817       0.0312746       0                0.0212279      0.167928\n",
      "  0.323529       60   0.529785       0.199174         4                 2    0.00494737              1  0.00158116    0.134831   0.00202318           41.4    0.11976     0.224484       0.0362926          0.0261883       0.0487618       0                0.00832913     0.232832\n",
      "  0.458824       36   0.517533       0.404527         4                 1    0.00526316              3  0.000731073   0.224719   0.00228343           21.4    0.173653    0.199141       0.175527           0.193367        0.139375        0                0.016355       0.0780308\n",
      "  0.223529       36   0.413181       0.195484         3                 1    0.00894737              1  0.00165617    0.134831   0.0029802            71.5    0.257485    0.056494       0.13433            0.166021        0.0805813       0                0.00818493     0.113653\n",
      "  0.126471       36   0.162653       0.104581         2                 1    0.00863158              1  0.000439044   0.0337079  0.00473176           94.1    0.0958084   0.0994814      0.00849239         0.0110949       0.00422836      0                0.00463214     0.129201\n",
      "  0.535294       60   0.294466       0.287635         3                 2    0.0115789               1  0.0010271     0.11236    0.00372654           81.4    0.179641    0.364764       0.0367509          0.0340154       0.0385382       0                0.0117865      0.303851\n",
      "  0.808824       60   0.585974       0.506752         5                 3    0.00789474              1  0.00258626    0.146067   0.00699489           70.1    0.113772    0.553464       0.0508637          0.03354         0.072912        0                0.0203503      0.143998\n",
      "  0.473529       36   0.463456       0.409494         4                 2    0.006                   3  0.00272027    0.0898876  0.00268173           74.9    0.0598802   0.231181       0.146267           0.162454        0.114232        0                0.0165491      0.108055\n",
      "  0.558824       60   0.493029       0.334654         4                 1    0.00631579              1  0.00136414    0.168539   0.00403981           33.7    0.227545    0.333282       0.129016           0.101283        0.161505        0                0.0136242      0.106418\n",
      "  0.111765       36   0.324039       0.0994956        3                 2    0.00263158              1  0.00059506    0.101124   0.000760456          17.7    0.0598802   0              0.0905742          0.137143        0.017895        0                0.108193       0.114562\n",
      "  0.264706       60   0.302915       0.143842         2                 2    0.00684211              1  0.00157516    0.123596   0.00309622           36      0.191617    0              0.186428           0.285714        0.0318678       0                0.258304       0.100565\n",
      "  0.394118       60   0.545839       0.243885         4                 2    0.00378947              1  0.00187319    0.11236    0.00310241           76.4    0.131737    0.22596        0.120868           0.0926779       0.154498        0                0.0100766      0.178156\n",
      "  0.314706       36   0.297          0.260033         2                 1    0.00354737              1  0.00333633    0.11236    0.0080576            62.6    0.113772    0.0458069      0.202785           0.269668        0.0941112       0                0.0107077      0.0689778\n",
      "  0.338235       36   0.239544       0.273087         2                 3    0.00842105              1  0.00182318    0.11236    0.00806276           82.5    0.0958084   0.143919       0.120394           0.154124        0.0645193       0                0.0112179      0.11154\n",
      "  0.384559       36   0.380651       0.325086         3                 2    0.00473684              1  0.00275528    0.0561798  0.00276745           95.7    0.0778443   0              0.291235           0.402143        0.113687        0                0.183349       0.122782\n",
      "  0.194118       60   0.197296       0.0993133        2                 1    0.00572632              1  0.000982098   0.11236    0.000855126           8      0.221557    0              0.140688           0.217143        0.0218379       0                0.175013       0.00027302\n",
      "  0.382353       36   0.108576       0.293303         1                 1    0.00578947              1  0.000631063   0.0337079  0.00413517           78.5    0.113772    0.240818       0.0453785          0.0602891       0.0211414       0                0.012008       0.0774985\n",
      "  0.347059       36   0.162653       0.272301         2                 2    0.00433684              1  0.000915092   0.101124   0.00232337           22.3    0.125749    0.207617       0.0572343          0.0728391       0.031294        0                0.0111872      0.133402\n",
      "  0.852941       36   0.281791       0.684923         2                 1    0.00894737              1  0.00226023    0.123596   0.014208             57.1    0.113772    0              0.565543           0.857142        0.110541        0                0.65001        0.0931459\n",
      "  0.217647       36   0.294466       0.182591         3                 2    0.00378947              1  0.00237724    0.11236    0.00277434           84.8    0.107784    0.154162       0.0192971          0.0225306       0.0134832       0                0.00768103     0.110705\n",
      "  0.411765       36   0.239544       0.330488         2                 1    0.0157895               1  0.000928093   0.11236    0.00280085           79.8    0.101796    0.274765       0.033676           0.040974        0.0211368       0                0.0134613      0.0935865\n",
      "  0.323529       60   0.338403       0.179014         3                 2    0.00610526              1  0.00191019    0.11236    0.00288278           40.3    0.11976     0.23137        0.0187358          0.0164743       0.0209005       0                0.00754121     0.111079\n",
      "  0.45           36   0.324039       0.371264         2                 2    0.00391579              3  0.00348735    0.101124   0.00582408           55.3    0.161677    0              0.114053           0.135669        0.076067        0                0.015055       0.157458\n",
      "  0.535294       36   0.260668       0.430124         2                 2    0.005                   1  0.00314831    0.202247   0.00874129           89.7    0.221557    0.370594       0.0217012          0.025792        0.0145057       0                0.0173554      0.0965531\n",
      "  0.852941       60   0.86523        0.613641         7                 1    0.0141579               1  0.000847085   0.0786517  6.23099e-05           1.2    0.365269    0.497893       0.278725           0.154788        0.441487        0                0.0245279      0.113271\n",
      "  0.0235294      60   0.378116       0.0156216        3                 1    0.00973642              1  0.00209021    0.146067   0.0136352            89.1    0.227545    0.00266219     0.03839            0.0476731       0.0227022       0                0.00115529     0.171861\n",
      "  0.117647       36   0.517533       0.112108         4                 1    0.00473684              1  0.00275728    0.0898876  0.00147513           40.8    0.179641    0.0901663      0.0154657          0.0156637       0.0142669       0                0.00492631     0.135866\n",
      "  0.264706       36   0.197296       0.212375         2                 2    0.00842105              1  0.000788079   0.0449438  0.00212749           52.6    0.0239521   0.0564764      0.150717           0.206046        0.0618241       0                0.00884509     0.0728479\n",
      "  0.676471       36   0.302915       0.549183         2                 1    0.00905263              1  0.000759076   0.11236    0.00164794           56.3    0.155689    0.116337       0.367742           0.521603        0.123572        0                0.0220087      0.150493\n",
      "  0.268382       60   0.704267       0.182184         6                 1    0.00894737              1  0.00180618    0.0898876  0.00123002           43      0.161677    0.199252       0.0149452          0.00820971      0.0238027       0                0.00766513     0.0967664\n",
      "  0.116176       36   0.517533       0.110845         4                 2    0.00547368              1  0.000912091   0.0224719  0.000208962          30      0.137725    0.0538753      0.0587584          0.0654291       0.0456464       0                0.00528847     0.170868\n",
      "  0.335294       36   0.386988       0.285377         3                 1    0.00684211              1  0.00328533    0.202247   0.00389454           75.9    0.155689    0.245538       0.00747141         0.00791628      0.00638736      0                0.0123817      0.0961345\n",
      "  0.182353       36   0.324039       0.156216         3                 2    0.00347368              1  0.000385039   0.0561798  0.00207344           18.9    0.0299401   0.0918391      0.0629751          0.0761611       0.0401936       0                0.0066502      0.224906\n",
      "  0.970588       60   0.704267       0.644631         6                 1    0.0108421               1  0.0019742     0.11236    0.00766928           81.6    0.155689    0.669095       0.0480292          0.0275677       0.0747818       0                0.0257391      0.152258\n",
      "  0.441176       36   0.345163       0.36688          3                 1    0.00789474              1  0.00192319    0.101124   0.00237845           48      0.149701    0              0.335346           0.457143        0.139451        0                0.052815       0.178473\n",
      "  0.264706       60   0.39417        0.151657         3                 2    0.00315789              1  0.00265627    0.101124   0.00268724           74.3    0.0718563   0.180718       0.0366317          0.0307837       0.0429264       0                0.006472       0.0928011\n",
      "  0.301471       60   0.83101        0.217643         6                 2    0.00463158              3  0.00290229    0.101124   0.00225865           52.1    0.143713    0              0.0164661          0.00838885      0.0271739       0                0.00905098     0.0448413\n",
      "  0.794118       36   0.121251       0.603266         1                 2    0.0257895               1  0.00117512    0.123596   0.00430592           38.3    0.137725    0.37814        0.197533           0.266576        0.0860465       0                0.0241224      0.112504\n",
      "  0.0882353      36   0.311365       0.0801843        3                 1    0.00473684              3  0.000688069   0.0561798  0.00465121           50.8    0.0598802   0.0695512      0.0138121          0.0161731       0.00958331      0                0.00367862     0.112551\n",
      "  0.794118       36   0.0388678      0.585722         1                 2    0.00894737              1  0.00167417    0.157303   0.00817637           20.3    0.185629    0.464867       0.103993           0.144233        0.0396734       0                0.0234368      0.0623831\n",
      "  0.547059       60   0.120828       0.266023         2                 1    0.00836842              1  0.00218522    0.157303   0.00498514           37.6    0.257485    0.375248       0.0270911          0.0306548       0.0203399       0                0.0109418      0.116667\n",
      "  0.464706       60   0.329109       0.254863         2                 1    0.00821053              1  0.00345535    0.247191   0.0101458            54.9    0.239521    0              0.334257           0.48            0.1038          0                0.382405       0.105847\n",
      "  0.764706       60   0.628644       0.489959         4                 1    0.00789474              1  0.00174117    0.202247   0.00859635           69.2    0.179641    0              0.617434           0.771428        0.35834         0                0.584245       0.134524\n",
      "  0.114706       36   0.39417        0.10463          3                 2    0.00526316              1  0.000438044   0.0337079  0.000964598          66.7    0.0718563   0              0.0924274          0.14            0.0181871       0                0.114003       0.207038\n",
      "  0.558824       60   0.517533       0.339046         4                 1    0.00842105              1  0.00124112    0.146067   0.011747             52.6    0.239521    0.277595       0.217663           0.179838        0.259514        0                0.0137958      0.0561395\n",
      "  0.407353       60   0.366286       0.22839          3                 1    0.0137895               1  0.00310731    0.516854   0.0168374            80.2    0.335329    0.27921        0.0356751          0.0304174       0.0411727       0                0.00947099     0.134072\n",
      "  0.264706       60   0.86523        0.19526          7                 2    0.00526316              3  0.000730073   0.0337079  0.00210752           83.9    0.149701    0              0.0877487          0.0481863       0.139777        0                0.00817615     0.141501\n",
      "  0.382353       60   0.311365       0.207956         3                 1    0.00736842              1  0.00149715    0.11236    0.00550083           50.6    0.11976     0.266151       0.027204           0.0245537       0.0294312       0                0.00867238     0.0454993\n",
      "  1              60   0.239544       0.51975          2                 2    0.00842105              1  0.0019922     0.157303   0.013671             61.5    0.143713    0.672729       0.0519326          0.0510128       0.0501987       0                0.0208583      0.105428\n",
      "  0.123529       36   0.34474        0.109807         3                 2    0.00410526              1  0.00147415    0.0674157  0.00165517           43.3    0.0538922   0              0.107144           0.148571        0.0409202       0                0.0252012      0.058451\n",
      "  0.132353       36   0.577524       0.12747          5                 2    0.00473684              1  0.00205921    0.0561798  0.00523231           91.6    0.155689    0              0.0966991          0.157143        0.00359586      0                0.153172       0.0605274\n",
      "  0.558824       36   0.329109       0.459508         2                 2    0.0131579               1  0.00182818    0.168539   0.00969693           69.7    0.137725    0              0.406511           0.571428        0.144067        0                0.21776        0.264162\n",
      "  0.323529       36   0.38741        0.275767         3                 2    0.00715789              2  0.000983098   0.0449438  0.00327179           88      0.0958084   0.167179       0.0931155          0.107025        0.066656        0                0.0118888      0.232951\n",
      "  0.558824       60   0.463456       0.329393         3                 1    0.00894737              1  0.0010411     0.0898876  0.00284973           82.8    0.137725    0.201955       0.304855           0.28654         0.313351        0                0.0134186      0.0547817\n",
      "  0.215441       36   0.162653       0.17223          2                 1    0.00378947              1  0.00274027    0.0561798  0.00532732           97.9    0.0598802   0.164528       0.00452009         0.00576514      0.00245315      0                0.0072761      0.123232\n",
      "  0.211765       36   0.434728       0.187186         3                 2    0.00242105              1  0.00120112    0.0786517  0.00114602           37.8    0.0419162   0.0738839      0.109175           0.130061        0.0725327       0                0.0078606      0.130092\n",
      "  0.264706       36   0.287283       0.219453         2                 2    0.00842105              1  0.00147615    0.0674157  0.00254679           42.5    0.0718563   0              0.19699            0.285714        0.0570768       0                0.166131       0.120069\n",
      "  0.470588       36   0.162653       0.36622          2                 1    0.00578947              1  0.00215122    0.101124   0.00602685           73      0.0718563   0.31909        0.02784            0.0355886       0.0149936       0                0.0148579      0.0961184\n",
      "  0.418382       60   0.873257       0.305761         7                 1    0.00535305              3  0.00189019    0.0898876  0.000572149          50.4    0.0479042   0.260178       0.126211           0.0679785       0.202966        0                0.0124949      0.12285\n",
      "  0.411765       36   0.52556        0.365196         4                 2    0.00757895              1  0.000868087   0.146067   0.0037262            80.2    0.107784    0.101061       0.243215           0.28601         0.166988        0                0.0148179      0.198909\n",
      "  0.0882353      36   0.338403       0.0810542        3                 2    0.00684211              1  0.000629063   0.0224719  0.00276504           84.5    0.113772    0.0754261      0.00703145         0.00788571      0.00538139      0                0.00371262     0.52359\n",
      "  0.535294       36   0.721589       0.503209         5                 2    0.00867368              1  0.00089709    0.123596   0.00549876           82.3    0.11976     0              0.425043           0.548571        0.221351        0                0.329669       0.211285\n",
      "  0.629412       60   0.668779       0.412475         5                 3    0.00714337              3  0.00215622    0.123596   0.0101844            82.6    0.155689    0              0.241988           0.170844        0.330581        0                0.0166657      0.177228\n",
      "  0.558824       60   0.352767       0.31011          3                 2    0.00789474              1  0.00237424    0.0674157  0.00542268           71.6    0.173653    0.395543       0.0142822          0.0134548       0.0146359       0                0.0126649      0.140983\n",
      "  0.5            36   0.765104       0.477662         6                 2    0.00815789              3  0.00284628    0.146067   0.0146442            97.3    0.143713    0              0.0606481          0.0518974       0.0697231       0                0.0192134      0.0490406\n",
      "  0.558824       36   0.0663287      0.418542         1                 1    0.0115789               1  0.000467047   0.123596   0.00153881           12      0.0778443   0.394919       0.0104059          0.0143346       0.00411144      0                0.0169028      0.0838063\n",
      "  0.5            60   0.287283       0.2677           2                 2    0.00589474              1  0.000814081   0.0898876  0.00595662           67.6    0.0958084   0              0.383518           0.514285        0.171808        0                0.311321       0.0973581\n",
      "  0.411765       36   0.0971694      0.313947         1                 3    0.00426316              1  0.00243324    0.157303   0.0045531            43.2    0.281437    0              0.287443           0.428571        0.0664214       0                0.160766       0.112902\n",
      "  0.429412       36   0.138572       0.33201          1                 1    0.00536842              1  0.00146815    0.0561798  0.0014111            23.4    0.0898204   0              0.297241           0.445714        0.0650204       0                0.000281284    0.123648\n",
      "  0.441176       60   0.239544       0.230031         2                 1    0.00421053              1  0.00257726    0.134831   0.00203798           34.6    0.353293    0.290388       0.0473549          0.0475054       0.0443434       0                0.00953514     0.0647014\n",
      "  0.604412       36   0.294466       0.490246         3                 1    0.00894737              1  0.00205821    0.0786517  0.00221527           69.2    0.161677    0.352821       0.0987568          0.118006        0.0650977       0                0.0197052      0.0944155\n",
      "  0.117647       36   0.484157       0.110726         3                 2    0.00263158              1  0.00281328    0.11236    0.00188203           65.1    0.0658683   0.0239073      0.0892429          0.109132        0.055219        0                0.00507709     0.169814\n",
      "  0.676471       60   0.268272       0.357754         2                 2    0.00652632              1  0.00167617    0.0674157  0.00471868           75.7    0.0958084   0.396502       0.128125           0.126388        0.123078        0                0.014527       0.251014\n",
      "  0.176471       36   0.120828       0.140342         2                 1    0.00631579              1  0.00289629    0.168539   0.00339778           20.4    0.251497    0              0.12433            0.2             0.00758006      0                0.178937       0.0880314\n",
      "  0.705882       36   0.108576       0.534712         1                 1    0.00631579              1  0.00292429    0.0898876  0.0165039            90.8    0.137725    0.468566       0.0402324          0.0533011       0.0189621       0                0.0214431      0.0903138\n",
      "  0.205882       36   0.151246       0.164255         1                 1    0.00684211              1  0.00133513    0.168539   0.00188135           20.5    0.125749    0              0.155792           0.228571        0.041366        0                0.0868252      0.151219\n",
      "  0.805147       60   0.324039       0.438843         3                 1    0.00631579              1  0.0029663     0.0561798  0.00442331           93.1    0.0838323   0.471724       0.156051           0.145275        0.162426        0                0.0176962      0.118108\n",
      "  0.252941       36   0.108999       0.196775         1                 2    0.00421053              1  0.00225323    0.0561798  0.0023275            48.3    0.0359281   0              0.187164           0.274286        0.0501495       0                0.00823126     0.0642994\n",
      "  0.0294118      36   0.239544       0.0319868        2                 1    0.0130526               1  0.00223122    0.123596   0.0105679            78.7    0.11976     0              0.037441           0.0571428       0.0067443       0                0.0431527      0.117612\n",
      "  0.705882       36   0              0.514173         1                 1    0.00968421              1  0.00166617    0.0786517  0.00630879           44.5    0.0598802   0.453989       0.0509069          0.0738648       0.0147077       0                0.0206404      0.0781856\n",
      "  0.182353       36   0.162653       0.147069         2                 2    0.00315789              1  0.00176018    0.0337079  0.00204005           57      0.0179641   0.142295       0.00390913         0.004986        0.00212141      0                0.0062927      0.131167\n",
      "  0.573529       36   0.287283       0.464509         2                 1    0.00486474              1  0.000984098   0.157303   0.00622617           52.3    0.203593    0.0539616      0.377679           0.509593        0.164657        0                0.0186994      0.0862133\n",
      "  0.339706       36   0.599916       0.311078         5                 2    0.00315789              1  0.00291929    0.202247   0.00270136           41.1    0.197605    0.20972        0.0639194          0.0627291       0.0618695       0                0.0127027      0.0647786\n",
      "  0.161765       36   0.366286       0.141878         3                 2    0.00347368              1  0.00232023    0.0674157  0.00267416           51.8    0.0778443   0.100405       0.0382709          0.0440777       0.0276167       0                0.00608983     0.0571289\n",
      "  0.852941       60   0.294466       0.457263         3                 2    0.01                    1  0.00332233    0.303371   0.014396             57.5    0.257485    0.577635       0.0457961          0.0423003       0.0481491       0                0.0184162      0.0874432\n",
      "  0.539706       60   0.38741        0.305354         3                 3    0.00452632              3  0.00237824    0.0786517  0.00921154           84.7    0.131737    0              0.0866596          0.0739828       0.0998768       0                0.012479       0.122139\n",
      "  0.488971       60   0.446134       0.285931         3                 2    0.00416                 1  0.00243624    0.101124   0.00155465           41.8    0.125749    0.230331       0.199692           0.178654        0.218329        0                0.0117199      0.0624415\n",
      "  0.958824       60   0.574567       0.596427         4                 2    0.0121053               1  0.0019842     0.134831   0.0121022            68.4    0.149701    0.500914       0.33132            0.253384        0.424464        0                0.0238551      0.102719\n",
      "  0.147059       36   0.339248       0.128585         3                 2    0.00631579              1  0.00113411    0.134831   0.00244523           31.7    0.239521    0.0600093      0.0703318          0.0867762       0.0424046       0                0.0055703      0.104177\n",
      "  0.106618       36   0.493029       0.101719         4                 1    0.00578947              1  0.00224122    0.292135   0.00764587           61.4    0.329341    0.0854496      0.0119058          0.0116031       0.0116411       0                0.00452028     0.173884\n",
      "  0.517647       60   0.83101        0.368942         6                 1    0.0210526               1  0.00079708    0.123596   0.0019681            30.6    0.227545    0              0.384533           0.531428        0.149444        0                0.490805       0.074391\n",
      "  0.264706       60   0.585974       0.168765         5                 3    0.00431579              1  0.000682068   0.0337079  0.000957025          54.5    0.0179641   0.187583       0.0313713          0.0210994       0.0443732       0                0.00714067     0.0823848\n",
      "  0.264706       60   0.294466       0.143134         3                 1    0.00715789              1  0.00105911    0.0561798  0.00228481           71.4    0.0538922   0.179463       0.0347618          0.0325548       0.035902        0                0.0061389      0.0991294\n",
      "  0.511765       36   0.517533       0.449905         4                 2    0.00526316              1  0.00320732    0.157303   0.0059666            69.3    0.281437    0.364738       0.0108231          0.0111954       0.00964611      0                0.0181286      0.102137\n",
      "  0.141176       36   0.599916       0.136273         4                 2    0.00442105              3  0.00253125    0.146067   0.00173435           68.1    0.173653    0              0.027925           0.0140283       0.0151027       0.0237263        0.00587078     0.13305\n",
      "  0.7            60   0.408534       0.399834         3                 2    0.00978947              1  0.00262826    0.0561798  0.0123494            87.9    0.0898204   0.3815         0.193977           0.170408        0.216613        0                0.0161716      0.255843\n",
      "  0.852941       60   0.788762       0.591334         6                 1    0.0147368               1  0.00145415    0.202247   0.0107362            89.9    0.191617    0.568003       0.103156           0.0558874       0.165419        0                0.0236561      0.087923\n",
      "  0.215441       36   0.263202       0.178775         2                 2    0.00263158              1  0.00219822    0.101124   0.00506569           49.2    0.0538922   0              0.155368           0.237857        0.026926        0                0.185891       0.191305\n",
      "  0.323529       60   0.558513       0.202295         5                 1    0.0106316               1  0.000943094   0.123596   0.00271203           50.2    0.137725    0.213461       0.0588931          0.0417383       0.0802235       0                0.00845113     0.132498\n",
      "  0.411765       36   0.100127       0.314284         1                 2    0.01                    1  0.00137114    0.0674157  0.000891961          25.4    0.257485    0.193883       0.113567           0.15507         0.0468556       0                0.012828       0.0302849\n",
      "  0.352941       36   0.386565       0.29982          3                 1    0.00842105              1  0.00125113    0.0449438  0.00331619          101.4    0.101796    0.0928008      0.193538           0.240519        0.114187        0                0.0122627      0.0496221\n",
      "  0.619853       60   0.39417        0.351609         3                 3    0.00505263              1  0.00273827    0.0337079  0.00290412           55.5    0.0598802   0.4101         0.0628249          0.0522054       0.0744736       0                0.0142868      0.134787\n",
      "  0.852941       60   0.281791       0.454072         2                 1    0.0194737               1  0.0009991     0.269663   0.00299053           17.1    0.299401    0.425517       0.254046           0.256886        0.234952        0                0.0182914      0.199937\n",
      "  0.411765       36   0.108576       0.315252         1                 2    0.00631579              1  0.00089609    0.235955   0.0030043            35.8    0.131737    0.234439       0.0729873          0.0978594       0.0327176       0                0.0128659      0.673061\n",
      "  0.252941       36   0.245881       0.206974         2                 2    0.00357895              1  0.000794079   0.0561798  0.00221699           17.8    0.0299401   0              0.195927           0.274286        0.0710657       0                2.19325e-05    0.139863\n",
      "  0.0411765      36   0.434728       0.0449288        4                 2    0.00315789              1  0.00294829    0.101124   0.00088783           51.4    0.113772    0              0.042692           0.0685714       0.00275308      0                0.0653807      0.126299\n",
      "  0.617647       36   0.352767       0.511031         3                 1    0.00526316              1  0.00166317    0.123596   0.00866521           75.1    0.137725    0.42531        0.0256167          0.0286063       0.0197826       0                0.0205176      0.103502\n",
      "  0.361765       36   0.517533       0.321341         4                 1    0.00835189              1  0.00162316    0.191011   0.00294991           23.1    0.221557    0.257821       0.0163205          0.0163034       0.0153824       0                0.0131038      0.112677\n",
      "  0.264706       36   0.204478       0.212936         2                 2    0.00452632              1  0.00341734    0.157303   0.000354925           4.7    0.179641    0              0.201518           0.285714        0.0678855       0                0.00885962     0.242262\n",
      "  0.323529       36   0.239544       0.261604         2                 1    0.00494737              1  0.00155216    0.11236    0.00346629           42.3    0.101796    0              0.231403           0.342857        0.0565951       0                0.215777       0.078782\n",
      "  0.205882       36   0.294466       0.173234         3                 3    0.00894737              1  0.00220422    0.11236    0.00184761           68.8    0.179641    0.150682       0.0140371          0.0160108       0.010355        0                0.0073153      0.112481\n",
      "  0.264706       36   0.228982       0.214851         2                 1    0.00778947              1  0.00179718    0.11236    0.0186224            46.2    0.101796    0              0.195579           0.285714        0.0537107       0                0.0443922      0.0344923\n",
      "  0.294118       36   0.162653       0.232044         2                 2    0.00631579              1  0.00231223    0.213483   0.00477342           45.3    0.173653    0.200946       0.0241803          0.0308208       0.0131519       0                0.00961383     0.219563\n",
      "  0.205882       36   0.224757       0.168828         2                 3    0.00437895              1  0.00278628    0.0674157  0.00856331           99.9    0.0538922   0.158192       0.00442767         0.00541771      0.0027349       0                0.00714313     0.101457\n",
      "  0.411765       36   0.366286       0.345632         3                 1    0.00547368              1  0.00119512    0.123596   0.00489701           67.1    0.203593    0              0.311659           0.428571        0.124224        0                0.171092       0.0755471\n",
      "  0.605882       36   0.239544       0.482039         2                 3    0.00757895              1  0.00161016    0.0674157  0.00129543           71      0.143713    0.384963       0.0626717          0.0740934       0.0424591       0                0.0193845      0.0664834\n",
      "  0.205882       36   0.0916772      0.1606           1                 2    0.00526316              1  0.000648065   0.0449438  0.00441333           27.8    0.0239521   0              0.148305           0.228571        0.023495        0                0.00543377     0.0875078\n",
      "  0.119118       36   0.239544       0.102021         2                 1    0.00508021              1  0.00280328    0.146067   0.0051817            37.3    0.161677    0.055327       0.0515006          0.0662385       0.027152        0                0.00453207     0.0395223\n",
      "  0.526471       36   0.366286       0.439116         3                 2    0.00452632              1  0.00173617    0.101124   0.000960467          23.1    0.161677    0.32032        0.0783596          0.0881402       0.0595944       0                0.0177069      0.108193\n",
      "  0.367647       36   0.204478       0.292342         2                 1    0.00736842              1  0.00230123    0.101124   0.00493453           45.9    0.101796    0              0.272049           0.385714        0.0916457       0                0.0119609      0.149666\n",
      "  0.683824       60   0.166033       0.341241         1                 1    0.00578947              1  0.00165617    0.146067   0.0110853            41.7    0.131737    0              0.438479           0.692857        0.0447933       0                0.625145       0.0809902\n",
      "  0.323529       36   0.281791       0.265609         2                 2    0.00547284              1  0.00170617    0.0561798  0.00393895           78.4    0.173653    0              0.224427           0.342857        0.0399424       0                0.279014       0.0588131\n",
      "  0.794118       36   0.151246       0.609726         1                 1    0.010268                1  0.00179918    0.146067   0.00775293           31.8    0.131737    0              0.501707           0.8             0.040793        0                0.697208       0.200959\n",
      "  0.441176       60   0.239544       0.230031         2                 1    0.00526316              1  0.00113811    0.0449438  0.00169545           75.8    0.0598802   0.286003       0.0550745          0.0536911       0.0538255       0                0.00953514     0.0551629\n",
      "  0.558824       36   0.338403       0.461002         3                 1    0.00579474              1  0.00345535    0.146067   0.0112605            79.4    0.131737    0.3082         0.115007           0.136665        0.076904        0                0.0185623      0.0395014\n",
      "  0.382353       36   0.197296       0.302899         2                 3    0.00494737              1  0.00286529    0.11236    0.00449802           46.8    0.137725    0.263023       0.0241251          0.0289651       0.0157034       0                0.0123831      0.0405541\n",
      "  0.323529       36   0.162653       0.254407         2                 1    0.0210526               1  0.0010001     0.134831   0.011558             73.6    0.173653    0.21314        0.0328937          0.04219         0.0175112       0                0.0104878      0.211466\n",
      "  0.205882       60   0.501479       0.126102         5                 2    0.00315789              1  0.000868087   0.0786517  0.00224453           62.1    0.0658683   0              0.206473           0.228571        0.162338        0                0.0322583      0.105475\n",
      "  0.132353       36   0.586396       0.127877         4                 2    0.00421053              1  0.00243324    0.0786517  0.00202421           60      0.0838323   0              0.112599           0.157143        0.0415482       0                0.0733321      0.122279\n",
      "  0.117647       36   0.311365       0.103718         3                 2    0.00652632              1  0.00176018    0.0898876  0.00103758           40.7    0.0838323   0.0918164      0.0115512          0.013336        0.00828898      0                0.00459842     0.152988\n",
      "  0.411765       60   0.497676       0.248129         3                 1    0.00526316              3  0.00152415    0.101124   0.00368179           66.8    0.137725    0.216424       0.148717           0.123273        0.176735        0                0.0102425      0.111501\n",
      "  0.205882       36   0.284326       0.172588         3                 2    0.0111579               1  0.00250225    0.146067   0.0126117            87.2    0.125749    0.154477       0.00901924         0.0106577       0.006118        0                0.00729008     0.10212\n",
      "  0.323529       36   0.121251       0.250577         1                 1    0.0136842               1  0.00069707    0.157303   0.00404429           57      0.191617    0.155529       0.0911831          0.12346         0.0391331       0                0.0103381      0.112335\n",
      "  0.852941       36   0.346853       0.700503         2                 1    0.0162105               1  0.000860086   0.123596   0.00812645           58.9    0.197605    0.248145       0.405443           0.507096        0.234537        0                0.0279228      0.0631265\n",
      "  0.794118       60   0.692015       0.525186         5                 1    0.0205263               1  0.00108511    0.224719   0.00498651           78.3    0.251497    0              0.591692           0.8             0.255583        0                0.684405       0.0406703\n",
      "  0.676471       36   0.0819603      0.507888         1                 1    0.0184211               1  0.00069607    0.179775   0.00670262           47.8    0.209581    0.461771       0.0255833          0.0343154       0.0114478       0                0.0203947      0.145261\n",
      "  0.794118       36   0              0.57755          1                 1    0.0152632               1  0.00214221    0.11236    0.0186072            55.7    0.179641    0.53792        0.0290452          0.0411817       0.00978285      0                0.0231174      0.139492\n",
      "  0.323529       36   0.302915       0.267623         2                 1    0.00766316              1  0.000915092   0.146067   0.00352171           55.3    0.11976     0              0.223563           0.342857        0.0378805       0                0.277095       0.0757041\n",
      "  0.323529       36   0.408534       0.277822         3                 2    0.0150526               1  0.000925093   0.0674157  0.00214883           78      0.11976     0.135044       0.129579           0.152357        0.0889975       0                0.011403       0.17645\n",
      "  1              60   0.463456       0.586894         4                 1    0.00852632              1  0.000649065   0.0337079  0.00709679           82.5    0.137725    0.55257        0.266846           0.220516        0.318094        0                0.0234826      0.13142\n",
      "  0.0882353      36   0.546261       0.0878584        4                 2    0.00305263              1  0.00177918    0.134831   0.00102037           26.2    0.161677    0              0.084697           0.114286        0.0369166       0                0.0152963      0.0831386\n",
      "  0.394118       36   0.703845       0.371727         5                 2    0.0226316               1  0.000959096   0.101124   0.00373136           49      0.167665    0.0425714      0.304503           0.351375        0.218763        0                0.0150731      0.061771\n",
      "  0.411765       36   0.0494297      0.308504         1                 1    0.00850316              1  0.00187019    0.101124   0.00337334           51.8    0.0718563   0.184347       0.119104           0.168522        0.0406216       0                0.0126021      0.117535\n",
      "  0.176471       36   0.365864       0.153838         3                 2    0.00473684              1  0.00146715    0.101124   0.00267037           41      0.107784    0              0.131008           0.2             0.0235197       0                0.168323       0.180031\n",
      "  0.147059       36   0.239544       0.123836         2                 3    0.004                   1  0.00275428    0.0674157  0.00159217           56.4    0.221557    0              0.11779            0.171428        0.0332828       0                0.0950405      0.0365659\n",
      "  0.117647       36   0.342628       0.104967         3                 2    0.00565895              1  0.00121212    0.0561798  0.000845487          81.9    0.0419162   0              0.10557            0.142857        0.0454266       0                0.00496442     0.0446067\n",
      "  0.222794       36   0.245881       0.183391         2                 2    0.00894737              1  0.000178018   0.011236   0.000360433          45.5    0.0359281   0              0.163716           0.245           0.0365254       0                0.16681        0.0623256\n",
      "  0.464706       60   0.380651       0.262291         3                 1    0.00989474              1  0.00126313    0.213483   0.00275781           16      0.197605    0.336355       0.00657764         0.00551914      0.00690666      0                0.0113358      0.114316\n",
      "  0.422059       36   0.324039       0.34881          3                 1    0.00473684              1  0.00275228    0.0674157  0.00189202           85.9    0.0658683   0              0.28648            0.438571        0.0496624       0                0.00101383     0.0969463\n",
      "  0.794118       60   0.408534       0.453223         3                 1    0.0115789               1  0.00237924    0.146067   0.0279675            39      0.185629    0              0.571951           0.8             0.208463        0                0.65036        0.00570368\n",
      "  0.323529       36   0.224757       0.260215         2                 3    0.00547368              1  0.00234723    0.101124   0.00369487           55      0.101796    0              0.214805           0.342857        0.0169754       0                0.30817        0.118597\n",
      "  0.147059       36   0.339248       0.128585         3                 2    0.00342105              1  0.00180218    0.11236    0.00333685           52.4    0.0898204   0              0.111456           0.171428        0.0181623       0                0.143246       0.0898602\n",
      "  0.264706       36   0.0705534      0.202625         1                 1    0.00416211              1  0.00166317    0.0561798  0.00289655           55.7    0.173653    0.134233       0.0693973          0.0963574       0.0263203       0                0.00846402     0.11432\n",
      "  0.182353       36   0.268272       0.153017         2                 2    0.00505263              1  0.00190819    0.0898876  0.00115325           57      0.11976     0.0751994      0.0782689          0.0996339       0.0427587       0                0.00652519     0.126954\n",
      "  0.264706       36   0.318124       0.221908         2                 2    0.00378947              1  0.00184018    0.0449438  0.00261116           67.7    0.137725    0              0.19979            0.285714        0.0637604       0                0.159775       0.225018\n",
      "  0.238971       36   0.38741        0.206357         3                 2    0.0107368               1  0.000889089   0.0449438  0.00263698           98.2    0.0658683   0              0.165304           0.260714        0.017593        0                0.236013       0.126174\n",
      "  0.302941       36   0.434728       0.263217         4                 2    0.00555789              1  0.00363236    0.168539   0.0103786            67.9    0.137725    0.169853       0.0751381          0.083254        0.0589702       0                0.0108322      0.073341\n",
      "  0.411765       36   0.311365       0.339025         3                 2    0.00610526              1  0.00123512    0.0337079  0.00135326           60.5    0.227545    0.253383       0.0607793          0.0711362       0.0422179       0                0.013795       0.213271\n",
      "  0.705882       60   0.529785       0.430047         4                 1    0.00631579              1  0.00112611    0.146067   0.00501302           40.9    0.0958084   0.461815       0.0867795          0.0628245       0.116297        0                0.0173524      0.0745225\n",
      "  0.352941       60   0.529785       0.216935         4                 1    0.00315789              1  0.00112411    0.0786517  0.0035224            78.7    0.0479042   0.252065       0.0208882          0.0158517       0.0269384       0                0.00902329     0.0239558\n",
      "  0.323529       60   0.616392       0.208657         5                 2    0.00684211              1  0.00156916    0.101124   0.002438             85.3    0.257485    0              0.255539           0.342857        0.114205        0                0.283049       0.0879657\n",
      "  0.422059       60   0.866498       0.307367         7                 1    0.00368421              1  0.00130013    0.0786517  0.00272477           72      0.0718563   0.288591       0.0630412          0.0314703       0.104972        0                0.0125577      0.182026\n",
      "  0.276471       60   0.463456       0.164599         4                 2    0.00815789              1  0.00347635    0.134831   0.00505502           53.8    0.209581    0.16419        0.079293           0.0655277       0.094519        0                0.00697782     0.0580936\n",
      "  0.882353       60   0.332066       0.482846         3                 2    0.00652632              1  0.00357136    0.146067   0.0082311            54.1    0.137725    0.620427       0.0114718          0.0105066       0.0121906       0                0.019416       0.0798559\n",
      "  0.705882       60   0.352767       0.391115         3                 1    0.0114737               1  0.000559056   0.0561798  0.00720454           88.3    0.11976     0.500424       0.00966551         0.00836142      0.0109809       0                0.0158309      0.255984\n",
      "  0.251471       36   0.1297         0.197196         1                 1    0.00631579              1  0.00372637    0.0449438  0.00163452           86.3    0.149701    0              0.17532            0.272857        0.0239436       0                0.211816       0.16105\n",
      "  0.123529       36   0.338403       0.109548         3                 2    0.00352632              1  0.00260826    0.0674157  0.00700074           68.2    0.0479042   0.0980541      0.0090073          0.0102511       0.00667737      0                0.00482624     0.0403704\n",
      "  0.558824       60   0.39417        0.317251         3                 2    0.00947368              1  0.00312931    0.134831   0.00382982           45.2    0.185629    0.361812       0.0689492          0.0610368       0.0763224       0                0.0137078      0.22932\n",
      "  0.794118       36   0.100127       0.598735         1                 1    0.0105263               1  0.00130813    0.202247   0.0145712            47.7    0.161677    0.106608       0.42404            0.649613        0.0728558       0                0.0274156      0.231893\n",
      "  0.264706       36   0.150401       0.208735         2                 2    0.0101579               1  0.00193319    0.0337079  0.00681002           81.7    0.0538922   0              0.197748           0.285714        0.0588876       0                0.00944741     0.0667266\n",
      "  0.470588       36   0.0388678      0.350143         1                 1    0.0142105               1  0.00158516    0.179775   0.00206587            9.3    0.221557    0.309158       0.0357289          0.0496          0.0135642       0                0.0142295      0.0867628\n",
      "  0.730882       60   0.662019       0.476518         5                 1    0.00649474              1  0.00288429    0.146067   0.00995409           53.3    0.131737    0              0.534233           0.738571        0.207254        0                0.654542       0.104574\n",
      "  0.411765       60   0.763836       0.28511          5                 1    0.00757895              1  0.00280728    0.235955   0.000441333           6.9    0.329341    0              0.264686           0.428571        0.0121001       0                0.419288       0.0600566\n",
      "  0.323529       36   0.262357       0.263764         2                 2    0.00326316              1  0.00154515    0.179775   0.00328142           49.9    0.0958084   0.202102       0.0476311          0.0577617       0.0301727       0                0.0108536      0.0609377\n",
      "  0.394118       60   0.393747       0.224461         3                 3    0.00736842              3  0.00288129    0.146067   0.0142879            79.7    0.191617    0              0.0588221          0.0495694       0.0687307       0                0.00931746     0.0856325\n",
      "  0.705882       36   0.352767       0.582615         3                 2    0.00642105              1  0.00219622    0.101124   0.00101107           22.2    0.0838323   0.494894       0.0143905          0.0161614       0.0109809       0                0.0233153      0.0863074\n",
      "  0.117647       36   0.338403       0.104799         3                 2    0.00736842              1  0.00318232    0.157303   0.0103868            97.3    0.275449    0.0919017      0.0115905          0.0132157       0.00855669      0                0.00464064     0.297519\n",
      "  0.147059       36   0.287283       0.126095         2                 2    0.00210526              1  0.00156616    0.0561798  0.00306454           68.5    0.0538922   0              0.124385           0.171428        0.049025        0                0.0054727      0.135174\n",
      "  0.293382       36   0.546261       0.265357         4                 1    0.0210526               1  0.0010221     0.0898876  0.000984565          42.1    0.125749    0.0603169      0.19294            0.228485        0.13016         0                0.0109158      0.162242\n",
      "  0.323529       36   0.197296       0.257634         2                 2    0.00578947              1  0.00227823    0.11236    0.0030852            42.7    0.137725    0.201291       0.0466743          0.0589048       0.0262361       0                0.0106139      0.183901\n",
      "  0.283088       60   0.493029       0.171255         4                 1    0.00473684              1  0.00293129    0.213483   0.00340501           51      0.215569    0.162444       0.0913884          0.0744194       0.110533        0                0.00723799     0.160942\n",
      "  0.705882       60   0.588086       0.44329          5                 3    0.00631579              1  0.00226823    0.123596   0.016171             72      0.137725    0.390031       0.175866           0.164087        0.182523        0                0.0342695      0.0404617\n",
      "  0.617647       36   0.287283       0.499519         2                 1    0.00947368              1  0.00172517    0.146067   0.00719111           48.1    0.155689    0              0.384627           0.628571        0.0092053       0                0.609265       0.117486\n",
      "  0.588235       60   0.324039       0.321158         2                 1    0.00547368              1  0.0019782     0.11236    0.0103817            68.1    0.161677    0.300121       0.181898           0.176634        0.178778        0                0.0130967      0.0887977\n",
      "  0.176471       36   0.239544       0.146795         2                 2    0.00328421              1  0.000438044   0.0224719  0.00103414           83.4    0.011976    0.106941       0.039511           0.0491434       0.023252        0                0.00628201     0.146519\n",
      "  0.191176       36   0.0971694      0.150008         1                 1    0.00684211              1  0.000445045   0.0337079  0.00544437           58.6    0.0958084   0              0.142941           0.214286        0.0313477       0                0.0925742      0.0762991\n",
      "  0.411765       36   0.294466       0.337004         3                 1    0.00631579              1  0.00272227    0.101124   0.0109552            90.7    0.131737    0.253123       0.060259           0.071502        0.0404472       0                0.013716       0.130144\n",
      "  0.323529       36   0.324039       0.269643         3                 2    0.00631579              1  0.00192819    0.0786517  0.0038219            90.3    0.0958084   0.126518       0.132943           0.164384        0.0796373       0                0.0110833      0.169897\n",
      "  0.222059       36   0.493029       0.199861         4                 2    0.00265263              3  0.00305231    0.0449438  0.00133364           74.5    0.143713    0              0.0420622          0.044138        0.0365791       0                0.008356       0.121308\n",
      "  0.270588       36   0.0675961      0.206728         1                 2    0.00747368              1  0.0010461     0.101124   0.00329313           28.1    0.143713    0.153424       0.054311           0.075           0.0211918       0                0.0086244      0.0702476\n",
      "  0.117647       36   0.426278       0.108355         4                 1    0.00284211              1  0.00147115    0.101124   0.00175845           33.2    0.0598802   0.0990396      0.00316559         0.00314657      0.00300633      0                0.00513165     0.137681\n",
      "  0.270588       60   0.662019       0.179589         5                 3    0.00526316              1  0.00154315    0.101124   0.00258569           35.4    0.125749    0              0.183388           0.291428        0.0163487       0                0.283251       0.0997644\n",
      "  0.205882       36   0.338403       0.176039         3                 1    0.00568421              1  0.00227123    0.157303   0.00424878           50.2    0.131737    0.139296       0.0280223          0.0320728       0.0205122       0                0.00742497     0.0562049\n",
      "  0.270588       36   0.574567       0.248045         4                 2    0.00315789              3  0.000644064   0.0561798  0.00123794           43.3    0.0538922   0              0.0969615          0.101167        0.0851596       0                0.0204784      0.426276\n",
      "  0.5            36   0.0819603      0.377437         1                 1    0.00894737              1  0.00338634    0.146067   0.00875712           49.9    0.221557    0.346328       0.0191877          0.0257371       0.00858561      0                0.0152963      0.117402\n",
      "  0.117647       36   0.183777       0.098696         2                 2    0.00189474              1  0.00194719    0.0561798  0.00038281            8.6    0.0479042   0.0457709      0.0583612          0.0782902       0.0261018       0                0.00440212     0.0870369\n",
      "  0.263971       36   0.351922       0.22402          3                 1    0.00894737              1  0.0019922     0.179775   0.00678902           54.5    0.149701    0.0884583      0.129169           0.160216        0.0766558       0                0.00930019     0.220906\n",
      "  0.852941       36   0.569075       0.755217         5                 1    0.0136838               1  0.00106911    0.146067   0.00540375           90.2    0.125749    0              0.679951           0.857142        0.383626        0                0.146738       0.0785675\n",
      "  0.852941       60   0.619772       0.54348          5                 2    0.00905263              1  0.00240024    0.0786517  0.0063711            79.8    0.0958084   0.521718       0.177355           0.12118         0.248119        0                0.0217858      0.207468\n",
      "  0.617647       60   0.588086       0.388429         5                 2    0.00684211              1  0.00190019    0.0786517  7.91783e-06           0.1    0.0718563   0              0.403542           0.628571        0.0543547       0                0.605589       0.250944\n",
      "  0.5            36   0.0819603      0.377437         1                 1    0.00684211              1  0.00164116    0.123596   0.00452384           38      0.221557    0.346328       0.0191877          0.0257371       0.00858561      0                0.0152963      0.0930985\n",
      "  0.264706       60   0.577524       0.167994         5                 2    0.00421053              2  0.00189019    0.0898876  0.00137288           60.4    0.0419162   0.16295        0.076312           0.0558483       0.101399        0                0.00711051     0.219438\n",
      "  0.264706       60   0.558513       0.166261         5                 2    0.00378947              1  0.00233023    0.11236    0.00798117           79.7    0.11976     0.170404       0.0608535          0.045334        0.0797038       0                0.00704279     0.0993399\n",
      "  0.116176       36   0.311365       0.10254          3                 2    0.00484211              1  0.00194919    0.0561798  0.000579034          62      0.0658683   0.0956272      0.0056875          0.00653171      0.00413127      0                0.00455236     0.219037\n",
      "  0.710294       60   0.366286       0.396467         3                 1    0.0136842               1  0.00381238    0.280899   0.0108474            33.3    0.287425    0.491447       0.0300404          0.0253097       0.0351084       0                0.01604        0.140174\n",
      "  0.558824       60   0.366286       0.312432         3                 2    0.00610526              1  0.00274027    0.179775   0.00883802           73.1    0.143713    0.355526       0.0814567          0.0699045       0.0933548       0                0.0146531      0.201192\n",
      "  0.386029       60   0.86523        0.281547         7                 2    0.00463158              1  0.000876088   0.0786517  0.00238533           37.9    0.359281    0.212333       0.174926           0.104043        0.267098        0                0.0115485      0.139727\n",
      "  0.705882       36   0.0705534      0.527466         1                 1    0.0149474               1  0.00169017    0.280899   0.0167903            62.8    0.221557    0.335585       0.173324           0.240892        0.0653993       0                0.0211599      0.0787602\n",
      "  0.323529       36   0.434728       0.280382         4                 3    0.00631579              1  0.00273427    0.0898876  0.00651878           81      0.0898204   0.20997        0.0432117          0.0466625       0.0356727       0                0.011503       0.0626107\n",
      "  0.205882       36   0.287283       0.172778         2                 2    0.00263158              1  0.00227923    0.101124   0.00265282           65.3    0.0598802   0              0.165821           0.228571        0.0653043       0                0.00741263     0.052103\n",
      "  0.752941       36   0.0675961      0.561515         1                 2    0.00768421              1  0.00105411    0.0561798  0.00783142           46.3    0.0778443   0.385801       0.156007           0.215768        0.060393        0                0.0224907      0.23182\n",
      "  0.0161765      36   0.0819603      0.0197673        1                 1    0.00473684              1  0.000747075   0.0674157  0.0029716            30.8    0.0718563   0.0298225      0.00165237         0.00221657      0.000739085     0                0.00131732     0.185687\n",
      "  0.382353       60   0.129278       0.186982         2                 1    0.00631579              1  0.00189419    0.146067   0.00443295           47.7    0.143713    0.279735       0.00473177         0.00539028      0.00350043      0                0.00785265     0.0374364\n",
      "  0.182353       36   0.379806       0.159443         3                 1    0.00484211              1  0.00345935    0.134831   0.00136152           20      0.137725    0.0963683      0.0597427          0.069772        0.0417163       0                0.00677631     0.0902706\n",
      "  0.323529       36   0              0.239557         1                 1    0.00631579              1  0.000866087   0.0898876  0.00466154           50.3    0.125749    0.230537       0.0123866          0.0176494       0.00404617      0                0.00990745     0.0490174\n",
      "  0.588235       60   0.352345       0.32623          3                 1    0.0131579               1  0.00148115    0.101124   0.00423053           76.3    0.143713    0.367325       0.0920495          0.081832        0.101393        0                0.0132949      0.306735\n",
      "  0.264706       60   0.366286       0.14925          3                 3    0.00284211              1  0.00149815    0.101124   0.00337231           43.5    0.167665    0.188019       0.0240244          0.0204843       0.0277258       0                0.00637796     0.137655\n",
      "  0.456618       60   0.704267       0.306147         5                 2    0.00484421              1  0.00281928    0.157303   0.0062365            74.6    0.137725    0              0.295576           0.472143        0.0228311       0                0.468747       0.250165\n",
      "  0.411765       36   0.0299958      0.306308         1                 3    0.0221053               1  0.00114011    0.303371   0.0160078            14.5    0.233533    0              0.279357           0.428571        0.0471209       0                0.204694       0.0724959\n",
      "  1              60   0.366286       0.557201         3                 1    0.00821053              1  0.00182918    0.0898876  0.00639313           85.6    0.125749    0.683923       0.0401576          0.0352217       0.0449255       0                0.0223221      0.21095\n",
      "  0.411765       36   0.281791       0.335496         2                 3    0.00547368              1  0.0020222     0.0561798  0.00589878           96.8    0.0718563   0.131204       0.189681           0.243488        0.100688        0                0.0136571      0.113399\n",
      "  0.411765       60   0.108576       0.198858         1                 3    0.00526316              1  0.00113511    0.157303   0.00355304           24.9    0.191617    0.274205       0.0365258          0.0417637       0.0267971       0                0.00831679     0.116612\n",
      "  0.264706       36   0.162653       0.209682         2                 1    0.00478947              1  0.00169417    0.101124   0.0042147            64.1    0.155689    0.192685       0.0113307          0.0139026       0.00694343      0                0.00873982     0.100824\n",
      "  0.595588       36   0.151246       0.459382         1                 1    0.00505263              1  0.00135814    0.101124   0.00367973           41.3    0.191617    0              0.420426           0.607143        0.12564         0                0.018494       0.0782708\n",
      "  0.264706       36   0.120828       0.206462         2                 2    0.0056                  1  0.000580058   0.0337079  0.00324769           66      0.0598802   0.182403       0.0215951          0.0284068       0.0104715       0                0.00861398     0.175475\n",
      "  0.676471       60   0.442755       0.393676         3                 1    0.0157895               1  0.000773077   0.191011   0.00801147           61.2    0.191617    0              0.53757            0.685714        0.291646        0                0.453475       0.215367\n",
      "  0.352941       60   0.141529       0.173907         2                 1    0.00842105              1  0.00132513    0.134831   0.0103008            54.7    0.125749    0.223136       0.0508749          0.0566605       0.0395078       0                0.00734162     0.0413243\n",
      "  0.323529       36   0.150401       0.253271         2                 2    0.00915789              1  0.000481048   0.0898876  0.00120558            8.7    0.0598802   0              0.226665           0.342857        0.0452841       0                0.213172       0.053554\n",
      "  0.558824       60   0.339248       0.307795         3                 2    0.00905263              1  0.00107111    0.11236    0.00235504           28.5    0.149701    0              0.40253            0.571428        0.134565        0                0.448994       0.257054\n",
      "  0.264706       36   0.0675961      0.2024           1                 2    0.00589474              1  0.000454045   0.0898876  0.00162729           21.4    0.101796    0.1496         0.0528921          0.0746811       0.018266        0                0.00845524     0.093811\n",
      "  0.676471       60   0.239544       0.352016         2                 3    0.00789474              1  0.00115312    0.0449438  0.00294302           38.3    0.113772    0.479982       0.0087759          0.00862571      0.0084753       0                0.0143027      0.17462\n",
      "  0.411765       36   0.108576       0.315252         1                 1    0.00948085              1  0.0030113     0.11236    0.0029055            17.7    0.113772    0.28114        0.0242532          0.0319806       0.0116489       0                0.0128659      0.127397\n",
      "  0.338235       36   0.302915       0.279358         2                 1    0.00578947              1  0.0030383     0.191011   0.0046247            52.9    0.239521    0              0.240194           0.357143        0.0569223       0                0.254376       0.0774656\n",
      "  0.705882       36   0.108576       0.534712         1                 1    0.00631579              1  0.0020082     0.157303   0.00749784           48.5    0.143713    0.468567       0.0405168          0.0533008       0.0196413       0                0.0214431      0.0937621\n",
      "  0.794118       60   0.108576       0.38328          1                 1    0.00910526              1  0.00261926    0.258427   0.0126647            44.8    0.251497    0.543739       0.0289777          0.0329731       0.0214909       0                0.0155246      0.0643861\n",
      "  0.323529       36   0.47444        0.284296         4                 1    0.0105263               1  0.00080408    0.0449438  0.0028907            93.3    0.0718563   0.232458       0.0145262          0.01494         0.0130709       0                0.011656       0.094713\n",
      "  0.182353       36   0.459654       0.164129         3                 2    0.00442105              1  0.00172917    0.0786517  0.00196328           30.8    0.0658683   0.0433011      0.118614           0.144631        0.0739965       0                0.00695945     0.0998436\n",
      "  0.558824       36   0.380651       0.467806         3                 1    0.0131579               1  0.000963096   0.101124   0.00176843           43.9    0.113772    0.396008       0.0135399          0.012798        0.0138137       0                0.0218837      0.0850822\n",
      "  1              60   0.746515       0.678035         6                 1    0.00947368              1  0.00306931    0.247191   0.00939192           56      0.197605    0.69433        0.0366912          0.0205411       0.0578787       0                0.027593       0.0983027\n",
      "  0.676471       60   0.529785       0.412285         4                 1    0.01068                 1  0.00107411    0.0674157  0.000465775           7.4    0.107784    0.45451        0.0626871          0.0445585       0.0852017       0                0.0166583      0.101789\n",
      "  0.705882       60   0.120828       0.343156         2                 1    0.00926316              1  0.000420042   0.101124   0.00163038            8.6    0.185629    0.450151       0.0716842          0.0792785       0.0564741       0                0.0139565      0.0644529\n",
      "  0.264706       36   0.39417        0.228032         3                 3    0.00325684              1  0.00151315    0.0786517  0.00076321           19.6    0.107784    0.193457       0.0117997          0.0128128       0.00963867      0                0.00945701     0.219689\n",
      "  0.219853       36   0.529785       0.20057          4                 1    0.00463158              1  0.00363636    0.0786517  0.00118767           63.9    0.0598802   0.136884       0.0478045          0.0490471       0.0431875       0                0.00838369     0.0932592\n",
      "  0.705882       36   0.338403       0.579732         3                 1    0.00684211              1  0.00231523    0.0786517  0.00333169           94      0.107784    0.447473       0.0725994          0.0830565       0.0531959       0                0.0232026      0.0565596\n",
      "  0.0882353      36   0.302915       0.0799178        2                 2    0.00589474              3  0.00324032    0.123596   0.00413793           67.5    0.149701    0.048728       0.0370524          0.0455474       0.0225832       0                0.00733641     0.211583\n",
      "  0.264706       36   0.39417        0.228032         3                 1    0.0142105               1  0.00149715    0.123596   0.00444913           80.3    0.137725    0.179413       0.0297107          0.0326251       0.0237437       0                0.00945701     0.206265\n",
      "  0.154412       36   0.35319        0.135228         3                 1    0.00368421              1  0.00162916    0.123596   0.00225555           43.1    0.0958084   0              0.128148           0.178571        0.0476778       0                0.0863967      0.058927\n",
      "  0.0588235      36   0.197296       0.0539566        2                 1    0.00382242              1  0.00109711    0.0898876  0.00134603           36.5    0.137725    0.0578409      0.0033217          0.00412085      0.0019702       0                0.00265356     0.150845\n",
      "  1              60   0.324039       0.544553         3                 2    0.0136842               1  0.00136414    0.168539   0.0092735            75.9    0.275449    0.572037       0.206264           0.193054        0.213197        0                0.0218277      0.0743914\n",
      "  0.855882       60   0.810308       0.599618         6                 1    0.00705263              1  0.00144014    0.0898876  0.0018631            66      0.143713    0.538815       0.176689           0.0999194       0.27727         0                0.0239799      0.117585\n",
      "  1              36   0.108576       0.754165         1                 1    0.0210526               1  0.00131613    0.146067   0.0660302            54.6    0.191617    0.638129       0.0755425          0.0998219       0.0359788       0                0.0300201      0.149867\n",
      "  0.285294       36   0.0549218      0.216514         1                 1    0.00473684              1  0.00259926    0.157303   0.00431109           27.8    0.131737    0              0.202655           0.305714        0.0416804       0                0.105103       0.075037\n",
      "  0.536029       36   0.47444        0.46385          4                 1    0.00484211              1  0.00157116    0.0898876  0.00416202           48.6    0.131737    0.318636       0.0940046          0.0998008       0.0800777       0                0.0186736      0.0900437\n",
      "  0.0588235      36   0.324039       0.0569589        3                 2    0.00284211              1  0.000942094   0.101124   0.00261116           52      0.0658683   0.0414799      0.0226659          0.0272006       0.0147718       0                0.00277089     0.0880006\n",
      "  0.0875         36   0.434728       0.0835584        4                 3    0.00210526              1  0.00265327    0.0561798  0.000839634          55.4    0.0479042   0.0426836      0.0457065          0.0533597       0.0319438       0                0.00381049     0.0345138\n",
      "  0.182353       36   0.183777       0.148247         2                 2    0.0115789               1  0.00147015    0.269663   0.00208239           32.2    0.215569    0.057578       0.0920397          0.124492        0.0396858       0                0.00633876     0.0417561\n",
      "  0.558824       36   0.0494297      0.415982         1                 2    0.0134737               1  0.00167917    0.157303   0.00386562           68.5    0.245509    0.223569       0.180332           0.25605         0.0602075       0                0.0168027      0.142104\n",
      "  0.426471       60   0.690748       0.284317         6                 2    0.00368421              1  0.0020402     0.0337079  0.00257192           93.4    0.0239521   0              0.42955            0.442857        0.384967        0                0.157333       0.112526\n",
      "  0.441176       36   0.324039       0.364172         2                 1    0.00684211              1  0.00187019    0.0561798  0.00119903           44.7    0.0598802   0.112664       0.233208           0.298213        0.125456        0                0.0147778      0.0609843\n",
      "  0.411765       36   0.0299958      0.306308         1                 3    0.0273684               1  0.000852085   0.0898876  0.00372              34.7    0.137725    0.183845       0.118525           0.169229        0.0382172       0                0.0125163      0.128677\n",
      "  0.588235       36   0.311365       0.480208         3                 2    0.0157895               1  0.000721072   0.157303   0.00950794           36.5    0.131737    0.37544        0.0622435          0.0703837       0.0468011       0                0.0193129      0.3145\n",
      "  0.352941       36   0.0299958      0.26361          1                 1    0.0121053               1  0.00139414    0.0898876  0.00597659           61.1    0.143713    0              0.240774           0.371428        0.0376503       0                0.207827       0.0827079\n",
      "  0.852941       60   0.704267       0.567155         6                 3    0.00968421              1  0.00188919    0.11236    0.00230374           68.1    0.0838323   0.590378       0.0423789          0.0243246       0.0659843       0                0.0227111      0.113597\n",
      "  0.382353       36   0.380651       0.323284         3                 1    0.00566137              1  0.0010221     0.123596   0.00434              63.7    0.137725    0.0378068      0.266369           0.346668        0.134546        0                0.0133569      0.0843296\n",
      "  0.0882353      36   0.121251       0.0742359        1                 1    0.00378947              1  0.00189319    0.292135   0.00393998           29.5    0.305389    0              0.0713742          0.114286        0.00511575      0                0.102769       0.062756\n",
      "  0.347059       36   0.260668       0.282108         2                 1    0.00537779              1  0.0019992     0.11236    0.0013777            36.1    0.11976     0.247062       0.0143263          0.0171951       0.00933296      0                0.0115705      0.161177\n",
      "  0.280882       60   0.450782       0.165987         4                 1    0.00736842              1  0.00193219    0.0561798  0.00340742           77.9    0.0598802   0.186062       0.0485095          0.0389594       0.0594564       0                0.0070321      0.120358\n",
      "  0.323529       36   0.1297         0.251356         1                 1    0.00663158              1  0.00172417    0.213483   0.00267588           34.4    0.197605    0              0.228791           0.342857        0.0503598       0                0.186141       0.0278906\n",
      "  0.588235       60   0.434728       0.341241         4                 1    0.00894737              1  0.00244124    0.191011   0.00935991           77.5    0.269461    0.390959       0.0610301          0.0484928       0.0755577       0                0.0138816      0.298669\n",
      "  0.683824       60   0.525982       0.415898         4                 2    0.00578947              3  0.00349735    0.123596   0.0126117            65.5    0.197605    0              0.265073           0.217312        0.318495        0                0.0167995      0.102261\n",
      "  0.129412       36   0.120828       0.105079         2                 2    0.00442105              1  0.00244924    0.11236    0.00237432           68      0.131737    0.103971       0.00583081         0.007618        0.00290263      0                0.0046516      0.0873583\n",
      "  0.436765       60   0.577524       0.27442          5                 2    0.00578947              3  0.00216822    0.0786517  0.00260152           77.1    0.0778443   0.274583       0.0922039          0.0655157       0.125354        0                0.01127        0.220514\n",
      "  0.170588       36   0.47444        0.155059         4                 2    0.00631579              1  0.00144014    0.0674157  0.00137426           88.7    0.0299401   0.106007       0.0414815          0.0447463       0.0343135       0                0.00660497     0.147717\n",
      "  0.190441       36   0.463456       0.171164         4                 1    0.00265263              1  0.00226723    0.0337079  0.00221286           91.8    0.0538922   0.0970821      0.0685075          0.0766222       0.0527324       0                0.00723443     0.0852747\n",
      "  0.111765       36   0.504858       0.106559         3                 1    0.00615789              1  0.00215622    0.0674157  0.0025399            79.3    0.0898204   0              0.10697            0.137143        0.0570314       0                0.00491178     0.140305\n",
      "  0.423529       36   0.493029       0.371152         4                 1    0.00536842              1  0.00134113    0.0786517  0.0027709            61      0.0718563   0.255555       0.0758869          0.0795          0.0661855       0                0.0150506      0.10372\n",
      "  0.140441       36   0.408534       0.126474         3                 2    0.00943158              1  0.000563056   0.0561798  0.00062723           70      0.0538922   0.0617659      0.0658254          0.0778697       0.0445264       0                0.00548778     0.0877201\n",
      "  0.205882       36   0.365864       0.177807         3                 3    0.00210526              1  0.000786079   0.0674157  0.00109989           51.5    0.0538922   0.0938714      0.0804283          0.0961514       0.0529484       0                0.00749405     0.0383326\n",
      "  0.319118       36   0.546261       0.287621         5                 3    0.00589474              1  0.00153015    0.0898876  0.00198256           68.6    0.113772    0.131237       0.106226           0.153441        0.0316889       0                0.011786       0.137526\n",
      "  0.676471       60   0.434728       0.391985         4                 1    0.00631579              1  0.00346735    0.202247   0.0126152            57.6    0.197605    0.446809       0.0697494          0.0554214       0.0863518       0                0.0158649      0.132967\n",
      "  0.117647       36   0.0494297      0.0935472        1                 1    0.00347368              1  0.000236024   0.011236   0.000975614          70.8    0.0359281   0.0723835      0.0291416          0.0407491       0.0106384       0                0.00420089     0.517764\n",
      "  0.135294       36   0.197296       0.112795         2                 3    0.0105263               1  0.000181018   0.146067   0.00116048           28.3    0.0898204   0.093936       0.0217813          0.0274888       0.0122434       0                0.00495318     0.0459276\n",
      "  0.294118       36   0.338403       0.24728          3                 2    0.00431579              1  0.0029953     0.123596   0.00457478           78      0.107784    0.175107       0.0577252          0.0672708       0.040517        0                0.0102093      0.174846\n",
      "  0.126471       36   0.108576       0.102379         1                 1    0.00747368              1  0.00240724    0.146067   0.00601101           58.2    0.11976     0.0939073      0.0143097          0.018958        0.0067443       0                0.00454605     0.0950097\n",
      "  0.852941       36   0.294466       0.68794          3                 1    0.0173684               1  0.0029793     0.280899   0.0150532            23      0.305389    0.46054        0.172471           0.207481        0.111672        0                0.0274318      0.0809478\n",
      "  1              36   0.0574567      0.74055          1                 2    0.0178947               1  0.00193219    0.134831   0.000261288           0.9    0.167665    0.563369       0.148704           0.205282        0.0581212       0                0.0294879      0.162557\n",
      "  1              60   0.239544       0.51975          2                 1    0.00998947              1  0.00154915    0.179775   0.0108226            35.3    0.167665    0.672729       0.0523025          0.0510128       0.0510815       0                0.0208583      0.119845\n",
      "  0.781618       60   0.517533       0.472731         4                 2    0.00631579              1  0.00166617    0.224719   0.0144896            50.2    0.257485    0.446183       0.204135           0.158447        0.258154        0                0.0190207      0.155793\n",
      "  0.264706       36   0.287283       0.219453         2                 2    0.00631579              3  0.00275528    0.157303   0.00439853           54.1    0.149701    0.0584094      0.155449           0.203319        0.0770598       0                0.00912172     0.139077\n",
      "  0.411765       36   0.311365       0.339025         3                 1    0.00789474              1  0.00237924    0.11236    0.00402673           80.1    0.113772    0.238279       0.0781971          0.0924417       0.0529869       0                0.013795       0.0553404\n",
      "  0.535294       60   0.380651       0.301756         3                 2    0.00610526              1  0.00123912    0.101124   0.00205898           15.3    0.155689    0              0.336278           0.548571        0.00947342      0                0.53267        0.0366614\n",
      "  0.0147059      36   0.239544       0.0205108        2                 1    0.00340674              1  0.00348935    0.11236    0.00720419           76.9    0.161677    0.0236918      0.00760001         0.00943628      0.00449648      0                0.00134638     0.208484\n",
      "  0.147059       36   0.120828       0.118302         2                 1    0.00705263              1  0.00284128    0.0674157  0.000341844          22.1    0.161677    0.0970266      0.0260556          0.0345577       0.0122248       0                0.00516839     0.122506\n",
      "  0.411765       36   0.324039       0.34054          3                 2    0.00452632              1  0.00166117    0.0449438  0.00391485           64.6    0.0299401   0.183172       0.139941           0.170179        0.0879618       0                0.0138542      0.113851\n",
      "  0.123529       36   0.108576       0.100183         1                 2    0.00547368              1  0.000865087   0.191011   0.000398646           3.4    0.305389    0.100099       0.00555267         0.00736685      0.00260188      0                0.00446024     0.0741638\n",
      "  0.147059       36   0.239544       0.123836         2                 2    0.00494737              1  0.000991099   0.134831   0.00259636           40.1    0.107784    0.0657341      0.0611895          0.0787005       0.0322595       0                0.0053847      0.0329713\n",
      "  0.441176       36   0.0971694      0.335805         1                 1    0.00631579              1  0.000955096   0.247191   0.00486052           28.5    0.161677    0              0.288307           0.457143        0.0271714       0                0.374666       0.197771\n",
      "  0.411765       36   0.239544       0.330488         2                 1    0.00842105              1  0.00161416    0.146067   0.00711331           59.9    0.11976     0.155901       0.161467           0.208649        0.0837194       0                0.0134613      0.0372945\n",
      "  0.617647       60   0.529785       0.37677          4                 3    0.00526316              1  0.00323132    0.123596   0.00718939           75.7    0.0958084   0.426572       0.0376165          0.0268266       0.0509989       0                0.0152702      0.0404182\n",
      "  0.205882       36   0.121251       0.16241          1                 1    0.01                    1  0.000849085   0.0898876  0.00376235           30.4    0.149701    0.103684       0.0609667          0.0823094       0.0265095       0                0.00689228     0.0726149\n",
      "  0.323529       36   0.329109       0.270134         2                 1    0.00526316              1  0.00213121    0.11236    0.0069312            79.6    0.101796    0.0161737      0.238262           0.320042        0.105958        0                0.0111025      0.0892984\n",
      "  0.0588235      36   0.120828       0.0521819        2                 2    0.00242105              1  0.00207221    0.146067   0.00532216           25.9    0.149701    0.0157386      0.0394508          0.0635125       0.00233128      0                0.0574154      0.0623462\n",
      "  0.816912       60   0.339248       0.448951         3                 1    0.00631579              1  0.00310331    0.157303   0.0199357            59.6    0.149701    0.47918        0.159158           0.146186        0.168526        0                0.0180913      0.0720655\n",
      "  0.0294118      36   0.338403       0.033558         3                 3    0.00315789              1  0.00169217    0.0561798  0.000507085          38.8    0.0598802   0.038655       0.00229258         0.002614        0.00169258      0                0.00185631     0.0803353\n",
      "  0.588235       36   0.287283       0.476182         2                 1    0.0136842               1  0.0020062     0.146067   0.0234426            68.3    0.179641    0              0.424341           0.6             0.145312        0                0.269944       0.111689\n",
      "  0.264706       36   0.339248       0.223599         3                 1    0.00842105              1  0.000272027   0.0674157  0.00173676           56.1    0.0718563   0.116878       0.0996357          0.12084         0.0630977       0                0.00928374     0.198395\n",
      "  0.111765       36   0.239544       0.0962829        2                 1    0.00968421              1  0.000857086   0.101124   0.00368455           35.7    0.113772    0.087924       0.0107768          0.0131126       0.00676372      0                0.00430781     0.114766\n",
      "  0.431618       60   0.281791       0.230599         3                 2    0.00571579              1  0.00305031    0.101124   0.00295817           29.1    0.0958084   0.313594       0.00567227         0.00548543      0.00560779      0                0.00955735     0.107091\n",
      "  0.276471       60   0.379806       0.156988         3                 2    0.00726316              1  0.000715072   0.146067   0.00362981           51.2    0.113772    0.179597       0.0502508          0.0437943       0.056622        0                0.00668036     0.583089\n",
      "  0.411765       36   0.197296       0.325528         2                 1    0.0105263               1  0.00229023    0.11236    0.00633943           49.1    0.11976     0.289205       0.0166078          0.0206034       0.0098506       0                0.0132675      0.118098\n",
      "  1              36   0.1297         0.75984          1                 1    0.0213684               1  0.00108211    0.0786517  0.00644374           64.8    0.197605    0.454115       0.267006           0.359401        0.117654        0                0.0302419      0.126111\n",
      "  0.0411765      36   0.358259       0.0434417        3                 1    0.00326274              1  0.000550055   0.0337079  0.00145275           63.9    0.011976    0              0.0509478          0.0685714       0.0224592       0                0.00233553     0.0857581\n",
      "  0.436765       60   0.562738       0.27228          5                 1    0.00452632              1  0.00234423    0.0898876  0.00173814           48.5    0.0598802   0.0690989      0.359832           0.355382        0.345036        0                0.0111864      0.114351\n",
      "  0.155147       36   0.38741        0.137557         3                 2    0.0121053               1  0.00019702    0.0449438  0.00114636           39      0.185629    0              0.122392           0.179286        0.0329056       0                0.128739       0.0603006\n",
      "  0.394118       60   0.262357       0.20837          2                 3    0.00842105              1  0.00376238    0.314607   0.00609604           42.6    0.275449    0.273225       0.0272663          0.0260034       0.0274837       0                0.00868855     0.126704\n",
      "  0.122059       36   0.0971694      0.0986399        1                 3    0.00267789              1  0.0029813     0.11236    0.00129577           21.4    0.0898204   0.0129267      0.0887453          0.128908        0.0254371       0                0.00439993     0.0591553\n",
      "  0.135294       36   0.324039       0.1184           3                 2    0.00421053              1  0.00279628    0.0786517  0.00274267           80.5    0.11976     0.0833008      0.0361351          0.0424914       0.0248124       0                0.00517223     0.21203\n",
      "  1              60   0.366286       0.557201         3                 3    0.00978947              1  0.0029723     0.0786517  0.0134968            84.5    0.0898204   0.675405       0.0558978          0.0472374       0.0651225       0                0.0223221      0.0775504\n",
      "  0.0588235      36   0.197296       0.0539566        2                 2    0.00231579              1  0.00168617    0.011236   0.000939124          99      0.0299401   0.0563621      0.00509523         0.00620685      0.00318728      0                0.00265356     0.0837788\n",
      "  0.558824       60   0.294466       0.300199         3                 3    0.00526316              1  0.00209621    0.0898876  0.00525916           86.3    0.107784    0.379963       0.0385182          0.0354323       0.0407079       0                0.0122775      0.0849075\n",
      "  0.705882       60   0.338403       0.388043         3                 2    0.00947368              1  0.0029843     0.123596   0.00816845           75.8    0.107784    0              0.462404           0.714285        0.070917        0                0.654913       0.0842696\n",
      "  0.705882       36   0.151246       0.542912         1                 1    0.00578947              1  0.00175218    0.202247   0.0075006            28.8    0.365269    0              0.490523           0.714285        0.138035        0                0.211538       0.0924536\n",
      "  0.5            60   0.258555       0.263372         2                 1    0.00526316              1  0.00254425    0.157303   0.00413862           50.1    0.191617    0.312282       0.074869           0.0737645       0.072049        0                0.0108382      0.185914\n",
      "  0.747059       60   0.558935       0.461879         5                 2    0.008                   1  0.0029623     0.258427   0.00516346           33.2    0.263473    0.500573       0.0701982          0.0481505       0.0979363       0                0.0185965      0.0680166\n",
      "  0.323529       60   0.463456       0.192061         3                 1    0.00526316              1  0.000833083   0.0898876  0.00241528           59.5    0.0778443   0.141829       0.157519           0.142785        0.169529        0                0.00805114     0.10821\n",
      "  0.5            60   0.38741        0.283076         3                 1    0.00526316              1  0.00178318    0.0561798  0.00855986           90.7    0.0359281   0.301325       0.102347           0.0892205       0.11529         0                0.0116083      0.182086\n",
      "  0.352941       60   0.597803       0.224981         4                 2    0.00947368              1  0.00190319    0.0449438  0.00249859           97      0.317365    0              0.288284           0.371428        0.151053        0                0.288564       0.286779\n",
      "  0.102941       36   0.262357       0.0902013        2                 1    0.01                    1  0.00267627    0.168539   0.010045             73.5    0.215569    0.0688858      0.0255954          0.0313974       0.0156959       0                0.00407012     0.0866803\n",
      "  0.394853       60   0.788762       0.277099         6                 1    0.00705263              1  0.00219422    0.157303   0.00603304           64.2    0.11976     0.267169       0.064296           0.0352606       0.102487        0                0.0113747      0.0379154\n",
      "  0.558824       36   0.326574       0.459108         2                 2    0.00915789              3  0.00133913    0.0561798  0.00695289           75.6    0.173653    0              0.154068           0.121027        0.120318        0.0549631        0.0110929      0.0402687\n",
      "  1              36   0.338403       0.817198         3                 1    0.0252632               1  0.00117812    0.11236    0.0162495            82.5    0.125749    0.574775       0.163385           0.189192        0.11643         0                0.0324836      0.0674944\n",
      "  0.558824       60   0.426278       0.322849         4                 1    0.00463158              1  0.00234023    0.157303   0.00550289           52.4    0.149701    0.400558       0.00801349         0.00637971      0.00990307      0                0.0131628      0.0721898\n"
     ]
    }
   ],
   "source": [
    "print(test)"
   ]
  },
  {
   "cell_type": "markdown",
   "metadata": {},
   "source": [
    "**Creating a correlation heatmap to see their relationship**"
   ]
  },
  {
   "cell_type": "code",
   "execution_count": 58,
   "metadata": {},
   "outputs": [
    {
     "data": {
      "text/plain": [
       "<Figure size 640x480 with 0 Axes>"
      ]
     },
     "metadata": {},
     "output_type": "display_data"
    },
    {
     "data": {
      "image/png": "[encoded data removed]",
      "text/plain": [
       "<Figure size 640x480 with 2 Axes>"
      ]
     },
     "metadata": {},
     "output_type": "display_data"
    }
   ],
   "source": [
    "correlation_heatmap(test)"
   ]
  },
  {
   "cell_type": "markdown",
   "metadata": {},
   "source": [
    "At roughly 780,000 instances and 27 columns, the dataset is too large and takes too long to run. Based on the heat map generated above, I have decided to cut down some attributes:\n",
    "* `pymnt_plan`: All people should have their own payment plan, so it would not make sense to use this attribute to predict the loan status.\n",
    "\n",
    "Besides, since nearly all attributes share decent correlation with each other, I will drop some attributes that have the least correlation with `loan_status` to boose efficiency:\n",
    "* `delinq_2yrs`\n",
    "* `verification_status`\n",
    "* `inq_last_6mths`\n",
    "* `emp_length`\n",
    "* `total_rec_late_fee`\n",
    "* `collection_late_fee`\n"
   ]
  },
  {
   "cell_type": "code",
   "execution_count": 64,
   "metadata": {},
   "outputs": [],
   "source": [
    "test.drop(['pymnt_plan', 'delinq_2yrs', 'verification_status', 'inq_last_6mths', 'total_rec_late_fee', 'emp_length', 'collection_recovery_fee'])"
   ]
  },
  {
   "cell_type": "code",
   "execution_count": 65,
   "metadata": {},
   "outputs": [
    {
     "name": "stdout",
     "output_type": "stream",
     "text": [
      "  loan_amnt    term    int_rate    installment    grade    home_ownership    annual_inc    loan_status          dti    open_acc    revol_bal    revol_util    total_acc    out_prncp    total_pymnt    total_rec_prncp    total_rec_int    recoveries    last_pymnt_amnt    home_value\n",
      "-----------  ------  ----------  -------------  -------  ----------------  ------------  -------------  -----------  ----------  -----------  ------------  -----------  -----------  -------------  -----------------  ---------------  ------------  -----------------  ------------\n",
      "  0.135294       36   0.162653       0.111294         2                 1    0.00736842              1  0.000221022   0.0449438   0.0020397           52.4    0.0179641    0.107903      0.00613058         0.007786         0.00337525             0        0.00489451      0.158864\n",
      "  0.794118       36   0.366286       0.657251         3                 2    0.00778947              1  0.00249225    0.101124    0.0107645           66.7    0.107784     0.501766      0.0822302          0.0921822        0.0629887              0        0.0262323       0.0649711\n",
      "  0.352941       36   0.504858       0.312411         3                 2    0.00546074              1  0.00161516    0.146067    0.00366596          62.3    0.11976      0             0.285357           0.371428         0.143446               0        0.000127757     0.123496\n",
      "  0.197059       36   0.100127       0.154554         1                 2    0.00536842              1  0.00126813    0.0898876   0.00264111          54.4    0.155689     0.0910431     0.0665172          0.0915697        0.0263683              0        0.00658523      0.109969\n",
      "  0.441176       60   0.108576       0.213049         1                 1    0.00490526              1  0.00174317    0.11236     0.00674599          50.1    0.143713     0.301656      0.0278817          0.0316114        0.0208439              0        0.00887141      0.0880314\n",
      "  0.264706       36   0.0760456      0.203039         1                 2    0.00570358              1  0.00040104    0.0337079   0.00266349          56.1    0.0718563    0             0.184426           0.285714         0.0270883              0        0.190478        0.11893\n",
      "  0.5            60   0.386988       0.283013         3                 1    0.00736842              1  0.000943094   0.0898876   0.00508531          28.1    0.0598802    0.360398      0.00707627         0.00588943       0.00837491             0        0.0116058       0.187985\n",
      "  0.588235       36   0.162653       0.455664         2                 1    0.0056                  1  0.00317732    0.235955    0.010571            35.9    0.209581     0.372996      0.057749           0.073832         0.031087               0        0.0183536       0.068332\n",
      "  0.0294118      36   0.162653       0.0307873        2                 1    0.00610526              1  0.000830083   0.0561798   0.0015636           40.6    0.0479042    0.0355232     0.0054824          0.007032         0.00291833             0        0.00174802      0.103518\n",
      "  0.352941       60   0.810308       0.251054         6                 3    0.00721053              1  0.00274327    0.213483    0.00438304          60.9    0.161677     0.214396      0.118211           0.0689897        0.182408               0        0.0103568       0.0845284\n"
     ]
    }
   ],
   "source": [
    "print(test.rows(range(10)))"
   ]
  },
  {
   "cell_type": "markdown",
   "metadata": {},
   "source": [
    "## 4. Machine Learning algorithms\n",
    "\n",
    "### 4.1 Naive Bayes\n",
    "\n",
    "Conduct Naive Bayes algorithm on the sampled dataset."
   ]
  },
  {
   "cell_type": "code",
   "execution_count": 68,
   "metadata": {},
   "outputs": [],
   "source": [
    "result = naive_bayes_stratified(test, 5, 'loan_status', ['loan_amnt', 'term', 'int_rate', 'installment', 'annual_inc', 'dti', 'open_acc', 'revol_bal', 'revol_util', 'total_acc', 'out_prncp', 'total_pymnt', 'total_rec_prncp', 'total_rec_int', 'recoveries', 'last_pymnt_amnt', 'home_value'], ['grade', 'home_ownership'])"
   ]
  },
  {
   "cell_type": "code",
   "execution_count": 69,
   "metadata": {},
   "outputs": [
    {
     "name": "stdout",
     "output_type": "stream",
     "text": [
      "actual      1    2    3    total\n",
      "--------  ---  ---  ---  -------\n",
      "1          15    0  446      461\n",
      "2           0    0    4        4\n",
      "3           1    0   34       35\n",
      "total      16    0  484      500\n"
     ]
    }
   ],
   "source": [
    "print(result)"
   ]
  },
  {
   "cell_type": "markdown",
   "metadata": {},
   "source": [
    "Running evaluation statistics"
   ]
  },
  {
   "cell_type": "code",
   "execution_count": 90,
   "metadata": {},
   "outputs": [
    {
     "name": "stdout",
     "output_type": "stream",
     "text": [
      "Non-empty labels count: 3\n",
      "Average accuracy: 0.3986666666666667\n",
      "p_prediced is 0 for label 2 . Subtracted 1 from non_empty_label.\n",
      "Precision: 0.3359159779614325\n",
      "Recall: 0.5019832661915091\n",
      "Macro-averaging F-score: 0.40249278408995903\n"
     ]
    }
   ],
   "source": [
    "label_list = result.get_column_data('actual')\n",
    "if 'total' in label_list:\n",
    "    label_list.remove('total')\n",
    "\n",
    "# Find non-empty labels\n",
    "sum_of_actual_labels = result.get_column_data('total')\n",
    "non_empty_label = 0\n",
    "for i in sum_of_actual_labels:\n",
    "    if i != 0:\n",
    "        non_empty_label += 1\n",
    "\n",
    "if result[result.row_count() - 1]['actual'] == 'total':\n",
    "    non_empty_label -= 1\n",
    "\n",
    "print(\"Non-empty labels count:\", non_empty_label)\n",
    "\n",
    "# Accuracy\n",
    "total_accuracy = 0\n",
    "for i in label_list: \n",
    "    num = accuracy(result, i)\n",
    "    if num != -1:\n",
    "        total_accuracy += num\n",
    "acc = total_accuracy / non_empty_label\n",
    "print(\"Average accuracy:\", acc)\n",
    "\n",
    "# Precision\n",
    "total_precision = 0\n",
    "denum = non_empty_label\n",
    "for i in label_list:\n",
    "    num = precision(result, i)\n",
    "    if num != -1:\n",
    "        total_precision += num\n",
    "    else:\n",
    "        print(\"p_prediced is 0 for label\", i, \". Subtracted 1 from non_empty_label.\")\n",
    "        non_empty_label -= 1\n",
    "precision_m = total_precision / denum\n",
    "print(\"Precision:\", precision_m)\n",
    "\n",
    "# Recall\n",
    "total_recall = 0\n",
    "denum = non_empty_label\n",
    "for i in label_list: # labels are 1, 2, 3\n",
    "    num = recall(result, i)\n",
    "    if num != -1:\n",
    "        total_recall += num\n",
    "    else:\n",
    "        print(\"p_actual is 0 for label\", i, \". Subtracted 1 from non_empty_label.\")\n",
    "        denum -= 1\n",
    "recall_m = total_recall / non_empty_label\n",
    "print(\"Recall:\", recall_m)\n",
    "\n",
    "# F-score\n",
    "f_score = 2 * precision_m * recall_m / (precision_m + recall_m)\n",
    "print(\"Macro-averaging F-score:\", f_score)"
   ]
  },
  {
   "cell_type": "markdown",
   "metadata": {},
   "source": [
    "### 4.2 k-Nearest Neighbors\n",
    "\n",
    "Conduct k-Nearest Neighbors algorithm on the sampled dataset."
   ]
  },
  {
   "cell_type": "code",
   "execution_count": 89,
   "metadata": {},
   "outputs": [
    {
     "name": "stdout",
     "output_type": "stream",
     "text": [
      "  loan_amnt    term    int_rate    installment    grade    emp_length    home_ownership    annual_inc    verification_status    loan_status    pymnt_plan          dti    delinq_2yrs    inq_last_6mths    open_acc    revol_bal    revol_util    total_acc    out_prncp    total_pymnt    total_rec_prncp    total_rec_int    total_rec_late_fee    recoveries    collection_recovery_fee    last_pymnt_amnt    home_value\n",
      "-----------  ------  ----------  -------------  -------  ------------  ----------------  ------------  ---------------------  -------------  ------------  -----------  -------------  ----------------  ----------  -----------  ------------  -----------  -----------  -------------  -----------------  ---------------  --------------------  ------------  -------------------------  -----------------  ------------\n",
      "  0.0411765      36   0.449514       0.0452164        3            10                 2    0.00128968                      0              1             0  0.000872087              0                 2   0.011236   0.00101761           98.5    0.0479042    0              0.0519865          0.0685714       0.0249384              0                     0                          0        0.0178177       0.0508095\n",
      "  0.0588235      36   0.562738       0.0628231        5             9                 2    0.00505263                      1              1             0  0.000535054              0                 2   0.0337079  0.00283011           87.5    0.011976     0              0.0681604          0.0857142       0.0387571              0                     0                          0        0.00305245      0.106613\n",
      "  0.264706       36   0.420363       0.230157         3             4                 2    0.00442105                      0              1             0  0.00186019               0                 2   0.146067   0.00827689           70.2    0.155689     0              0.21668            0.285714        0.104077               0                     0                          0        0.0101564       0.163128\n",
      "  0.264706       36   0.269962       0.218078         2             5                 2    0.00526316                      0              1             0  0.00160116               0                 0   0.0561798  0.00612771           91.8    0.0898204    0              0.199668           0.285714        0.0634691              0                     0                          0        0.135505        0.169561\n",
      "  0.264706       60   0.449514       0.156497         3             2                 2    0.00306526                      2              1             0  0.00228323               0                 1   0.11236    0.00556245           63.6    0.173653     0.0545909      0.201157           0.208705        0.178376               0                     0                          0        0.00666117      0.0872701\n",
      "  0.411765       36   0.108999       0.315301         1             1                 2    0.00473684                      2              1             0  0.000848085              0                 0   0.0674157  0.00230788           50.4    0.149701     0              0.288392           0.428571        0.0686865              0                     0                          0        0.161006        0.0484431\n",
      "  0.147059       36   0.0299958      0.114163         1            10                 1    0.0048                          0              1             0  0.000534053              0                 1   0.0561798  0.00116289           32.5    0.155689     0              0.104986           0.171428        0.00272086             0                     0                          0        0.000411508     0.141326\n",
      "  0.264706       36   0.299958       0.220463         2             0                 3    0.00410526                      0              1             0  0.00185819               0                 0   0.0449438  0.00443192           72.7    0.0479042    0              0.198602           0.285714        0.0609263              0                     0                          0        0.159118        0.206213\n",
      "  0.205882       36   0.483735       0.185495         4             0                 2    0.00652632                      0              1             0  0.00216422               0                 3   0.146067   0.00209582           66.9    0.107784     0              0.177703           0.228571        0.0930474              0.0417889             0                          0        0.0166287       0.171051\n",
      "  0.0588235      36   0.345163       0.0574709        3             1                 2    0.00353684                      0              1             0  0.00181118               0                 0   0.0337079  0.000944976          83.2    0.0299401    0              0.0561948          0.0857142       0.010196               0                     0                          0        0.0696241       0.167103\n"
     ]
    }
   ],
   "source": [
    "print(test.rows(range(10)))"
   ]
  },
  {
   "cell_type": "markdown",
   "metadata": {},
   "source": [
    "I wanted to run the algorithm at a higher k value and k-fold value, but the run time is too long and I had to terminate it. So, I ended up running the evaluation using holdout method instead, as it took too long to run for stratify."
   ]
  },
  {
   "cell_type": "code",
   "execution_count": 93,
   "metadata": {},
   "outputs": [],
   "source": [
    "train_knn, test_knn  = holdout(test, 150)"
   ]
  },
  {
   "cell_type": "code",
   "execution_count": 94,
   "metadata": {},
   "outputs": [],
   "source": [
    "result_knn = knn_eval(train_knn, test_knn, majority_vote, 5, 'loan_status', ['loan_amnt', 'term', 'int_rate', 'installment', 'annual_inc', 'dti', 'open_acc', 'revol_bal', 'revol_util', 'total_acc', 'out_prncp', 'total_pymnt', 'total_rec_prncp', 'total_rec_int', 'recoveries', 'last_pymnt_amnt', 'home_value'], ['grade', 'home_ownership'])"
   ]
  },
  {
   "cell_type": "code",
   "execution_count": 100,
   "metadata": {},
   "outputs": [
    {
     "name": "stdout",
     "output_type": "stream",
     "text": [
      "actual      1    2    3    total\n",
      "--------  ---  ---  ---  -------\n",
      "1         144    0    0      144\n",
      "2           0    0    0        0\n",
      "3           6    0    0        6\n",
      "total     150    0    0      150\n"
     ]
    }
   ],
   "source": [
    "print(result_knn)"
   ]
  },
  {
   "cell_type": "code",
   "execution_count": 104,
   "metadata": {},
   "outputs": [
    {
     "name": "stdout",
     "output_type": "stream",
     "text": [
      "Non-empty labels count: 2\n",
      "Average accuracy: 0.9733333333333333\n",
      "p_prediced is 0 for label 2 . Subtracted 1 from non_empty_label.\n",
      "p_prediced is 0 for label 3 . Subtracted 1 from non_empty_label.\n",
      "Precision: 0.96\n",
      "Recall: 0.5\n",
      "Macro-averaging F-score: 0.6575342465753424\n"
     ]
    }
   ],
   "source": [
    "label_list = result_knn.get_column_data('actual')\n",
    "if 'total' in label_list:\n",
    "    label_list.remove('total')\n",
    "\n",
    "# Find non-empty labels\n",
    "sum_of_actual_labels = result_knn.get_column_data('total')\n",
    "non_empty_label = 0\n",
    "for i in sum_of_actual_labels:\n",
    "    if i != 0:\n",
    "        non_empty_label += 1\n",
    "\n",
    "if result_knn[result_knn.row_count() - 1]['actual'] == 'total':\n",
    "    non_empty_label -= 1\n",
    "\n",
    "print(\"Non-empty labels count:\", non_empty_label)\n",
    "\n",
    "# Accuracy\n",
    "total_accuracy = 0\n",
    "for i in label_list: \n",
    "    num = accuracy(result_knn, i)\n",
    "    if num != -1:\n",
    "        total_accuracy += num\n",
    "acc = total_accuracy / 3\n",
    "print(\"Average accuracy:\", acc)\n",
    "\n",
    "# Precision\n",
    "total_precision = 0\n",
    "denum = non_empty_label\n",
    "for i in label_list:\n",
    "    num = precision(result_knn, i)\n",
    "    if num != -1:\n",
    "        total_precision += num\n",
    "    else:\n",
    "        print(\"p_prediced is 0 for label\", i, \". Subtracted 1 from non_empty_label.\")\n",
    "        denum -= 1\n",
    "if denum == 0:\n",
    "    denum = 1\n",
    "precision_m = total_precision / denum\n",
    "print(\"Precision:\", precision_m)\n",
    "\n",
    "# Recall\n",
    "total_recall = 0\n",
    "denum = non_empty_label\n",
    "for i in label_list: # labels are 1, 2, 3\n",
    "    num = recall(result_knn, i)\n",
    "    if num != -1:\n",
    "        total_recall += num\n",
    "recall_m = total_recall / non_empty_label\n",
    "print(\"Recall:\", recall_m)\n",
    "\n",
    "# F-score\n",
    "f_score = 2 * precision_m * recall_m / (precision_m + recall_m)\n",
    "print(\"Macro-averaging F-score:\", f_score)"
   ]
  },
  {
   "cell_type": "markdown",
   "metadata": {},
   "source": [
    "## 5. Conclusion"
   ]
  },
  {
   "cell_type": "markdown",
   "metadata": {},
   "source": [
    "* Since kNN and Naive Bayes evaluation is run on two different sampleing method, its result is not comparable. However, it should still give us a rough idea of how the algorithm performs.\n",
    "* In terms of efficiency, both algorithms are slow to run, regarding the current number of instances in the dataset. However, Naive Bayes algorithm is slower than k-Nearest Neighbors algorithm.\n",
    "* As both algorithm takes too long to run, I have to sample the dataset first to reduce the running time. However, this also reduces the accuracy of the algorithm as hold out does not guarantee that the sample is representative of the whole dataset. I also tried to run the sampling step using k-cross stratify, but the run time is still very slow when sampling 500 instances. Therefore, it explains why the accuracy of the algorithm is not as high as expected.\n",
    "* However, I'm hopeful that the result will be better, especially for using other machine learning algorithms while having a more representative sample.\n",
    "* With that, there is rooms for improvement for both algorithms. I will work on further reduce the dataset size to produce a manageable running time. I will also consider modifying the algorithm to avoid looping over the dataset multiple times, as well as implementing K-D Tree."
   ]
  }
 ],
 "metadata": {
  "kernelspec": {
   "display_name": "cpsc322",
   "language": "python",
   "name": "python3"
  },
  "language_info": {
   "codemirror_mode": {
    "name": "ipython",
    "version": 3
   },
   "file_extension": ".py",
   "mimetype": "text/x-python",
   "name": "python",
   "nbconvert_exporter": "python",
   "pygments_lexer": "ipython3",
   "version": "3.11.6"
  }
 },
 "nbformat": 4,
 "nbformat_minor": 2
}
