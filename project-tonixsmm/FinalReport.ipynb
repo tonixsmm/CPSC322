{
 "cells": [
  {
   "cell_type": "markdown",
   "metadata": {},
   "source": [
    "# Semester Project\n",
    "\n",
    "Name: **Tony Nguyen**\n",
    "\n",
    "Class: CPSC 322\n",
    "\n",
    "Term: Fall 2023"
   ]
  },
  {
   "cell_type": "code",
   "execution_count": 1,
   "metadata": {},
   "outputs": [],
   "source": [
    "from data_table import *\n",
    "from data_util import *\n",
    "from data_learn import *\n",
    "from data_eval import *"
   ]
  },
  {
   "cell_type": "markdown",
   "metadata": {},
   "source": [
    "# Introduction"
   ]
  },
  {
   "cell_type": "markdown",
   "metadata": {},
   "source": [
    "I plan to build a classifier that predicts whether a person’s loan is high risk, medium risk, or low risk for default. The classifier uses two datasets: one is the Credit Risk Analysis on [Kaggle]( https://www.kaggle.com/datasets/ranadeep/credit-risk-dataset?rvi=1) and the Zillow Home Value Index on Zillow’s [home data]( https://www.zillow.com/research/data/). Both datasets will be merged on the zip code. Since housing price trends can impact borrowers' ability to pay their loans, I plan to calculate them and factor them into the classifier training. \n",
    "\n",
    "It turns out after testing several approaches, the classifers all return a high accuracy score. However, high accuracy does not always mean good. In this case, the classifier predicts the majority class (low risk) most of the time, which fails to classify the level of risk of a person."
   ]
  },
  {
   "cell_type": "markdown",
   "metadata": {},
   "source": [
    "# Data Analysis"
   ]
  },
  {
   "cell_type": "markdown",
   "metadata": {},
   "source": [
    "## Credit Risk Analysis Dataset\n",
    "\n",
    "### Load Data\n"
   ]
  },
  {
   "cell_type": "markdown",
   "metadata": {},
   "source": [
    "This dataset contains extensive information about relevant real life credit risk factors. Based on the description on Kaggle, the dataset was a real data from a financial institution. The dataset is also relatively large, with 887,379 rows and 34 attributes, which is as follows:\n",
    "* **id**: A unique identifier for the loan listing.\n",
    "* **loan_amnt**: The amount of the loan applied for by the borrower.\n",
    "* **term**: The number of payments on the loan. Values are in months and can be either 36 or 60.\n",
    "* **int_rate**: Interest Rate on the loan.\n",
    "* **installment**: The monthly payment owed by the borrower if the loan originates. Either 36 or 60 months.\n",
    "* **grade**: Loan grade assigned by the loaner. Possible values are from A-G.\n",
    "* **emp_length**: Employment length in years. \n",
    "* **home_ownership**: The home ownership status provided by the borrower during registration. Possible values are: RENT, OWN, MORTGAGE, OTHER.\n",
    "* **annual_inc**: The self-reported annual income provided by the borrower.\n",
    "* **verification_status**: Indicates if the borrower's income was verified by the loaner. Possible values are: Verified, Source Verified, Not Verified.\n",
    "* **issue_d**: The month-year which the loan was funded. Possible values lay between Jan 2008 - Dec 2015.\n",
    "* **loan_status**: Current status of the loan.\n",
    "* **pymnt_plan**: Indicates if a payment plan has been put in place for the loan. Possible values are: y = yes, n = no.\n",
    "* **zip_code**: The first 3 numbers of the zip code provided by the borrower in the loan application.\n",
    "* **addr_state**: The state provided by the borrower in the loan application.\n",
    "* **dti**: The debt-to-income ratio of the borrower (amount of debt divided by annual income).\n",
    "* **delinq_2yrs**: The number of 30+ days past-due incidences of delinquency in the borrower's credit file for the past 2 years.\n",
    "* **earliest_cr_line**: The month-year the borrower's earliest reported credit line was opened.\n",
    "* **inq_last_6mths**: The number of inquiries in past 6 months (excluding auto and mortgage inquiries).\n",
    "* **open_acc**: The number of open credit lines in the borrower's credit file.\n",
    "* **revol_bal**: Total credit revolving balance.\n",
    "* **revol_util**:  Revolving line utilization rate, or the amount of credit the borrower is using relative to all available revolving credit.\n",
    "* **total_acc**: The total number of credit lines currently in the borrower's credit file.\n",
    "* **out_prncp**: Remaining outstanding principal for total amount funded.\n",
    "* **total_pymnt**: Payments received to date for total amount funded.\n",
    "* **total_rec_prncp**: Principal received to date.\n",
    "* **total_rec_int**: Interest received to date.\n",
    "* **total_rec_late_fee**: Late fees received to date.\n",
    "* **recoveries**: Post charge off gross recovery.\n",
    "* **collection_recovery_fee**: Post charge off collection fee.\n",
    "* **last_pymnt_d**: Last month payment was received.\n",
    "* **last_pymnt_amnt**: Last total payment amount received.\n",
    "* **next_pymnt_d**: Next scheduled payment date.\n",
    "* **last_credit_pull_d**: The most recent month the loan company pulled credit for this loan."
   ]
  },
  {
   "cell_type": "markdown",
   "metadata": {},
   "source": [
    "These information is probably more than enough to build a classifier that predicts the risk of a loan. However, I do not plan to use all of them as it will be expensive. I reckon that the large amount of data will be a challenge for this project. In addition to that, I also plan to merge this dataset with the Zillow Home Value Index dataset to see if housing price trends can impact borrowers' ability to pay their loans."
   ]
  },
  {
   "cell_type": "code",
   "execution_count": 2,
   "metadata": {},
   "outputs": [
    {
     "data": {
      "text/plain": [
       "     id    loan_amnt  term         int_rate    installment  grade    emp_length    home_ownership      annual_inc  verification_status    issue_d    loan_status    pymnt_plan    zip_code    addr_state      dti    delinq_2yrs  earliest_cr_line      inq_last_6mths    open_acc    revol_bal    revol_util    total_acc    out_prncp    total_pymnt    total_rec_prncp    total_rec_int    total_rec_late_fee    recoveries    collection_recovery_fee  last_pymnt_d      last_pymnt_amnt  next_pymnt_d    last_credit_pull_d\n",
       "-------  -----------  ---------  ----------  -------------  -------  ------------  ----------------  ------------  ---------------------  ---------  -------------  ------------  ----------  ------------  -----  -------------  ------------------  ----------------  ----------  -----------  ------------  -----------  -----------  -------------  -----------------  ---------------  --------------------  ------------  -------------------------  --------------  -----------------  --------------  --------------------\n",
       "1077501         5000  36 months       10.65         162.87  B        10+ years     RENT                     24000  Verified               11-Dec     Fully Paid     n             860xx       AZ            27.65              0  Jan-85                             1           3        13648          83.7            9         0           5861.07            5000              861.07                  0             0                          0     15-Jan                     171.62                  16-Jan\n",
       "1077430         2500  60 months       15.27          59.83  C        < 1 year      RENT                     30000  Source Verified        11-Dec     Charged Off    n             309xx       GA             1                 0  Apr-99                             5           3         1687           9.4            4         0           1008.71             456.46           435.17                  0           117.08                       1.11  13-Apr                     119.66                  13-Sep\n",
       "1077175         2400  36 months       15.96          84.33  C        10+ years     RENT                     12252  Not Verified           11-Dec     Fully Paid     n             606xx       IL             8.72              0  1-Nov                              2           2         2956          98.5           10         0           3003.65            2400              603.65                  0             0                          0     14-Jun                     649.91                  16-Jan\n",
       "1076863        10000  36 months       13.49         339.31  C        10+ years     RENT                     49200  Source Verified        11-Dec     Fully Paid     n             917xx       CA            20                 0  Feb-96                             1          10         5598          21             37         0          12226.3            10000             2209.33                 16.97          0                          0     15-Jan                     357.48                  15-Jan\n",
       "1075358         3000  60 months       12.69          67.79  B        1 year        RENT                     80000  Source Verified        11-Dec     Current        n             972xx       OR            17.94              0  Jan-96                             0          15        27783          53.9           38       766.9         3242.17            2233.1           1009.07                  0             0                          0     16-Jan                      67.79  16-Feb          16-Jan\n",
       "1075269         5000  36 months        7.9          156.46  A        3 years       RENT                     36000  Source Verified        11-Dec     Fully Paid     n             852xx       AZ            11.2               0  4-Nov                              3           9         7963          28.3           12         0           5631.38            5000              631.38                  0             0                          0     15-Jan                     161.03                  15-Sep\n",
       "1069639         7000  60 months       15.96         170.08  C        8 years       RENT                     47004  Not Verified           11-Dec     Current        n             280xx       NC            23.51              0  5-Jul                              1           7        17726          85.6           11      1889.15        8136.84            5110.85          3025.99                  0             0                          0     16-Jan                     170.08  16-Feb          16-Jan\n",
       "1072053         3000  36 months       18.64         109.43  E        9 years       RENT                     48000  Source Verified        11-Dec     Fully Paid     n             900xx       CA             5.35              0  7-Jan                              2           4         8221          87.5            4         0           3938.14            3000              938.14                  0             0                          0     15-Jan                     111.34                  14-Dec\n",
       "1071795         5600  60 months       21.28         152.39  F        4 years       OWN                      40000  Source Verified        11-Dec     Charged Off    n             958xx       CA             5.55              0  4-Apr                              2          11         5210          32.6           13         0            646.02             162.02           294.94                  0           189.06                       2.09  12-Apr                     152.39                  12-Aug\n",
       "1071570         5375  60 months       12.69         121.45  B        < 1 year      RENT                     15000  Verified               11-Dec     Charged Off    n             774xx       TX            18.08              0  4-Sep                              0           2         9279          36.5            3         0           1476.19             673.48           533.42                  0           269.29                       2.52  12-Nov                     121.45                  13-Mar"
      ]
     },
     "execution_count": 2,
     "metadata": {},
     "output_type": "execute_result"
    }
   ],
   "source": [
    "credit_original = DataTable(['id', 'loan_amnt', 'term', 'int_rate', 'installment', 'grade', 'emp_length', 'home_ownership', 'annual_inc', 'verification_status', 'issue_d', 'loan_status', 'pymnt_plan', 'zip_code', 'addr_state', 'dti', 'delinq_2yrs', 'earliest_cr_line', 'inq_last_6mths', 'open_acc', 'revol_bal', 'revol_util', 'total_acc', 'out_prncp', 'total_pymnt', 'total_rec_prncp', 'total_rec_int', 'total_rec_late_fee', 'recoveries', 'collection_recovery_fee', 'last_pymnt_d', 'last_pymnt_amnt', 'next_pymnt_d', 'last_credit_pull_d'])\n",
    "credit_original.load('dataset/loan_trimmed.csv')\n",
    "credit_original.rows(range(10))"
   ]
  },
  {
   "cell_type": "markdown",
   "metadata": {},
   "source": [
    "### Discretize Data"
   ]
  },
  {
   "cell_type": "markdown",
   "metadata": {},
   "source": [
    "The dataset comes in different data type, so I will need to convert them into something more similar consistent with each other. I will go ahead and discretize the data first:"
   ]
  },
  {
   "cell_type": "markdown",
   "metadata": {},
   "source": [
    "Since this project wants to predict the `loan_status`, I encode Credit Risk Analysis's `loan_status` as follows:\n",
    "* **High risk, *Denote as 3***: Charged Off, Default, Late (16-30 days), Late (31-120 days).\n",
    "* **Medium risk, *Denote as 2***: Issued, In Grace Period\n",
    "* **Low risk, *Denote as 1***: Current, Fully Paid."
   ]
  },
  {
   "cell_type": "code",
   "execution_count": 6,
   "metadata": {},
   "outputs": [],
   "source": [
    "while credit_original.get_column_data('loan_status').count('Does not meet the credit policy. Status:Fully Paid') > 0 or credit_original.get_column_data('loan_status').count('Does not meet the credit policy. Status:Charged Off') > 0:\n",
    "    for i in range(credit_original.row_count()):\n",
    "        try:\n",
    "            if (credit_original[i]['loan_status'] == 'Does not meet the credit policy. Status:Fully Paid'\n",
    "                or credit_original[i]['loan_status'] == 'Does not meet the credit policy. Status:Charged Off'):\n",
    "                del credit_original[i]\n",
    "        except IndexError:\n",
    "            break"
   ]
  },
  {
   "cell_type": "code",
   "execution_count": 7,
   "metadata": {},
   "outputs": [],
   "source": [
    "high = 0\n",
    "medium = 0\n",
    "low = 0\n",
    "\n",
    "for i in range(credit_original.row_count()):\n",
    "    if credit_original[i]['loan_status'] == 'Fully Paid' or credit_original[i]['loan_status'] == 'Current':\n",
    "        credit_original[i]['loan_status'] = 1\n",
    "        low += 1\n",
    "    elif credit_original[i]['loan_status'] == 'Issued' or credit_original[i]['loan_status'] == 'In Grace Period':\n",
    "        credit_original[i]['loan_status'] = 2\n",
    "        medium += 1\n",
    "    elif (credit_original[i]['loan_status'] == 'Late (16-30 days)' or credit_original[i]['loan_status'] == 'Late (31-120 days)'\n",
    "            or credit_original[i]['loan_status'] == 'Default' or credit_original[i]['loan_status'] == 'Charged Off'):\n",
    "        credit_original[i]['loan_status'] = 3\n",
    "        high += 1"
   ]
  },
  {
   "cell_type": "code",
   "execution_count": 8,
   "metadata": {},
   "outputs": [
    {
     "data": {
      "text/plain": [
       "     id    loan_amnt  term         int_rate    installment  grade    emp_length    home_ownership      annual_inc  verification_status    issue_d      loan_status  pymnt_plan    zip_code    addr_state      dti    delinq_2yrs  earliest_cr_line      inq_last_6mths    open_acc    revol_bal    revol_util    total_acc    out_prncp    total_pymnt    total_rec_prncp    total_rec_int    total_rec_late_fee    recoveries    collection_recovery_fee  last_pymnt_d      last_pymnt_amnt  next_pymnt_d    last_credit_pull_d\n",
       "-------  -----------  ---------  ----------  -------------  -------  ------------  ----------------  ------------  ---------------------  ---------  -------------  ------------  ----------  ------------  -----  -------------  ------------------  ----------------  ----------  -----------  ------------  -----------  -----------  -------------  -----------------  ---------------  --------------------  ------------  -------------------------  --------------  -----------------  --------------  --------------------\n",
       "1077501         5000  36 months       10.65         162.87  B        10+ years     RENT                     24000  Verified               11-Dec                 1  n             860xx       AZ            27.65              0  Jan-85                             1           3        13648          83.7            9         0           5861.07            5000              861.07                  0             0                          0     15-Jan                     171.62                  16-Jan\n",
       "1077430         2500  60 months       15.27          59.83  C        < 1 year      RENT                     30000  Source Verified        11-Dec                 3  n             309xx       GA             1                 0  Apr-99                             5           3         1687           9.4            4         0           1008.71             456.46           435.17                  0           117.08                       1.11  13-Apr                     119.66                  13-Sep\n",
       "1077175         2400  36 months       15.96          84.33  C        10+ years     RENT                     12252  Not Verified           11-Dec                 1  n             606xx       IL             8.72              0  1-Nov                              2           2         2956          98.5           10         0           3003.65            2400              603.65                  0             0                          0     14-Jun                     649.91                  16-Jan\n",
       "1076863        10000  36 months       13.49         339.31  C        10+ years     RENT                     49200  Source Verified        11-Dec                 1  n             917xx       CA            20                 0  Feb-96                             1          10         5598          21             37         0          12226.3            10000             2209.33                 16.97          0                          0     15-Jan                     357.48                  15-Jan\n",
       "1075358         3000  60 months       12.69          67.79  B        1 year        RENT                     80000  Source Verified        11-Dec                 1  n             972xx       OR            17.94              0  Jan-96                             0          15        27783          53.9           38       766.9         3242.17            2233.1           1009.07                  0             0                          0     16-Jan                      67.79  16-Feb          16-Jan\n",
       "1075269         5000  36 months        7.9          156.46  A        3 years       RENT                     36000  Source Verified        11-Dec                 1  n             852xx       AZ            11.2               0  4-Nov                              3           9         7963          28.3           12         0           5631.38            5000              631.38                  0             0                          0     15-Jan                     161.03                  15-Sep\n",
       "1069639         7000  60 months       15.96         170.08  C        8 years       RENT                     47004  Not Verified           11-Dec                 1  n             280xx       NC            23.51              0  5-Jul                              1           7        17726          85.6           11      1889.15        8136.84            5110.85          3025.99                  0             0                          0     16-Jan                     170.08  16-Feb          16-Jan\n",
       "1072053         3000  36 months       18.64         109.43  E        9 years       RENT                     48000  Source Verified        11-Dec                 1  n             900xx       CA             5.35              0  7-Jan                              2           4         8221          87.5            4         0           3938.14            3000              938.14                  0             0                          0     15-Jan                     111.34                  14-Dec\n",
       "1071795         5600  60 months       21.28         152.39  F        4 years       OWN                      40000  Source Verified        11-Dec                 3  n             958xx       CA             5.55              0  4-Apr                              2          11         5210          32.6           13         0            646.02             162.02           294.94                  0           189.06                       2.09  12-Apr                     152.39                  12-Aug\n",
       "1071570         5375  60 months       12.69         121.45  B        < 1 year      RENT                     15000  Verified               11-Dec                 3  n             774xx       TX            18.08              0  4-Sep                              0           2         9279          36.5            3         0           1476.19             673.48           533.42                  0           269.29                       2.52  12-Nov                     121.45                  13-Mar"
      ]
     },
     "execution_count": 8,
     "metadata": {},
     "output_type": "execute_result"
    }
   ],
   "source": [
    "credit_original.rows(range(10))"
   ]
  },
  {
   "cell_type": "markdown",
   "metadata": {},
   "source": [
    "### Data Cleaning and Normalization"
   ]
  },
  {
   "cell_type": "markdown",
   "metadata": {},
   "source": [
    "In order to get the data ready for training, I will need to clean the data and normalize them. I will start by removing the columns that are not relevant to the project. I will also remove the rows that have missing values.\n",
    "\n",
    "#### `term` attribute"
   ]
  },
  {
   "cell_type": "markdown",
   "metadata": {},
   "source": [
    "`term` attribute is shown in months, so we need to remove the \"months\" string and convert the attribute to an integer. This is performed so that the attribute name is consistent across all datasets."
   ]
  },
  {
   "cell_type": "code",
   "execution_count": 9,
   "metadata": {},
   "outputs": [
    {
     "name": "stdout",
     "output_type": "stream",
     "text": [
      "Unique values in term:  {36, 60}\n"
     ]
    }
   ],
   "source": [
    "term_attr = credit_original.get_column_data('term')\n",
    "for i in range(credit_original.row_count()):\n",
    "    credit_original[i]['term'] = int(credit_original[i]['term'][:2])\n",
    "print('Unique values in term: ', set(credit_original.get_column_data('term')))"
   ]
  },
  {
   "cell_type": "markdown",
   "metadata": {},
   "source": [
    "#### `grade` attribute\n",
    "The `grade` attribute is a categorical attribute, so I will need to convert it to a numerical attribute. I will use the following mapping:\n",
    "* **A**: 1\n",
    "* **B**: 2\n",
    "* **C**: 3\n",
    "* **D**: 4\n",
    "* **E**: 5\n",
    "* **F**: 6\n",
    "* **G**: 7"
   ]
  },
  {
   "cell_type": "code",
   "execution_count": 10,
   "metadata": {},
   "outputs": [
    {
     "name": "stdout",
     "output_type": "stream",
     "text": [
      "Unique values in grade:  {1, 2, 3, 4, 5, 6, 7}\n"
     ]
    }
   ],
   "source": [
    "for i in range(credit_original.row_count()):\n",
    "    if credit_original[i]['grade'] == 'A':\n",
    "        credit_original[i]['grade'] = 1\n",
    "    elif credit_original[i]['grade'] == 'B':\n",
    "        credit_original[i]['grade'] = 2\n",
    "    elif credit_original[i]['grade'] == 'C':\n",
    "        credit_original[i]['grade'] = 3\n",
    "    elif credit_original[i]['grade'] == 'D':\n",
    "        credit_original[i]['grade'] = 4\n",
    "    elif credit_original[i]['grade'] == 'E':\n",
    "        credit_original[i]['grade'] = 5\n",
    "    elif credit_original[i]['grade'] == 'F':\n",
    "        credit_original[i]['grade'] = 6\n",
    "    elif credit_original[i]['grade'] == 'G':\n",
    "        credit_original[i]['grade'] = 7\n",
    "print('Unique values in grade: ', set(credit_original.get_column_data('grade')))"
   ]
  },
  {
   "cell_type": "markdown",
   "metadata": {},
   "source": [
    "#### `emp_length` attribute\n",
    "The `emp_length` attribute is also a categorical attribute, so I will need to convert it to a numerical attribute. I will use the following mapping:\n",
    "* **-1**: Not available\n",
    "* **0**: Less than 1 year\n",
    "* **1**: 1 year\n",
    "* **2**: 2 years\n",
    "...\n",
    "* **10**: 10+ years"
   ]
  },
  {
   "cell_type": "code",
   "execution_count": 11,
   "metadata": {},
   "outputs": [
    {
     "name": "stdout",
     "output_type": "stream",
     "text": [
      "Unique values in emp_length after cleaning:  {0, 1, 2, 3, 4, 5, 6, 7, 8, 9, 10, -1}\n"
     ]
    }
   ],
   "source": [
    "emp_length_attr = credit_original.get_column_data('emp_length')\n",
    "for i in range(credit_original.row_count()):\n",
    "    if credit_original[i]['emp_length'] == 'n/a':\n",
    "        credit_original[i]['emp_length'] = -1\n",
    "    elif credit_original[i]['emp_length'] == '< 1 year':\n",
    "        credit_original[i]['emp_length'] = 0\n",
    "    elif credit_original[i]['emp_length'] == '10+ years':\n",
    "        credit_original[i]['emp_length'] = 10\n",
    "    else:\n",
    "        credit_original[i]['emp_length'] = int(credit_original[i]['emp_length'][:2])\n",
    "print('Unique values in emp_length after cleaning: ', set(credit_original.get_column_data('emp_length')))"
   ]
  },
  {
   "cell_type": "markdown",
   "metadata": {},
   "source": [
    "#### `home_ownership` attribute\n",
    "Encode `home_ownership` as follows:\n",
    "* **0**: None\n",
    "* **1**: Mortgage\n",
    "* **2**: Rent\n",
    "* **3**: Own\n",
    "* **4**: Other\n",
    "* **5**: Any"
   ]
  },
  {
   "cell_type": "code",
   "execution_count": 12,
   "metadata": {},
   "outputs": [
    {
     "name": "stdout",
     "output_type": "stream",
     "text": [
      "Unique values in home_ownership after cleaning:  {0, 1, 2, 3, 4, 5}\n"
     ]
    }
   ],
   "source": [
    "home_ownership_attr = credit_original.get_column_data('home_ownership')\n",
    "for i in range(credit_original.row_count()):\n",
    "    if credit_original[i]['home_ownership'] == 'NONE':\n",
    "        credit_original[i]['home_ownership'] = 0\n",
    "    elif credit_original[i]['home_ownership'] == 'MORTGAGE':\n",
    "        credit_original[i]['home_ownership'] = 1\n",
    "    elif credit_original[i]['home_ownership'] == 'RENT':\n",
    "        credit_original[i]['home_ownership'] = 2\n",
    "    elif credit_original[i]['home_ownership'] == 'OWN':\n",
    "        credit_original[i]['home_ownership'] = 3\n",
    "    elif credit_original[i]['home_ownership'] == 'OTHER':\n",
    "        credit_original[i]['home_ownership'] = 4\n",
    "    elif credit_original[i]['home_ownership'] == 'ANY':\n",
    "        credit_original[i]['home_ownership'] = 5\n",
    "print('Unique values in home_ownership after cleaning: ', set(credit_original.get_column_data('home_ownership')))"
   ]
  },
  {
   "cell_type": "markdown",
   "metadata": {},
   "source": [
    "#### `verification_status` attribute\n",
    "\n",
    "Encode `verification_status` as follows:\n",
    "* **0**: Not Verified\n",
    "* **1**: Verified\n",
    "* **2**: Source Verified"
   ]
  },
  {
   "cell_type": "code",
   "execution_count": 13,
   "metadata": {},
   "outputs": [
    {
     "name": "stdout",
     "output_type": "stream",
     "text": [
      "Unique values in verification_status after cleaning:  {0, 1, 2}\n"
     ]
    }
   ],
   "source": [
    "for i in range(credit_original.row_count()):\n",
    "    if credit_original[i]['verification_status'] == 'Not Verified':\n",
    "        credit_original[i]['verification_status'] = 0\n",
    "    elif credit_original[i]['verification_status'] == 'Source Verified':\n",
    "        credit_original[i]['verification_status'] = 1\n",
    "    elif credit_original[i]['verification_status'] == 'Verified':\n",
    "        credit_original[i]['verification_status'] = 2\n",
    "print('Unique values in verification_status after cleaning: ', set(credit_original.get_column_data('verification_status')))"
   ]
  },
  {
   "cell_type": "markdown",
   "metadata": {},
   "source": [
    "#### `issue_d` attribute\n",
    "For this attribute, I will check the data to make sure the values are conformed in the YY-MM format"
   ]
  },
  {
   "cell_type": "code",
   "execution_count": 14,
   "metadata": {},
   "outputs": [],
   "source": [
    "issue_d_attr = credit_original.get_column_data('issue_d')\n",
    "for i in range(len(issue_d_attr)):\n",
    "    try:\n",
    "        period = issue_d_attr[i].split('-')\n",
    "    except:\n",
    "        print(f'Error in row {i}: ', credit_original[i])\n",
    "\n",
    "    if len(period[0]) == 1:\n",
    "        credit_original[i]['last_pymnt_d'] = '0' + issue_d_attr[i]\n",
    "    \n",
    "    if len(period[1]) != 3:\n",
    "        print(f'Error in row {i}: ', credit_original[i])"
   ]
  },
  {
   "cell_type": "markdown",
   "metadata": {},
   "source": [
    "#### `pymnt_plan` attribute\n",
    "I will encode `pymnt_plan` as follows:\n",
    "* **0**: No\n",
    "* **1**: Yes"
   ]
  },
  {
   "cell_type": "code",
   "execution_count": 16,
   "metadata": {},
   "outputs": [
    {
     "name": "stdout",
     "output_type": "stream",
     "text": [
      "Unique values in `pymnt_plan` attribute:  {0, 1}\n"
     ]
    }
   ],
   "source": [
    "for i in range(credit_original.row_count()):\n",
    "    if credit_original[i]['pymnt_plan'] == 'n':\n",
    "        credit_original[i]['pymnt_plan'] = 0\n",
    "    elif credit_original[i]['pymnt_plan'] == 'y':\n",
    "        credit_original[i]['pymnt_plan'] = 1\n",
    "print('Unique values in `pymnt_plan` attribute: ', set(credit_original.get_column_data('pymnt_plan')))"
   ]
  },
  {
   "cell_type": "markdown",
   "metadata": {},
   "source": [
    "#### `last_pymt_d` attribute\n",
    "Convert the attribute so that the values are conformed in the YY-MMM format"
   ]
  },
  {
   "cell_type": "code",
   "execution_count": 17,
   "metadata": {},
   "outputs": [],
   "source": [
    "last_pymnt_attr = credit_original.get_column_data('last_pymnt_d')\n",
    "for i in range(len(last_pymnt_attr)):\n",
    "    try:\n",
    "        period = last_pymnt_attr[i].split('-')\n",
    "    except:\n",
    "        print(f'Error in row {i}: ', credit_original[i])\n",
    "\n",
    "    if len(period[0]) == 1:\n",
    "        credit_original[i]['last_pymnt_d'] = '0' + last_pymnt_attr[i]\n",
    "    \n",
    "    if len(period[1]) != 3:\n",
    "        print(f'Error in row {i}: ', credit_original[i])"
   ]
  },
  {
   "cell_type": "markdown",
   "metadata": {},
   "source": [
    "### Data Visualization\n",
    "#### Ammount of Different Loan Status\n",
    "\n",
    "The result below illustrates the total number of different loan risk. This dataset is highly skewed towards low risk loans. This might be a problem as the classifier will be biased towards low risk loans. I will need to be careful when selecting the training and testing sets."
   ]
  },
  {
   "cell_type": "code",
   "execution_count": 18,
   "metadata": {},
   "outputs": [
    {
     "name": "stdout",
     "output_type": "stream",
     "text": [
      "Number of High Risk: 60415, corresponding to 6.83% of the dataset\n",
      "Number of Medium Risk: 14713, corresponding to 1.66% of the dataset\n",
      "Number of Low Risk: 809502, corresponding to 91.51% of the dataset\n"
     ]
    }
   ],
   "source": [
    "print(\"Number of High Risk: \" + str(high) + \", corresponding to \" + str(round(high / credit_original.row_count() * 100, 2)) + \"% of the dataset\")\n",
    "print(\"Number of Medium Risk: \" + str(medium) + \", corresponding to \" + str(round(medium / credit_original.row_count() * 100, 2)) + \"% of the dataset\")\n",
    "print(\"Number of Low Risk: \" + str(low) + \", corresponding to \" + str(round(low / credit_original.row_count() * 100, 2)) + \"% of the dataset\")"
   ]
  },
  {
   "cell_type": "code",
   "execution_count": 19,
   "metadata": {},
   "outputs": [
    {
     "data": {
      "image/png": "[encoded data removed]",
      "text/plain": [
       "<Figure size 640x480 with 1 Axes>"
      ]
     },
     "metadata": {},
     "output_type": "display_data"
    }
   ],
   "source": [
    "bar_chart([low, medium, high], ['Low Risk', 'Medium Risk', 'High Risk'], 'Loan Status', 'Number of Loans', 'Loan Status Amount by Category')"
   ]
  },
  {
   "cell_type": "markdown",
   "metadata": {},
   "source": [
    "The figure above, Figure 1 of the Loan Status Amount by Category, highlights a big skew in the dataset. This will have a big impact on the classifier as it will most liklely be biased towards low risk loans. I will need to be careful when selecting the training and testing sets."
   ]
  },
  {
   "cell_type": "markdown",
   "metadata": {},
   "source": [
    "#### Loan Amount Distribution\n",
    "\n",
    "The graph below suggests that the loan amount is skewed towards the left. This means that most of the loans are small, between $2,500 and $17,000. \n"
   ]
  },
  {
   "cell_type": "code",
   "execution_count": 20,
   "metadata": {},
   "outputs": [
    {
     "data": {
      "image/png": "[encoded data removed]",
      "text/plain": [
       "<Figure size 640x480 with 1 Axes>"
      ]
     },
     "metadata": {},
     "output_type": "display_data"
    }
   ],
   "source": [
    "histogram(credit_original, 'loan_amnt', 15, 'Loan Amount', 'Number of Loans', 'Loan Amount Distribution')"
   ]
  },
  {
   "cell_type": "markdown",
   "metadata": {},
   "source": [
    "Figure 2, Loan Amount Distribution"
   ]
  },
  {
   "cell_type": "markdown",
   "metadata": {},
   "source": [
    "#### Loan Amount Distribution by Loan Status\n",
    "The distribution of the loan amount by loan status is similar to the overall distribution, with the median values of each loan status being around $13,000 and $15,000."
   ]
  },
  {
   "cell_type": "code",
   "execution_count": 21,
   "metadata": {},
   "outputs": [
    {
     "data": {
      "image/png": "[encoded data removed]",
      "text/plain": [
       "<Figure size 640x480 with 1 Axes>"
      ]
     },
     "metadata": {},
     "output_type": "display_data"
    }
   ],
   "source": [
    "loan_amnt_col = credit_original.get_column_data('loan_amnt')\n",
    "loan_status_col = credit_original.get_column_data('loan_status')\n",
    "\n",
    "loan_amnt_low_risk = [loan_amnt_col[i] for i in range(len(loan_amnt_col)) if loan_status_col[i] == 1]\n",
    "loan_amnt_medium_risk = [loan_amnt_col[i] for i in range(len(loan_amnt_col)) if loan_status_col[i] == 2]\n",
    "loan_amnt_high_risk = [loan_amnt_col[i] for i in range(len(loan_amnt_col)) if loan_status_col[i] == 3]\n",
    "\n",
    "box_plot([loan_amnt_low_risk, loan_amnt_medium_risk, loan_amnt_high_risk], ['Low Risk', 'Medium Risk', 'High Risk'], 'Loan Status', 'Loan Amount', 'Loan Amount Distribution by Loan Status')"
   ]
  },
  {
   "cell_type": "markdown",
   "metadata": {},
   "source": [
    "Figure 3, Loan Amount Distribution by Loan Status. We see that the distribution is pretty similar across all loan status."
   ]
  },
  {
   "cell_type": "markdown",
   "metadata": {},
   "source": [
    "## Zillow Home Value Index Dataset\n",
    "\n",
    "The Zillow Home Value Index dataset contains the median home value index for each zip code in the United States. The dataset contains 294 attributes and 26,368 instances. The first 7 attributes are location details, while the remaining 285 attributes are the median home value index for each month from 2000 to 2023. Here are the following attributes:\n",
    "* **RegionID**: Unique identifier for the region.\n",
    "* **SizeRank**: Rank of the region based on median home value index.\n",
    "* **RegionName**: Zip code.\n",
    "* **City**: City name.\n",
    "* **StateName**: State name.\n",
    "* **Metro**: Metro area name.\n",
    "* **CountyName**: County name.\n",
    "\n",
    "For the remaining 285 attributes, the attribute name is the month-year of the median home value index. And since the Credit Risk dataset only contains data from 2007 to 2015, I will remove those attributes that are not within the range from the Zillow dataset. After all, there are 110 attributes left, with 7 of them being location details, and the remainings are time series values."
   ]
  },
  {
   "cell_type": "code",
   "execution_count": 3,
   "metadata": {},
   "outputs": [
    {
     "data": {
      "text/plain": [
       "  RegionID    SizeRank    RegionName  StateName    City          Metro                                    07-Jun    07-Jul    07-Aug    07-Sep    07-Oct    07-Nov    07-Dec    08-Jan    08-Feb    08-Mar    08-Apr    08-May    08-Jun    08-Jul    08-Aug    08-Sep    08-Oct    08-Nov    08-Dec    09-Jan    09-Feb    09-Mar    09-Apr    09-May    09-Jun    09-Jul    09-Aug    09-Sep    09-Oct    09-Nov    09-Dec    10-Jan    10-Feb    10-Mar    10-Apr    10-May    10-Jun    10-Jul    10-Aug    10-Sep    10-Oct    10-Nov    10-Dec    11-Jan    11-Feb    11-Mar    11-Apr    11-May    11-Jun    11-Jul    11-Aug    11-Sep    11-Oct    11-Nov    11-Dec    12-Jan    12-Feb    12-Mar    12-Apr    12-May    12-Jun    12-Jul    12-Aug    12-Sep    12-Oct    12-Nov    12-Dec    13-Jan    13-Feb    13-Mar    13-Apr    13-May    13-Jun    13-Jul    13-Aug    13-Sep    13-Oct    13-Nov    13-Dec    14-Jan    14-Feb    14-Mar    14-Apr    14-May    14-Jun    14-Jul    14-Aug    14-Sep    14-Oct    14-Nov    14-Dec    15-Jan    15-Feb    15-Mar    15-Apr    15-May    15-Jun    15-Jul    15-Aug    15-Sep    15-Oct    15-Nov    15-Dec    16-Jan\n",
       "----------  ----------  ------------  -----------  ------------  -------------------------------------  --------  --------  --------  --------  --------  --------  --------  --------  --------  --------  --------  --------  --------  --------  --------  --------  --------  --------  --------  --------  --------  --------  --------  --------  --------  --------  --------  --------  --------  --------  --------  --------  --------  --------  --------  --------  --------  --------  --------  --------  --------  --------  --------  --------  --------  --------  --------  --------  --------  --------  --------  --------  --------  --------  --------  --------  --------  --------  --------  --------  --------  --------  --------  --------  --------  --------  --------  --------  --------  --------  --------  --------  --------  --------  --------  --------  --------  --------  --------  --------  --------  --------  --------  --------  --------  --------  --------  --------  --------  --------  --------  --------  --------  --------  --------  --------  --------  --------  --------  --------  --------  --------  --------  --------\n",
       "     91982           1         77494  TX           Katy          Houston-The Woodlands-Sugar Land, TX     240953    241514    242530    243767    244946    245661    246586    246935    247089    246541    246048    245839    246097    246678    246919    246611    245480    244157    243116    242620    243074    243920    245076    245518    245862    246345    246686    246610    246825    247551    248547    249455    250603    252425    254010    255280    255842    255479    254527    252293    250157    248187    247254    247138    247191    246968    246442    245819    245674    245478    244882    244337    243859    243997    243864    244530    245574    247057    248107    248872    249751    250603    251719    252764    253810    254845    255692    256864    258141    259886    261771    263997    266739    269836    273288    276947    280563    283942    286577    288665    290359    292183    293996    295704    297048    298604    300834    304345    307879    311276    313579    315980    318136    320440    322252    324003    325201    326152    326649    327384    328089    328644    328522    328197\n",
       "     61148           2          8701  NJ           Lakewood      New York-Newark-Jersey City, NY-NJ-PA    316111    314519    312605    310730    308534    305345    302392    300847    300225    299053    295182    290555    286689    284365    282234    279752    276882    273981    271706    269160    266376    262862    260284    257971    256066    254059    252610    251451    250984    250756    250839    250356    250069    249837    249929    247547    243954    239648    237478    235863    234324    232873    231942    231406    230622    229740    228105    226074    223590    220945    218789    217047    216221    215114    213798    212772    212661    213536    214513    216056    217818    219687    220853    221576    221831    222310    223028    224200    225120    225666    226524    228168    230868    233817    236690    239067    240721    242201    243475    244936    246110    247875    250438    253716    256155    257693    258806    260342    262176    263758    265012    266543    268306    270409    272532    275454    278725    282180    285627    289481    293263    297200    300693    304227\n",
       "     91940           3         77449  TX           Katy          Houston-The Woodlands-Sugar Land, TX     125121    125626    126163    126671    127069    127258    127269    126779    126042    125278    124846    124424    123978    123563    122893    121936    120915    119950    118896    117828    117241    117003    116989    117020    117184    117538    117774    117928    117821    117857    118054    118163    118236    118409    118827    119187    119211    118626    117524    116445    115573    115019    114557    114063    113394    112407    111379    110586    110046    109814    109685    109447    109007    108052    107080    106486    106411    106500    106591    106833    107309    107790    108303    108714    109117    109495    109729    110096    110539    111501    112615    114000    115503    117232    119104    120862    122632    124244    125701    127017    128430    129886    131218    132304    133321    134467    135750    137090    138330    139836    141402    143200    144808    146478    147947    149285    150553    151767    153129    154436    155729    156939    158119    159306\n",
       "     62080           4         11368  NY           New York      New York-Newark-Jersey City, NY-NJ-PA    358294    357181    356192    356450    358886    360134    361468    360387    358277    354061    350859    348755    348028    347147    345704    342351    339349    335899    328549    317648    306117    299385    296243    294085    292431    289852    287332    285161    283325    282635    282143    282002    280919    279242    277999    277588    278635    279271    280099    281315    283388    284364    284098    284037    284666    285193    284788    284254    284272    284688    285358    284978    283940    282554    282075    281374    280775    280197    280634    281417    283179    286440    289165    290209    289061    288374    288368    288824    288947    288420    287440    287013    289347    293858    297456    300318    302743    306611    309172    311714    314120    316745    318443    321273    325379    330517    333744    336592    339843    344537    347743    350183    351581    353889    355948    358031    359646    362483    366637    372201    376986    381050    386243    391821\n",
       "     91733           5         77084  TX           Houston       Houston-The Woodlands-Sugar Land, TX     123815    124264    124779    125141    125532    125799    126048    125725    125156    124473    124178    123884    123574    123229    122757    122088    121461    120808    120144    119378    119051    118950    119090    119286    119616    120098    120429    120563    120324    120241    120352    120483    120552    120712    121027    121309    121268    120663    119524    118362    117428    116802    116298    115839    115307    114473    113717    113136    112753    112521    112424    112358    112141    111384    110649    110303    110425    110517    110421    110295    110399    110639    111037    111489    111867    112150    112217    112386    112709    113488    114422    115664    117026    118573    120115    121441    122761    124048    125417    126763    128149    129620    130974    132271    133397    134622    135827    136980    138064    139433    140967    142705    144331    146001    147519    148889    150216    151425    152631    153588    154430    155319    156335    157557\n",
       "     93144           6         79936  TX           El Paso       El Paso, TX                              129881    131429    132410    132950    133341    134004    134521    133976    132838    131533    130903    130292    129573    128554    127527    126797    126587    126523    126116    125572    125195    124877    124325    123695    123223    123065    122906    122765    122628    122677    122924    123626    124083    124468    124257    124289    124023    123690    123223    122999    122680    122360    121930    121561    121220    121096    121254    121219    120838    120435    120223    119963    119572    119214    119146    119337    119191    118729    118038    117764    117664    117706    117702    117669    117452    117050    116770    116810    117165    117645    117936    118152    118281    118415    118428    118114    117607    117146    116954    117213    117457    117884    118154    118502    118679    118852    118990    118992    118679    118366    118190    118262    118389    118763    119283    119780    120118    120426    120995    121451    121734    121629    121547    121519\n",
       "     62093           7         11385  NY           New York      New York-Newark-Jersey City, NY-NJ-PA    520708    518576    515338    513155    513574    514167    515898    517459    517676    515657    512199    507757    504251    501147    498047    493140    488390    483933    479005    473866    468799    464703    461205    457435    453530    448195    443820    441588    439505    439110    438452    438536    437906    436934    437119    437497    438891    439802    440367    441149    442371    442866    441900    441633    441406    441718    440337    438420    435774    433917    432688    432052    431489    430947    430433    429343    428356    427406    427794    429636    432655    436189    439165    441438    442501    443138    443334    443256    443877    444560    446382    448485    452881    457730    462347    466629    471124    475728    478914    480712    483097    486454    492265    497944    503342    506743    509314    512598    516669    522295    527252    530964    533610    535089    537473    540442    545057    550169    555633    562023    567802    572965    578219    584421\n",
       "     92593           8         78660  TX           Pflugerville  Austin-Round Rock-Georgetown, TX         169842    170468    171069    171823    172670    173600    174686    175431    175583    175602    175657    175821    175493    175142    174622    174073    173326    171854    170393    169229    168748    168321    167679    167266    167020    166920    166809    166623    166318    166399    166569    166488    166244    166033    166224    166444    166586    166318    165793    165168    164426    163412    162379    161670    161185    160933    160993    161003    160744    160133    160003    160015    159972    159512    158821    158488    158538    159189    160207    161034    161849    162372    163019    163858    165099    166442    167515    168391    169414    170717    172092    173263    174525    175722    177008    178215    179587    181114    182512    183879    185104    186363    187634    189068    190664    192269    193876    195517    197121    198870    200441    202330    204123    206102    207710    209103    210605    212251    214195    216002    217767    219484    221297    223455\n",
       "     62019           9         11208  NY           New York      New York-Newark-Jersey City, NY-NJ-PA    424716    425847    428800    427610    426518    426676    429068    432756    435719    439245    438636    435621    433598    433177    434144    431902    425343    416121    408034    401738    394797    386643    377297    366505    357449    350841    346450    341521    337050    336625    338105    340582    342526    340289    336826    332381    332447    332787    331399    329136    327563    324893    321417    317915    316287    316185    316692    317547    318601    317432    316506    314064    313063    311317    310139    308317    306599    305657    307194    309649    310774    310876    310031    311726    312112    311470    309817    309240    310091    310476    311720    314377    317345    319799    320708    323905    326725    330352    333010    335712    338877    341451    344687    348385    350732    351948    351529    353746    355779    359075    362107    364910    368158    371071    376746    382707    386830    390484    393713    399261    403719    407426    411360    414448\n",
       "     95992          10         90011  CA           Los Angeles   Los Angeles-Long Beach-Anaheim, CA       353108    352731    351379    349382    346445    343471    340088    337790    334439    329298    321674    312387    303338    294092    284876    275974    264216    250830    235479    225435    217817    213071    206065    199135    190126    181703    174773    170692    167969    166460    164898    164000    162671    162493    162861    164412    165460    166411    166217    166220    166091    166813    167983    168220    168268    166167    164521    161955    161536    161429    161558    161038    160646    160369    160375    159495    158547    156527    154994    153968    153579    154000    155314    157673    160712    163861    167611    169795    170914    170285    170884    173160    177605    183291    189645    196774    203901    209461    214509    216914    218775    218984    220327    222371    224498    226810    230243    235210    241141    247117    252615    255395    256270    255620    256195    257417    259029    260110    259990    258979    257824    256388    255476    257912"
      ]
     },
     "execution_count": 3,
     "metadata": {},
     "output_type": "execute_result"
    }
   ],
   "source": [
    "zillow_original = DataTable([\"RegionID\", \"SizeRank\", \"RegionName\", \"StateName\", \"City\", \"Metro\", \"07-Jun\", \"07-Jul\", \"07-Aug\", \"07-Sep\", \"07-Oct\", \"07-Nov\", \"07-Dec\", \"08-Jan\", \"08-Feb\", \"08-Mar\", \"08-Apr\", \"08-May\", \"08-Jun\", \"08-Jul\", \"08-Aug\", \"08-Sep\", \"08-Oct\", \"08-Nov\", \"08-Dec\", \"09-Jan\", \"09-Feb\", \"09-Mar\", \"09-Apr\", \"09-May\", \"09-Jun\", \"09-Jul\", \"09-Aug\", \"09-Sep\", \"09-Oct\", \"09-Nov\", \"09-Dec\", \"10-Jan\", \"10-Feb\", \"10-Mar\", \"10-Apr\", \"10-May\", \"10-Jun\", \"10-Jul\", \"10-Aug\", \"10-Sep\", \"10-Oct\", \"10-Nov\", \"10-Dec\", \"11-Jan\", \"11-Feb\", \"11-Mar\", \"11-Apr\", \"11-May\", \"11-Jun\", \"11-Jul\", \"11-Aug\", \"11-Sep\", \"11-Oct\", \"11-Nov\", \"11-Dec\", \"12-Jan\", \"12-Feb\", \"12-Mar\", \"12-Apr\", \"12-May\", \"12-Jun\", \"12-Jul\", \"12-Aug\", \"12-Sep\", \"12-Oct\", \"12-Nov\", \"12-Dec\", \"13-Jan\", \"13-Feb\", \"13-Mar\", \"13-Apr\", \"13-May\", \"13-Jun\", \"13-Jul\", \"13-Aug\", \"13-Sep\", \"13-Oct\", \"13-Nov\", \"13-Dec\", \"14-Jan\", \"14-Feb\", \"14-Mar\", \"14-Apr\", \"14-May\", \"14-Jun\", \"14-Jul\", \"14-Aug\", \"14-Sep\", \"14-Oct\", \"14-Nov\", \"14-Dec\", \"15-Jan\", \"15-Feb\", \"15-Mar\", \"15-Apr\", \"15-May\", \"15-Jun\", \"15-Jul\", \"15-Aug\", \"15-Sep\", \"15-Oct\", \"15-Nov\", \"15-Dec\", \"16-Jan\"])\n",
    "zillow_original.load('dataset/zhvi.csv')\n",
    "zillow_original.rows(range(10))"
   ]
  },
  {
   "cell_type": "markdown",
   "metadata": {},
   "source": [
    "I do not plan to perform any additional cleaning on this dataset as it is already clean. However, I will need to merge this dataset with the Credit Risk dataset."
   ]
  },
  {
   "cell_type": "markdown",
   "metadata": {},
   "source": [
    "## Merging Datasets\n",
    "\n",
    "I plan to merge `Credit Risk Analysis` and `Zillow Home Value Index` datasets on the `zip_code` attribute. However, the `zip_code` attribute in the `Credit Risk Analysis` dataset only contains the first 3 numbers of the zip code, while the `zip_code` attribute in the `Zillow Home Value Index` dataset contains the full zip code. Therefore, I will need to remove the last 2 numbers of the `zip_code` attribute in the `Zillow Home Value Index` dataset.\n",
    "\n",
    "At the same time, I will caculate the average median house value for a given zip code in `Zillow Home Value Index` dataset from the point when a loan was issued to the last payment month. This will be used to concatenate with the `Credit Risk Analysis` dataset.\n",
    "\n",
    "Another note that the algorithm below takes a really long time to run, at approximately 1 hour. Therefore, I will save the merged dataset to a csv file and load it in the next section."
   ]
  },
  {
   "cell_type": "code",
   "execution_count": 24,
   "metadata": {},
   "outputs": [],
   "source": [
    "home_value = DataTable(['home_value'])\n",
    "home_value.load('dataset/home_value.csv')"
   ]
  },
  {
   "cell_type": "markdown",
   "metadata": {},
   "source": [
    "Joining two datasets"
   ]
  },
  {
   "cell_type": "code",
   "execution_count": 25,
   "metadata": {},
   "outputs": [],
   "source": [
    "combined = DataTable.concat(credit_original, home_value, axis=1)"
   ]
  },
  {
   "cell_type": "code",
   "execution_count": 27,
   "metadata": {},
   "outputs": [
    {
     "name": "stdout",
     "output_type": "stream",
     "text": [
      "Number of rows:  884630\n",
      "Number of columns:  35\n"
     ]
    }
   ],
   "source": [
    "print('Number of rows: ', combined.row_count())\n",
    "print('Number of columns: ', combined.column_count())"
   ]
  },
  {
   "cell_type": "code",
   "execution_count": 28,
   "metadata": {},
   "outputs": [
    {
     "data": {
      "text/plain": [
       "     id    loan_amnt    term    int_rate    installment    grade    emp_length    home_ownership    annual_inc    verification_status  issue_d      loan_status    pymnt_plan  zip_code    addr_state      dti    delinq_2yrs  earliest_cr_line      inq_last_6mths    open_acc    revol_bal    revol_util    total_acc    out_prncp    total_pymnt    total_rec_prncp    total_rec_int    total_rec_late_fee    recoveries    collection_recovery_fee  last_pymnt_d      last_pymnt_amnt  next_pymnt_d    last_credit_pull_d      home_value\n",
       "-------  -----------  ------  ----------  -------------  -------  ------------  ----------------  ------------  ---------------------  ---------  -------------  ------------  ----------  ------------  -----  -------------  ------------------  ----------------  ----------  -----------  ------------  -----------  -----------  -------------  -----------------  ---------------  --------------------  ------------  -------------------------  --------------  -----------------  --------------  --------------------  ------------\n",
       "1077501         5000      36       10.65         162.87        2            10                 2         24000                      2  11-Dec                 1             0  860xx       AZ            27.65              0  Jan-85                             1           3        13648          83.7            9         0           5861.07            5000              861.07                  0             0                          0     15-Jan                     171.62                  16-Jan                    263720\n",
       "1077430         2500      60       15.27          59.83        3             0                 2         30000                      1  11-Dec                 3             0  309xx       GA             1                 0  Apr-99                             5           3         1687           9.4            4         0           1008.71             456.46           435.17                  0           117.08                       1.11  13-Apr                     119.66                  13-Sep                         0\n",
       "1077175         2400      36       15.96          84.33        3            10                 2         12252                      0  11-Dec                 1             0  606xx       IL             8.72              0  1-Nov                              2           2         2956          98.5           10         0           3003.65            2400              603.65                  0             0                          0     14-Jun                     649.91                  16-Jan                     97321.2\n",
       "1076863        10000      36       13.49         339.31        3            10                 2         49200                      1  11-Dec                 1             0  917xx       CA            20                 0  Feb-96                             1          10         5598          21             37         0          12226.3            10000             2209.33                 16.97          0                          0     15-Jan                     357.48                  15-Jan                    328105\n",
       "1075358         3000      60       12.69          67.79        2             1                 2         80000                      1  11-Dec                 1             0  972xx       OR            17.94              0  Jan-96                             0          15        27783          53.9           38       766.9         3242.17            2233.1           1009.07                  0             0                          0     16-Jan                      67.79  16-Feb          16-Jan                    402784\n",
       "1075269         5000      36        7.9          156.46        1             3                 2         36000                      1  11-Dec                 1             0  852xx       AZ            11.2               0  4-Nov                              3           9         7963          28.3           12         0           5631.38            5000              631.38                  0             0                          0     15-Jan                     161.03                  15-Sep                    163562\n",
       "1069639         7000      60       15.96         170.08        3             8                 2         47004                      0  11-Dec                 1             0  280xx       NC            23.51              0  5-Jul                              1           7        17726          85.6           11      1889.15        8136.84            5110.85          3025.99                  0             0                          0     16-Jan                     170.08  16-Feb          16-Jan                    173733\n",
       "1072053         3000      36       18.64         109.43        5             9                 2         48000                      1  11-Dec                 1             0  900xx       CA             5.35              0  7-Jan                              2           4         8221          87.5            4         0           3938.14            3000              938.14                  0             0                          0     15-Jan                     111.34                  14-Dec                    190852\n",
       "1071795         5600      60       21.28         152.39        6             4                 3         40000                      1  11-Dec                 3             0  958xx       CA             5.55              0  4-Apr                              2          11         5210          32.6           13         0            646.02             162.02           294.94                  0           189.06                       2.09  12-Apr                     152.39                  12-Aug                    105468\n",
       "1071570         5375      60       12.69         121.45        2             0                 2         15000                      2  11-Dec                 3             0  774xx       TX            18.08              0  4-Sep                              0           2         9279          36.5            3         0           1476.19             673.48           533.42                  0           269.29                       2.52  12-Nov                     121.45                  13-Mar                    248804"
      ]
     },
     "execution_count": 28,
     "metadata": {},
     "output_type": "execute_result"
    }
   ],
   "source": [
    "combined.rows(range(10))"
   ]
  },
  {
   "cell_type": "markdown",
   "metadata": {},
   "source": [
    "## Cleaning the Merged Dataset"
   ]
  },
  {
   "cell_type": "markdown",
   "metadata": {},
   "source": [
    "Since we have already joined the home values, I will drop the `zip_code`, `addr_state`, `issue_d` and `last_pymnt_d` attributes. I also drop `id`, `earliest_cr_line`, `next_pymnt_d` and `last_credit_pull_d` since it is not useful for our analysis. This will also help speed up the actual training process."
   ]
  },
  {
   "cell_type": "code",
   "execution_count": 29,
   "metadata": {},
   "outputs": [],
   "source": [
    "combined.drop(['issue_d', 'last_pymnt_d', 'zip_code', 'addr_state', 'id', 'earliest_cr_line', 'next_pymnt_d', 'last_credit_pull_d'])"
   ]
  },
  {
   "cell_type": "markdown",
   "metadata": {},
   "source": [
    "The table now only consists of continuous attribute. I will drop the rows that have missing values. I also drop rows that have value 0 in `home_value` attribute and rows that have missing values in all attributes."
   ]
  },
  {
   "cell_type": "code",
   "execution_count": 30,
   "metadata": {},
   "outputs": [],
   "source": [
    "combine_cleaned = DataTable(combined.columns())\n",
    "\n",
    "for row in range(combined.row_count()):\n",
    "    try:\n",
    "        if combined[row]['home_value'] != 0:\n",
    "            valid_row = True\n",
    "            for col in combined.columns():\n",
    "                if combined[row][col] == '':\n",
    "                    valid_row = False\n",
    "                    break\n",
    "            if valid_row:\n",
    "                combine_cleaned.append(combined[row].values())\n",
    "    except IndexError:\n",
    "        break"
   ]
  },
  {
   "cell_type": "code",
   "execution_count": 31,
   "metadata": {},
   "outputs": [
    {
     "name": "stdout",
     "output_type": "stream",
     "text": [
      "Number of rows after cleaning: 780087\n",
      "Number of columns after cleaning: 27\n"
     ]
    }
   ],
   "source": [
    "print('Number of rows after cleaning:', combine_cleaned.row_count())\n",
    "print('Number of columns after cleaning:', combine_cleaned.column_count())"
   ]
  },
  {
   "cell_type": "markdown",
   "metadata": {},
   "source": [
    "## Normalizing the Merged Dataset"
   ]
  },
  {
   "cell_type": "markdown",
   "metadata": {},
   "source": [
    "As some of the attributes have a large range of values, which can be bad for the KNN classifier, I will normalize the data. I will use the min-max normalization method."
   ]
  },
  {
   "cell_type": "code",
   "execution_count": 32,
   "metadata": {},
   "outputs": [
    {
     "name": "stdout",
     "output_type": "stream",
     "text": [
      "  loan_amnt    term    int_rate    installment    grade    emp_length    home_ownership    annual_inc    verification_status    loan_status    pymnt_plan          dti    delinq_2yrs    inq_last_6mths    open_acc    revol_bal    revol_util    total_acc    out_prncp    total_pymnt    total_rec_prncp    total_rec_int    total_rec_late_fee    recoveries    collection_recovery_fee    last_pymnt_amnt    home_value\n",
      "-----------  ------  ----------  -------------  -------  ------------  ----------------  ------------  ---------------------  -------------  ------------  -----------  -------------  ----------------  ----------  -----------  ------------  -----------  -----------  -------------  -----------------  ---------------  --------------------  ------------  -------------------------  -----------------  ------------\n",
      "  0.117647       36    0.22518       0.100309         2            10                 2    0.00252632                      2              1             0  0.00276528               0                 1   0.0224719   0.00469837          83.7   0.0419162     0              0.101442          0.142857          0.0355731             0            0                         0                   0.00470506     0.150089\n",
      "  0.0411765      36    0.449514      0.0452164        3            10                 2    0.00128968                      0              1             0  0.000872087              0                 2   0.011236    0.00101761          98.5   0.0479042     0              0.0519865         0.0685714         0.0249384             0            0                         0                   0.0178177      0.0508095\n",
      "  0.264706       36    0.345163      0.224076         3            10                 2    0.00517895                      1              1             0  0.0020002                0                 1   0.101124    0.00192713          21     0.209581      0              0.21161           0.285714          0.0912734             0.0473124    0                         0                   0.00980053     0.188503\n",
      "  0.0588235      60    0.311365      0.0336142        2             1                 2    0.00842105                      1              1             0  0.00179418               0                 0   0.157303    0.0095644           53.9   0.215569      0.0155328      0.0561147         0.0638028         0.0416874             0            0                         0                   0.0018585      0.233059\n",
      "  0.117647       36    0.108999      0.095813         1             3                 2    0.00378947                      1              1             0  0.00112011               0                 3   0.0898876   0.00274129          28.3   0.0598802     0              0.0974665         0.142857          0.026084              0            0                         0                   0.00441473     0.0903313\n",
      "  0.176471       60    0.449514      0.105367         3             8                 2    0.00494779                      0              1             0  0.00235124               0                 1   0.0674157   0.00610224          85.6   0.0538922     0.0382629      0.14083           0.146024          0.125012              0            0                         0                   0.00466284     0.0963994\n",
      "  0.0588235      36    0.562738      0.0628231        5             9                 2    0.00505263                      1              1             0  0.000535054              0                 2   0.0337079   0.00283011          87.5   0.011976      0              0.0681604         0.0857142         0.0387571             0            0                         0                   0.00305245     0.106613\n",
      "  0.135294       60    0.674271      0.092958         6             4                 3    0.00421053                      1              3             0  0.000555056              0                 2   0.11236     0.00179356          32.6   0.0658683     0              0.0111812         0.00462914        0.0121848             0            0.00592655                0.000298478         0.00417786     0.0556704\n",
      "  0.128676       60    0.311365      0.0712547        2             0                 2    0.00157895                      2              3             0  0.00180818               0                 0   0.011236    0.00319433          36.5   0.00598802    0              0.0255495         0.0192423         0.022037              0            0.00844156                0.000359887         0.00332962     0.141189\n",
      "  0.161765       60    0.39417       0.0937016        3             5                 3    0.00757895                      0              1             0  0.00161216               0                 2   0.146067    0.00138803          20.6   0.125749      0              0.132881          0.185714          0.0486466             0            0                         0                   0.0453876      0.0542671\n"
     ]
    }
   ],
   "source": [
    "normalize(combine_cleaned, ['loan_amnt', 'int_rate', 'installment', 'annual_inc', 'dti', 'open_acc', 'revol_bal', 'revol_bal', 'total_acc', 'out_prncp', 'total_pymnt', 'total_rec_prncp', 'total_rec_int', 'total_rec_late_fee', 'recoveries', 'collection_recovery_fee', 'last_pymnt_amnt', 'home_value'])\n",
    "print(combine_cleaned.rows(range(10)))"
   ]
  },
  {
   "cell_type": "markdown",
   "metadata": {},
   "source": [
    "## Splitting the Merged Dataset and Feature Selection\n",
    "\n",
    "### Splitting the Merged Dataset\n",
    "Since this dataset is too large for a local machine to effectively train, I decided to use a sample of the data only. I will use the stratified holdout method, which allows me to sample the data but still maintain the original distribution. On top of that, the algorithm is fairly simple and fast, comparing to stratified k-fold cross validation, which is more expensive to run on such a big dataset\n",
    "\n",
    "I will get 0.2% of the merged dataset, and use it as the new \"initial\" set. This means I will set the \"test_set_size\" to be 0.998. This would not make sense in reality to have such an imbalanced training and testing set, but it is fine to leverage this to get a more manageable dataset."
   ]
  },
  {
   "cell_type": "code",
   "execution_count": 67,
   "metadata": {},
   "outputs": [],
   "source": [
    "compressed = stratified_holdout(combine_cleaned, 'loan_status', test_set_size=combine_cleaned.row_count() * 0.998)\n",
    "compressed = compressed[0]"
   ]
  },
  {
   "cell_type": "code",
   "execution_count": 68,
   "metadata": {},
   "outputs": [
    {
     "name": "stdout",
     "output_type": "stream",
     "text": [
      "Number of rows in training set: 1561\n"
     ]
    }
   ],
   "source": [
    "print('Number of rows in training set:', compressed.row_count())"
   ]
  },
  {
   "cell_type": "markdown",
   "metadata": {},
   "source": [
    "### Feature Selection\n",
    "\n",
    "I tried to run a correlation heatmap on this result; however, it took too long to run. So, I decided to compare it with my previous run in `project_part3.ipynb`, where the sample size I selected was smaller. Figure 4 will show the result of the correlation heatmap below"
   ]
  },
  {
   "cell_type": "code",
   "execution_count": 69,
   "metadata": {},
   "outputs": [
    {
     "data": {
      "text/plain": [
       "  loan_amnt    term    int_rate    installment    grade    emp_length    home_ownership    annual_inc    verification_status    loan_status    pymnt_plan          dti    delinq_2yrs    inq_last_6mths    open_acc    revol_bal    revol_util    total_acc    out_prncp    total_pymnt    total_rec_prncp    total_rec_int    total_rec_late_fee    recoveries    collection_recovery_fee    last_pymnt_amnt    home_value\n",
       "-----------  ------  ----------  -------------  -------  ------------  ----------------  ------------  ---------------------  -------------  ------------  -----------  -------------  ----------------  ----------  -----------  ------------  -----------  -----------  -------------  -----------------  ---------------  --------------------  ------------  -------------------------  -----------------  ------------\n",
       "  0.220588       36    0.269962       0.183279        2             0                 2    0.00263158                      1              1             0  0.00121912               0                 0   0.0786517   0.00221734          59.1    0.0598802            0      0.175193           0.242857         0.0670179                     0             0                          0        0.0159446       0.0732985\n",
       "  0.352941       36    0.504858       0.312411        4             6                 2    0.00705263                      2              1             0  0.00206121               0                 1   0.202247    0.00566882          45      0.125749             0      0.289775           0.371428         0.154614                      0             0                          0        0.0131573       0.154183\n",
       "  0.323529       36    0.311365       0.268429        2            10                 2    0.00503579                      0              1             0  0.000973097              0                 1   0.0786517   0.001902            80.1    0.185629             0      0.250512           0.342857         0.102207                      0             0                          0        0.000513768     0.102386\n",
       "  0.132353       36    0.151246       0.108573        1             0                 2    0.00315789                      1              1             0  0.000848085              0                 0   0.0449438   0.00198979          64.7    0.0299401            0      0.101461           0.157143         0.0149618                     0             0                          0        0.11765         0.0829712\n",
       "  0.558824       60    0.616392       0.357052        5            10                 2    0.0184211                       2              1             0  0.00140214               1                 0   0.0449438   0.0065749           66.3    0.203593             0      0.39033            0.571428         0.105443                      0             0                          0        0.350888        0.211298\n",
       "  0.852941       36    0.517955       0.742429        4             6                 1    0.0210526                       2              1             0  0.00059906               0                 2   0.123596    0.00520718          44.6    0.143713             0      0.633418           0.857142         0.272555                      0             0                          0        0.472303        0.0555078\n",
       "  0.176471       36    0.193916       0.144298        2            10                 2    0.00473684                      0              1             0  0.000739074              0                 3   0.157303    0.00275231          42.3    0.215569             0      0.135295           0.2              0.0337521                     0             0                          0        0.109558        0.0484838\n",
       "  0.0441176      36    0.197296       0.042642        2             6                 2    0.00557895                      0              1             0  0.00144914               0                 1   0.0786517   0.00384118          40.7    0.131737             0      0.050226           0.0714285        0.0166052                     0             0                          0        0.00243971      0.234393\n",
       "  0.323529       36    0.197296       0.257634        2             4                 2    0.00631579                      1              1             0  0.00145015               0                 0   0.134831    0.00667404          56.7    0.0778443            0      0.220342           0.342857         0.0301913                     0             0                          0        0.274931        0.0805325\n",
       "  0.117647       36    0.133925       0.096767        1            10                 1    0.0126316                       1              1             0  0.000686069              0                 2   0.0337079   0                    0      0.0658683            0      0.0982749          0.142857         0.0280133                     0             0                          0        0.00485256      0.135409"
      ]
     },
     "execution_count": 69,
     "metadata": {},
     "output_type": "execute_result"
    }
   ],
   "source": [
    "compressed.rows(range(10))\n"
   ]
  },
  {
   "cell_type": "markdown",
   "metadata": {},
   "source": [
    "![Figure 4](heatmap.png)"
   ]
  },
  {
   "cell_type": "markdown",
   "metadata": {},
   "source": [
    "Figure 4, Correlation Heatmap of all attributes"
   ]
  },
  {
   "cell_type": "markdown",
   "metadata": {},
   "source": [
    "Based on the heatmap, I decided to cut down on some attributes\n",
    "* `pymnt_plan`: All people should have their own payment plan, so it would not make sense to use this attribute to predict the loan status.\n",
    "\n",
    "Besides, since nearly all attributes share decent correlation with each other, I will drop some attributes that have the least correlation with `loan_status` to boose efficiency:\n",
    "* `delinq_2yrs`\n",
    "* `verification_status`\n",
    "* `inq_last_6mths`\n",
    "* `emp_length`\n",
    "* `total_rec_late_fee`\n",
    "* `collection_late_fee`"
   ]
  },
  {
   "cell_type": "code",
   "execution_count": 70,
   "metadata": {},
   "outputs": [],
   "source": [
    "compressed.drop(['pymnt_plan', 'delinq_2yrs', 'verification_status', 'inq_last_6mths', 'total_rec_late_fee', 'emp_length', 'collection_recovery_fee'])"
   ]
  },
  {
   "cell_type": "markdown",
   "metadata": {},
   "source": [
    "# Machine Learning Classifiers"
   ]
  },
  {
   "cell_type": "markdown",
   "metadata": {},
   "source": [
    "## kNN Classifier\n",
    "\n",
    "I use the above `compressed` dataset to train the kNN classifier. I will use the stratified holdout method to split the dataset into training and testing sets. I will use the `loan_status` attribute as the class label, and the remaining attributes as the features. "
   ]
  },
  {
   "cell_type": "code",
   "execution_count": 71,
   "metadata": {},
   "outputs": [],
   "source": [
    "train_knn, test_knn = stratified_holdout(compressed, 'loan_status', test_set_size=0.25 * compressed.row_count())"
   ]
  },
  {
   "cell_type": "code",
   "execution_count": 72,
   "metadata": {},
   "outputs": [],
   "source": [
    "result_knn = knn_eval(train_knn, test_knn, majority_vote, 5, 'loan_status', ['loan_amnt', 'term', 'int_rate', 'installment', 'annual_inc', 'dti', 'open_acc', 'revol_bal', 'revol_util', 'total_acc', 'out_prncp', 'total_pymnt', 'total_rec_prncp', 'total_rec_int', 'recoveries', 'last_pymnt_amnt', 'home_value'], ['grade', 'home_ownership'])"
   ]
  },
  {
   "cell_type": "code",
   "execution_count": 73,
   "metadata": {},
   "outputs": [
    {
     "name": "stdout",
     "output_type": "stream",
     "text": [
      "actual      1    2    3    total\n",
      "--------  ---  ---  ---  -------\n",
      "1         360    0    0      360\n",
      "2           2    0    0        2\n",
      "3          26    0    0       26\n",
      "total     388    0    0      388\n"
     ]
    }
   ],
   "source": [
    "print(result_knn)"
   ]
  },
  {
   "cell_type": "code",
   "execution_count": 63,
   "metadata": {},
   "outputs": [],
   "source": [
    "acc, prec, recall, f1 = run_standard_eval_metrices(result_knn)"
   ]
  },
  {
   "cell_type": "code",
   "execution_count": 74,
   "metadata": {},
   "outputs": [
    {
     "name": "stdout",
     "output_type": "stream",
     "text": [
      "Performing kNN algorithm with k = 5\n",
      "Accuracy:  0.9498575498575499\n",
      "Precision:  0.30826210826210826\n",
      "Recall:  1.0\n",
      "F1:  0.4712543554006969\n"
     ]
    }
   ],
   "source": [
    "print('Performing kNN algorithm with k = 5')\n",
    "print('Accuracy: ', acc)\n",
    "print('Precision: ', prec)\n",
    "print('Recall: ', recall)\n",
    "print('F1: ', f1)"
   ]
  },
  {
   "cell_type": "markdown",
   "metadata": {},
   "source": [
    "The result seems to be too good. However, it is worth noting that the dataset is highly skewed towards low risk loans. This means that the classifier will be biased towards low risk loans. Besides, the dataset is a more managed version of the original dataset, so it is expected that the classifier will perform better.\n",
    "\n",
    "Besides, also another point to note is that these perfomance metrics are a macro-average version. This means that it will not account for the classes that have zero instances.\n",
    "\n",
    "However, this is not considered a good result as the classifier can just guess \"1\" for all instances and still get a roughly 95% accuracy. "
   ]
  },
  {
   "cell_type": "markdown",
   "metadata": {},
   "source": [
    "## Naive Bayes Classifier"
   ]
  },
  {
   "cell_type": "markdown",
   "metadata": {},
   "source": [
    "I also use the above `compressed` dataset to train the Naive Bayes classifier. I tried to use the stratified holdout method to split the dataset into training and testing sets at first; however, it took too long to run. Therefore, I decided to switch back to stratified holdout from KNN method instead. I will use the `loan_status` attribute as the class label, and the remaining attributes as the features."
   ]
  },
  {
   "cell_type": "code",
   "execution_count": 86,
   "metadata": {},
   "outputs": [],
   "source": [
    "result_nbayes = naive_bayes_eval(train_knn, test_knn, 'loan_status', ['loan_amnt', 'term', 'int_rate', 'installment', 'annual_inc', 'dti', 'open_acc', 'revol_bal', 'revol_util', 'total_acc', 'out_prncp', 'total_pymnt', 'total_rec_prncp', 'total_rec_int', 'recoveries', 'last_pymnt_amnt', 'home_value'], ['grade', 'home_ownership'])"
   ]
  },
  {
   "cell_type": "markdown",
   "metadata": {},
   "source": [
    "I decided to terminate the algorithm after 1 hour of running. I was unable to obtain the results. However, I believe that the result will be similar to the kNN classifier, as the dataset is highly skewed towards low risk loans."
   ]
  },
  {
   "cell_type": "markdown",
   "metadata": {},
   "source": [
    "## Decision Tree Classifier\n",
    "\n",
    "I tried using the Decision Tree Classifier for this dataset to see how it turns out. I decided to use the same dataset as the kNN as they are really similar. Both are sampled using Stratified Holdout."
   ]
  },
  {
   "cell_type": "code",
   "execution_count": 77,
   "metadata": {},
   "outputs": [],
   "source": [
    "result_tree = tdidt_eval(train_knn, test_knn, 'loan_status', ['grade', 'home_ownership'])"
   ]
  },
  {
   "cell_type": "code",
   "execution_count": 78,
   "metadata": {},
   "outputs": [
    {
     "name": "stdout",
     "output_type": "stream",
     "text": [
      "actual      1    2    3    total\n",
      "--------  ---  ---  ---  -------\n",
      "1         360    0    0      360\n",
      "2           2    0    0        2\n",
      "3          26    0    0       26\n",
      "total     388    0    0      388\n"
     ]
    }
   ],
   "source": [
    "print(result_tree)"
   ]
  },
  {
   "cell_type": "code",
   "execution_count": 79,
   "metadata": {},
   "outputs": [],
   "source": [
    "acc, prec, recall, f1 = run_standard_eval_metrices(result_knn)"
   ]
  },
  {
   "cell_type": "code",
   "execution_count": 80,
   "metadata": {},
   "outputs": [
    {
     "name": "stdout",
     "output_type": "stream",
     "text": [
      "Performing kNN algorithm with k = 5\n",
      "Accuracy:  0.9518900343642612\n",
      "Precision:  0.30927835051546393\n",
      "Recall:  1.0\n",
      "F1:  0.47244094488188976\n"
     ]
    }
   ],
   "source": [
    "print('Performing kNN algorithm with k = 5')\n",
    "print('Accuracy: ', acc)\n",
    "print('Precision: ', prec)\n",
    "print('Recall: ', recall)\n",
    "print('F1: ', f1)"
   ]
  },
  {
   "cell_type": "markdown",
   "metadata": {},
   "source": [
    "Decision Tree yields a similar result to kNN where it labels all of the instances as 1. At the same time, since the dataset it skewed towards 1, it makes sense for it to produce such a result."
   ]
  },
  {
   "cell_type": "markdown",
   "metadata": {},
   "source": [
    "## Random Forest Classifier"
   ]
  },
  {
   "cell_type": "markdown",
   "metadata": {},
   "source": [
    "I tried using the Random Forest Classifier for this dataset to see how it turns out. I feel like it might produce a better result than the Decision Tree Classifier."
   ]
  },
  {
   "cell_type": "code",
   "execution_count": 85,
   "metadata": {},
   "outputs": [
    {
     "name": "stdout",
     "output_type": "stream",
     "text": [
      "actual      1    2    3    total\n",
      "--------  ---  ---  ---  -------\n",
      "1         360    0    0      360\n",
      "2           2    0    0        2\n",
      "3          26    0    0       26\n",
      "total     388    0    0      388\n",
      "Accuracy:  0.9518900343642612\n",
      "Precision:  0.30927835051546393\n",
      "Recall:  1.0\n",
      "F1:  0.47244094488188976\n"
     ]
    }
   ],
   "source": [
    "result_rf = random_forest_eval(compressed, train_knn, test_knn, 1, 10, 20, 'loan_status', ['grade', 'home_ownership'])\n",
    "print(result_rf)\n",
    "acc, prec, rec, f1 = run_standard_eval_metrices(result_rf)\n",
    "print('Accuracy: ', acc)\n",
    "print('Precision: ', prec)\n",
    "print('Recall: ', rec)\n",
    "print('F1: ', f1)"
   ]
  },
  {
   "cell_type": "markdown",
   "metadata": {},
   "source": [
    "I tested several configurations for the Random Forest Classifier, and the result I get is still similar to the Decision Tree Classifier. It labels all of the instances as 1.\n",
    "\n",
    "Although this is not a result I was expected, it makes sense for the classifier to produce such a result. Perhaps if I can get a more balanced dataset, the classifier will perform better."
   ]
  },
  {
   "cell_type": "markdown",
   "metadata": {},
   "source": [
    "# Conclusion"
   ]
  },
  {
   "cell_type": "markdown",
   "metadata": {},
   "source": [
    "## Overview\n",
    "* With this dataset, it appears that model is not able to achieve my intended result. It is not able to predict if someone has a high risk or medium risk as it labels all of the instances as low risk. This is due to the fact that the dataset is highly skewed towards low risk loans.\n",
    "* It is worth noting that though the accuracy of all classifiers are high, it is not a good result as the classifier can just guess \"1\" for all instances and still get a roughly 95% accuracy.\n",
    "\n",
    "## Limitations & Challenges\n",
    "* Probably my largest challenge implementing this project is the run time.\n",
    "* The dataset was originally larger than I was expected. If I were to do this project again, I would probably use a smaller dataset.\n",
    "* Large dataset makes testing and predicting expensive. I had to evaluate everything carefully before running as it can takes hours to run.\n",
    "* In terms of technical wise, my implementations of the function used in this project, though they are adpated from my HW8, they are fixed to reflect some bugs encountered from HW7. I don't expect any bugs to be present in this project, especially those related to Decision Tree.\n",
    "\n",
    "## Next Works\n",
    "* I will probably choose another dataset that is more balanced, or perhaps can find another dataset like the Zillow one that can be merged to the main one and provide more additional information to the original table.\n",
    "* I will consider other approaches to deal with the imbalanced dataset. I realized that the long runtime ended up taking a lot of time from me to try out different approaches.\n",
    "* I will also consider running this project again, but using Pandas since it supports vectorization, which can speed up the process.\n"
   ]
  },
  {
   "cell_type": "markdown",
   "metadata": {},
   "source": []
  }
 ],
 "metadata": {
  "kernelspec": {
   "display_name": "cpsc322",
   "language": "python",
   "name": "python3"
  },
  "language_info": {
   "codemirror_mode": {
    "name": "ipython",
    "version": 3
   },
   "file_extension": ".py",
   "mimetype": "text/x-python",
   "name": "python",
   "nbconvert_exporter": "python",
   "pygments_lexer": "ipython3",
   "version": "3.11.6"
  }
 },
 "nbformat": 4,
 "nbformat_minor": 2
}
