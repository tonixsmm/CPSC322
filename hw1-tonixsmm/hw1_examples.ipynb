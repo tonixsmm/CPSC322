{
 "cells": [
  {
   "cell_type": "markdown",
   "id": "6d9ec0ee",
   "metadata": {},
   "source": [
    "# CPSC 322: HW-1\n",
    "\n",
    "Name: ***Tony Nguyen***\n",
    "\n",
    "Term: Fall 2023"
   ]
  },
  {
   "cell_type": "markdown",
   "id": "e93409ac",
   "metadata": {},
   "source": [
    "## 1. Load HW-1 functions"
   ]
  },
  {
   "cell_type": "code",
   "execution_count": 1,
   "id": "0e7e9126",
   "metadata": {},
   "outputs": [],
   "source": [
    "from hw1 import *"
   ]
  },
  {
   "cell_type": "markdown",
   "id": "1ce18089",
   "metadata": {},
   "source": [
    "## 2. Tests of the List Stats function"
   ]
  },
  {
   "cell_type": "code",
   "execution_count": 2,
   "id": "d0fc8d58",
   "metadata": {},
   "outputs": [
    {
     "data": {
      "text/plain": [
       "(1, 5, 3.0, 15)"
      ]
     },
     "execution_count": 2,
     "metadata": {},
     "output_type": "execute_result"
    }
   ],
   "source": [
    "list_stats([1,2,3,4,5])"
   ]
  },
  {
   "cell_type": "code",
   "execution_count": 3,
   "id": "1dcd7b75",
   "metadata": {},
   "outputs": [
    {
     "data": {
      "text/plain": [
       "(1, 1, 1.0, 1)"
      ]
     },
     "execution_count": 3,
     "metadata": {},
     "output_type": "execute_result"
    }
   ],
   "source": [
    "list_stats([1])"
   ]
  },
  {
   "cell_type": "code",
   "execution_count": 4,
   "id": "ba734baa",
   "metadata": {},
   "outputs": [
    {
     "data": {
      "text/plain": [
       "(None, None, None, None)"
      ]
     },
     "execution_count": 4,
     "metadata": {},
     "output_type": "execute_result"
    }
   ],
   "source": [
    "list_stats([])"
   ]
  },
  {
   "cell_type": "code",
   "execution_count": 5,
   "id": "959f0851",
   "metadata": {},
   "outputs": [
    {
     "data": {
      "text/plain": [
       "(15, 1563, 381.0, 2667)"
      ]
     },
     "execution_count": 5,
     "metadata": {},
     "output_type": "execute_result"
    }
   ],
   "source": [
    "list_stats([882, 69, 15, 32, 57, 49, 1563])"
   ]
  },
  {
   "cell_type": "markdown",
   "id": "0839ec04",
   "metadata": {},
   "source": [
    "## 3. Tests of the Convert Numeric function"
   ]
  },
  {
   "cell_type": "code",
   "execution_count": 6,
   "id": "7b12dea2",
   "metadata": {},
   "outputs": [
    {
     "data": {
      "text/plain": [
       "'abc'"
      ]
     },
     "execution_count": 6,
     "metadata": {},
     "output_type": "execute_result"
    }
   ],
   "source": [
    "convert_numeric('abc')"
   ]
  },
  {
   "cell_type": "code",
   "execution_count": 7,
   "id": "6879d6f1",
   "metadata": {},
   "outputs": [
    {
     "data": {
      "text/plain": [
       "123"
      ]
     },
     "execution_count": 7,
     "metadata": {},
     "output_type": "execute_result"
    }
   ],
   "source": [
    "convert_numeric('123')"
   ]
  },
  {
   "cell_type": "code",
   "execution_count": 8,
   "id": "b9d64fd6",
   "metadata": {},
   "outputs": [
    {
     "data": {
      "text/plain": [
       "'abc3.14'"
      ]
     },
     "execution_count": 8,
     "metadata": {},
     "output_type": "execute_result"
    }
   ],
   "source": [
    "convert_numeric('abc3.14')"
   ]
  },
  {
   "cell_type": "code",
   "execution_count": 9,
   "id": "d741618d",
   "metadata": {},
   "outputs": [
    {
     "data": {
      "text/plain": [
       "3.14"
      ]
     },
     "execution_count": 9,
     "metadata": {},
     "output_type": "execute_result"
    }
   ],
   "source": [
    "convert_numeric('3.14')"
   ]
  },
  {
   "cell_type": "code",
   "execution_count": 10,
   "id": "bc467e3a",
   "metadata": {},
   "outputs": [
    {
     "data": {
      "text/plain": [
       "'123abc'"
      ]
     },
     "execution_count": 10,
     "metadata": {},
     "output_type": "execute_result"
    }
   ],
   "source": [
    "convert_numeric('123abc')"
   ]
  },
  {
   "cell_type": "code",
   "execution_count": 11,
   "id": "b2b2d35b",
   "metadata": {},
   "outputs": [
    {
     "data": {
      "text/plain": [
       "''"
      ]
     },
     "execution_count": 11,
     "metadata": {},
     "output_type": "execute_result"
    }
   ],
   "source": [
    "convert_numeric('')"
   ]
  },
  {
   "cell_type": "markdown",
   "id": "9e3fa277",
   "metadata": {},
   "source": [
    "## 4. Tests of the Random Matrix function (for loop implementation)"
   ]
  },
  {
   "cell_type": "code",
   "execution_count": 12,
   "id": "6a98e971",
   "metadata": {},
   "outputs": [
    {
     "data": {
      "text/plain": [
       "[[5, 0, 5], [0, 5, 2]]"
      ]
     },
     "execution_count": 12,
     "metadata": {},
     "output_type": "execute_result"
    }
   ],
   "source": [
    "random_matrix_for(2, 3)"
   ]
  },
  {
   "cell_type": "code",
   "execution_count": 13,
   "id": "dedc3384",
   "metadata": {},
   "outputs": [
    {
     "data": {
      "text/plain": [
       "[[2, 0], [2, 1], [2, 3]]"
      ]
     },
     "execution_count": 13,
     "metadata": {},
     "output_type": "execute_result"
    }
   ],
   "source": [
    "random_matrix_for(3, 2)"
   ]
  },
  {
   "cell_type": "code",
   "execution_count": 14,
   "id": "704549a2",
   "metadata": {},
   "outputs": [
    {
     "data": {
      "text/plain": [
       "[[0]]"
      ]
     },
     "execution_count": 14,
     "metadata": {},
     "output_type": "execute_result"
    }
   ],
   "source": [
    "random_matrix_for(1, 1)"
   ]
  },
  {
   "cell_type": "markdown",
   "id": "aa04fce3",
   "metadata": {},
   "source": [
    "## 5. Tests of the Random Matrix function (list-comprehension implementation)"
   ]
  },
  {
   "cell_type": "code",
   "execution_count": 15,
   "id": "f8e7c838",
   "metadata": {},
   "outputs": [
    {
     "data": {
      "text/plain": [
       "[[3, 3, 1], [2, 1, 2]]"
      ]
     },
     "execution_count": 15,
     "metadata": {},
     "output_type": "execute_result"
    }
   ],
   "source": [
    "random_matrix_comp(2, 3)"
   ]
  },
  {
   "cell_type": "code",
   "execution_count": 16,
   "id": "7f8024e0",
   "metadata": {},
   "outputs": [
    {
     "data": {
      "text/plain": [
       "[[5, 1], [3, 2], [5, 0]]"
      ]
     },
     "execution_count": 16,
     "metadata": {},
     "output_type": "execute_result"
    }
   ],
   "source": [
    "random_matrix_comp(3, 2)"
   ]
  },
  {
   "cell_type": "code",
   "execution_count": 17,
   "id": "160a105d",
   "metadata": {},
   "outputs": [
    {
     "data": {
      "text/plain": [
       "[[2], [2], [1]]"
      ]
     },
     "execution_count": 17,
     "metadata": {},
     "output_type": "execute_result"
    }
   ],
   "source": [
    "random_matrix_comp(3, 1)"
   ]
  },
  {
   "cell_type": "markdown",
   "id": "c3b1b29d",
   "metadata": {},
   "source": [
    "## 6. Tests of the Transpose Matrix function"
   ]
  },
  {
   "cell_type": "code",
   "execution_count": 18,
   "id": "8cb9bc6d",
   "metadata": {},
   "outputs": [
    {
     "data": {
      "text/plain": [
       "[[1, 4], [2, 5], [3, 6]]"
      ]
     },
     "execution_count": 18,
     "metadata": {},
     "output_type": "execute_result"
    }
   ],
   "source": [
    "transpose_matrix([[1, 2, 3], [4, 5, 6]])"
   ]
  },
  {
   "cell_type": "code",
   "execution_count": 19,
   "id": "489789e1",
   "metadata": {},
   "outputs": [
    {
     "data": {
      "text/plain": [
       "[[1, 3, 5], [2, 4, 6]]"
      ]
     },
     "execution_count": 19,
     "metadata": {},
     "output_type": "execute_result"
    }
   ],
   "source": [
    "transpose_matrix([[1, 2], [3, 4], [5, 6]])"
   ]
  },
  {
   "cell_type": "code",
   "execution_count": 20,
   "id": "06bb1837",
   "metadata": {},
   "outputs": [
    {
     "data": {
      "text/plain": [
       "[[1, 2, 3]]"
      ]
     },
     "execution_count": 20,
     "metadata": {},
     "output_type": "execute_result"
    }
   ],
   "source": [
    "transpose_matrix([[1], [2], [3]])"
   ]
  },
  {
   "cell_type": "markdown",
   "id": "3655e108",
   "metadata": {},
   "source": [
    "## 7. Tests of the Reshape Matrix function"
   ]
  },
  {
   "cell_type": "code",
   "execution_count": 21,
   "id": "fc98d1e3",
   "metadata": {},
   "outputs": [
    {
     "data": {
      "text/plain": [
       "[[1, 2], [4, 5], [0, 0]]"
      ]
     },
     "execution_count": 21,
     "metadata": {},
     "output_type": "execute_result"
    }
   ],
   "source": [
    "reshape_matrix([[1, 2, 3], [4, 5, 6]], 3, 2)"
   ]
  },
  {
   "cell_type": "code",
   "execution_count": 22,
   "id": "6b8ec729",
   "metadata": {},
   "outputs": [
    {
     "data": {
      "text/plain": [
       "[[1, 2, 3], [4, 5, 6]]"
      ]
     },
     "execution_count": 22,
     "metadata": {},
     "output_type": "execute_result"
    }
   ],
   "source": [
    "reshape_matrix([[1, 2, 3], [4, 5, 6]], 2, 3)"
   ]
  },
  {
   "cell_type": "code",
   "execution_count": 23,
   "id": "5665aa80",
   "metadata": {},
   "outputs": [
    {
     "data": {
      "text/plain": [
       "[[1, 2, 3, 0, 0], [4, 5, 6, 0, 0], [0, 0, 0, 0, 0], [0, 0, 0, 0, 0]]"
      ]
     },
     "execution_count": 23,
     "metadata": {},
     "output_type": "execute_result"
    }
   ],
   "source": [
    "reshape_matrix([[1, 2, 3], [4, 5, 6]], 4, 5)"
   ]
  },
  {
   "cell_type": "code",
   "execution_count": 24,
   "id": "1abe419e",
   "metadata": {},
   "outputs": [
    {
     "data": {
      "text/plain": [
       "[[1]]"
      ]
     },
     "execution_count": 24,
     "metadata": {},
     "output_type": "execute_result"
    }
   ],
   "source": [
    "reshape_matrix([[1, 2, 3], [4, 5, 6]], 1, 1)"
   ]
  },
  {
   "cell_type": "code",
   "execution_count": 25,
   "id": "cba93435",
   "metadata": {},
   "outputs": [
    {
     "data": {
      "text/plain": [
       "[[1], [4], [0], [0], [0], [0]]"
      ]
     },
     "execution_count": 25,
     "metadata": {},
     "output_type": "execute_result"
    }
   ],
   "source": [
    "reshape_matrix([[1, 2, 3], [4, 5, 6]], 6, 1)"
   ]
  },
  {
   "cell_type": "markdown",
   "id": "d3970ac4",
   "metadata": {},
   "source": [
    "## 8. Challenges and Issues\n",
    "\n",
    "List any major challenges here that you ran across with the homework or issues you ran into that you weren't able to address. If you didn't have any issues or challenges, list any observations you have regarding the functions and/or the notebook, etc. "
   ]
  },
  {
   "cell_type": "markdown",
   "id": "cf91b8d0",
   "metadata": {},
   "source": [
    "I don't have any major issues while working with this homework assignment or jupyter notebook. However, I would like to point out one notable question that I have with jupyter notebook. I used to use `importlib.reload(hw1)` to force the `hw1.py` file to reload every time I run the file to make sure new changes have been adopted. However, in order for the program to do so, I need to do `import hw1` instead of `from hw1 import *`. Is there a way to get around with it? The only option that I am aware is to restart the kernal every time a change has been made, which is quite time consuming."
   ]
  }
 ],
 "metadata": {
  "kernelspec": {
   "display_name": "Python 3 (ipykernel)",
   "language": "python",
   "name": "python3"
  },
  "language_info": {
   "codemirror_mode": {
    "name": "ipython",
    "version": 3
   },
   "file_extension": ".py",
   "mimetype": "text/x-python",
   "name": "python",
   "nbconvert_exporter": "python",
   "pygments_lexer": "ipython3",
   "version": "3.11.0"
  }
 },
 "nbformat": 4,
 "nbformat_minor": 5
}
